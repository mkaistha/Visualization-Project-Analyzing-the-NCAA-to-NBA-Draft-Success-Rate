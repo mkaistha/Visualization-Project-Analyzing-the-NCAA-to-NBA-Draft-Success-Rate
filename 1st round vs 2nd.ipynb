{
 "cells": [
  {
   "cell_type": "code",
   "execution_count": 114,
   "id": "76769d69",
   "metadata": {},
   "outputs": [],
   "source": [
    "import pandas as pd\n",
    "import numpy as np\n",
    "import matplotlib\n",
    "import matplotlib.pyplot as plt\n",
    "import seaborn as sns\n",
    "%matplotlib inline"
   ]
  },
  {
   "cell_type": "code",
   "execution_count": 115,
   "id": "9a99b028",
   "metadata": {},
   "outputs": [
    {
     "data": {
      "text/html": [
       "<div>\n",
       "<style scoped>\n",
       "    .dataframe tbody tr th:only-of-type {\n",
       "        vertical-align: middle;\n",
       "    }\n",
       "\n",
       "    .dataframe tbody tr th {\n",
       "        vertical-align: top;\n",
       "    }\n",
       "\n",
       "    .dataframe thead th {\n",
       "        text-align: right;\n",
       "    }\n",
       "</style>\n",
       "<table border=\"1\" class=\"dataframe\">\n",
       "  <thead>\n",
       "    <tr style=\"text-align: right;\">\n",
       "      <th></th>\n",
       "      <th>Rk</th>\n",
       "      <th>Pk</th>\n",
       "      <th>Tm</th>\n",
       "      <th>Player</th>\n",
       "      <th>College</th>\n",
       "      <th>Yrs</th>\n",
       "      <th>G</th>\n",
       "      <th>MP</th>\n",
       "      <th>PTS</th>\n",
       "      <th>TRB</th>\n",
       "      <th>...</th>\n",
       "      <th>3P%</th>\n",
       "      <th>FT%</th>\n",
       "      <th>MP.1</th>\n",
       "      <th>PTS.1</th>\n",
       "      <th>TRB.1</th>\n",
       "      <th>AST.1</th>\n",
       "      <th>WS</th>\n",
       "      <th>WS/48</th>\n",
       "      <th>BPM</th>\n",
       "      <th>VORP</th>\n",
       "    </tr>\n",
       "  </thead>\n",
       "  <tbody>\n",
       "    <tr>\n",
       "      <th>0</th>\n",
       "      <td>1.0</td>\n",
       "      <td>1.0</td>\n",
       "      <td>NOP</td>\n",
       "      <td>Zion Williamson</td>\n",
       "      <td>Duke</td>\n",
       "      <td>2.0</td>\n",
       "      <td>85.0</td>\n",
       "      <td>2694.0</td>\n",
       "      <td>2187.0</td>\n",
       "      <td>591.0</td>\n",
       "      <td>...</td>\n",
       "      <td>0.333</td>\n",
       "      <td>0.683</td>\n",
       "      <td>31.7</td>\n",
       "      <td>25.7</td>\n",
       "      <td>7.0</td>\n",
       "      <td>3.2</td>\n",
       "      <td>10.6</td>\n",
       "      <td>0.189</td>\n",
       "      <td>4.6</td>\n",
       "      <td>4.5</td>\n",
       "    </tr>\n",
       "    <tr>\n",
       "      <th>1</th>\n",
       "      <td>2.0</td>\n",
       "      <td>2.0</td>\n",
       "      <td>MEM</td>\n",
       "      <td>Ja Morant</td>\n",
       "      <td>Murray State</td>\n",
       "      <td>3.0</td>\n",
       "      <td>149.0</td>\n",
       "      <td>4746.0</td>\n",
       "      <td>2855.0</td>\n",
       "      <td>617.0</td>\n",
       "      <td>...</td>\n",
       "      <td>0.323</td>\n",
       "      <td>0.754</td>\n",
       "      <td>31.9</td>\n",
       "      <td>19.2</td>\n",
       "      <td>4.1</td>\n",
       "      <td>7.3</td>\n",
       "      <td>8.8</td>\n",
       "      <td>0.089</td>\n",
       "      <td>0.2</td>\n",
       "      <td>2.7</td>\n",
       "    </tr>\n",
       "    <tr>\n",
       "      <th>2</th>\n",
       "      <td>3.0</td>\n",
       "      <td>3.0</td>\n",
       "      <td>NYK</td>\n",
       "      <td>RJ Barrett</td>\n",
       "      <td>Duke</td>\n",
       "      <td>3.0</td>\n",
       "      <td>149.0</td>\n",
       "      <td>4871.0</td>\n",
       "      <td>2362.0</td>\n",
       "      <td>817.0</td>\n",
       "      <td>...</td>\n",
       "      <td>0.361</td>\n",
       "      <td>0.684</td>\n",
       "      <td>32.7</td>\n",
       "      <td>15.9</td>\n",
       "      <td>5.5</td>\n",
       "      <td>2.7</td>\n",
       "      <td>3.8</td>\n",
       "      <td>0.038</td>\n",
       "      <td>-2.9</td>\n",
       "      <td>-1.1</td>\n",
       "    </tr>\n",
       "    <tr>\n",
       "      <th>3</th>\n",
       "      <td>4.0</td>\n",
       "      <td>4.0</td>\n",
       "      <td>LAL</td>\n",
       "      <td>De'Andre Hunter</td>\n",
       "      <td>Virginia</td>\n",
       "      <td>3.0</td>\n",
       "      <td>97.0</td>\n",
       "      <td>3002.0</td>\n",
       "      <td>1241.0</td>\n",
       "      <td>426.0</td>\n",
       "      <td>...</td>\n",
       "      <td>0.352</td>\n",
       "      <td>0.782</td>\n",
       "      <td>30.9</td>\n",
       "      <td>12.8</td>\n",
       "      <td>4.4</td>\n",
       "      <td>1.7</td>\n",
       "      <td>1.8</td>\n",
       "      <td>0.028</td>\n",
       "      <td>-3.5</td>\n",
       "      <td>-1.2</td>\n",
       "    </tr>\n",
       "    <tr>\n",
       "      <th>4</th>\n",
       "      <td>5.0</td>\n",
       "      <td>5.0</td>\n",
       "      <td>CLE</td>\n",
       "      <td>Darius Garland</td>\n",
       "      <td>Vanderbilt</td>\n",
       "      <td>3.0</td>\n",
       "      <td>133.0</td>\n",
       "      <td>4307.0</td>\n",
       "      <td>2039.0</td>\n",
       "      <td>292.0</td>\n",
       "      <td>...</td>\n",
       "      <td>0.371</td>\n",
       "      <td>0.856</td>\n",
       "      <td>32.4</td>\n",
       "      <td>15.3</td>\n",
       "      <td>2.2</td>\n",
       "      <td>5.3</td>\n",
       "      <td>1.2</td>\n",
       "      <td>0.014</td>\n",
       "      <td>-3.0</td>\n",
       "      <td>-1.1</td>\n",
       "    </tr>\n",
       "  </tbody>\n",
       "</table>\n",
       "<p>5 rows × 22 columns</p>\n",
       "</div>"
      ],
      "text/plain": [
       "    Rk   Pk   Tm           Player       College  Yrs      G      MP     PTS  \\\n",
       "0  1.0  1.0  NOP  Zion Williamson          Duke  2.0   85.0  2694.0  2187.0   \n",
       "1  2.0  2.0  MEM        Ja Morant  Murray State  3.0  149.0  4746.0  2855.0   \n",
       "2  3.0  3.0  NYK       RJ Barrett          Duke  3.0  149.0  4871.0  2362.0   \n",
       "3  4.0  4.0  LAL  De'Andre Hunter      Virginia  3.0   97.0  3002.0  1241.0   \n",
       "4  5.0  5.0  CLE   Darius Garland    Vanderbilt  3.0  133.0  4307.0  2039.0   \n",
       "\n",
       "     TRB  ...    3P%    FT%  MP.1  PTS.1  TRB.1  AST.1    WS  WS/48  BPM  VORP  \n",
       "0  591.0  ...  0.333  0.683  31.7   25.7    7.0    3.2  10.6  0.189  4.6   4.5  \n",
       "1  617.0  ...  0.323  0.754  31.9   19.2    4.1    7.3   8.8  0.089  0.2   2.7  \n",
       "2  817.0  ...  0.361  0.684  32.7   15.9    5.5    2.7   3.8  0.038 -2.9  -1.1  \n",
       "3  426.0  ...  0.352  0.782  30.9   12.8    4.4    1.7   1.8  0.028 -3.5  -1.2  \n",
       "4  292.0  ...  0.371  0.856  32.4   15.3    2.2    5.3   1.2  0.014 -3.0  -1.1  \n",
       "\n",
       "[5 rows x 22 columns]"
      ]
     },
     "execution_count": 115,
     "metadata": {},
     "output_type": "execute_result"
    }
   ],
   "source": [
    "draft = pd.read_csv(\"2019 Draft.csv\")\n",
    "draft.head()"
   ]
  },
  {
   "cell_type": "code",
   "execution_count": 116,
   "id": "094ebd97",
   "metadata": {},
   "outputs": [],
   "source": [
    "draft['Pk'].astype('int', errors='ignore')\n",
    "draft = draft.astype({'Pk': 'str'})"
   ]
  },
  {
   "cell_type": "code",
   "execution_count": 117,
   "id": "87a38b92",
   "metadata": {
    "scrolled": true
   },
   "outputs": [
    {
     "data": {
      "text/html": [
       "<div>\n",
       "<style scoped>\n",
       "    .dataframe tbody tr th:only-of-type {\n",
       "        vertical-align: middle;\n",
       "    }\n",
       "\n",
       "    .dataframe tbody tr th {\n",
       "        vertical-align: top;\n",
       "    }\n",
       "\n",
       "    .dataframe thead th {\n",
       "        text-align: right;\n",
       "    }\n",
       "</style>\n",
       "<table border=\"1\" class=\"dataframe\">\n",
       "  <thead>\n",
       "    <tr style=\"text-align: right;\">\n",
       "      <th></th>\n",
       "      <th>Rk</th>\n",
       "      <th>Pk</th>\n",
       "      <th>Tm</th>\n",
       "      <th>Player</th>\n",
       "      <th>College</th>\n",
       "      <th>Yrs</th>\n",
       "      <th>G</th>\n",
       "      <th>MP</th>\n",
       "      <th>PTS</th>\n",
       "      <th>TRB</th>\n",
       "      <th>...</th>\n",
       "      <th>3P%</th>\n",
       "      <th>FT%</th>\n",
       "      <th>MP.1</th>\n",
       "      <th>PTS.1</th>\n",
       "      <th>TRB.1</th>\n",
       "      <th>AST.1</th>\n",
       "      <th>WS</th>\n",
       "      <th>WS/48</th>\n",
       "      <th>BPM</th>\n",
       "      <th>VORP</th>\n",
       "    </tr>\n",
       "  </thead>\n",
       "  <tbody>\n",
       "    <tr>\n",
       "      <th>0</th>\n",
       "      <td>1.0</td>\n",
       "      <td>1.0</td>\n",
       "      <td>NOP</td>\n",
       "      <td>Zion Williamson</td>\n",
       "      <td>Duke</td>\n",
       "      <td>2.0</td>\n",
       "      <td>85.0</td>\n",
       "      <td>2694.0</td>\n",
       "      <td>2187.0</td>\n",
       "      <td>591.0</td>\n",
       "      <td>...</td>\n",
       "      <td>0.333</td>\n",
       "      <td>0.683</td>\n",
       "      <td>31.7</td>\n",
       "      <td>25.7</td>\n",
       "      <td>7.0</td>\n",
       "      <td>3.2</td>\n",
       "      <td>10.6</td>\n",
       "      <td>0.189</td>\n",
       "      <td>4.6</td>\n",
       "      <td>4.5</td>\n",
       "    </tr>\n",
       "    <tr>\n",
       "      <th>1</th>\n",
       "      <td>2.0</td>\n",
       "      <td>2.0</td>\n",
       "      <td>MEM</td>\n",
       "      <td>Ja Morant</td>\n",
       "      <td>Murray State</td>\n",
       "      <td>3.0</td>\n",
       "      <td>149.0</td>\n",
       "      <td>4746.0</td>\n",
       "      <td>2855.0</td>\n",
       "      <td>617.0</td>\n",
       "      <td>...</td>\n",
       "      <td>0.323</td>\n",
       "      <td>0.754</td>\n",
       "      <td>31.9</td>\n",
       "      <td>19.2</td>\n",
       "      <td>4.1</td>\n",
       "      <td>7.3</td>\n",
       "      <td>8.8</td>\n",
       "      <td>0.089</td>\n",
       "      <td>0.2</td>\n",
       "      <td>2.7</td>\n",
       "    </tr>\n",
       "    <tr>\n",
       "      <th>2</th>\n",
       "      <td>3.0</td>\n",
       "      <td>3.0</td>\n",
       "      <td>NYK</td>\n",
       "      <td>RJ Barrett</td>\n",
       "      <td>Duke</td>\n",
       "      <td>3.0</td>\n",
       "      <td>149.0</td>\n",
       "      <td>4871.0</td>\n",
       "      <td>2362.0</td>\n",
       "      <td>817.0</td>\n",
       "      <td>...</td>\n",
       "      <td>0.361</td>\n",
       "      <td>0.684</td>\n",
       "      <td>32.7</td>\n",
       "      <td>15.9</td>\n",
       "      <td>5.5</td>\n",
       "      <td>2.7</td>\n",
       "      <td>3.8</td>\n",
       "      <td>0.038</td>\n",
       "      <td>-2.9</td>\n",
       "      <td>-1.1</td>\n",
       "    </tr>\n",
       "    <tr>\n",
       "      <th>3</th>\n",
       "      <td>4.0</td>\n",
       "      <td>4.0</td>\n",
       "      <td>LAL</td>\n",
       "      <td>De'Andre Hunter</td>\n",
       "      <td>Virginia</td>\n",
       "      <td>3.0</td>\n",
       "      <td>97.0</td>\n",
       "      <td>3002.0</td>\n",
       "      <td>1241.0</td>\n",
       "      <td>426.0</td>\n",
       "      <td>...</td>\n",
       "      <td>0.352</td>\n",
       "      <td>0.782</td>\n",
       "      <td>30.9</td>\n",
       "      <td>12.8</td>\n",
       "      <td>4.4</td>\n",
       "      <td>1.7</td>\n",
       "      <td>1.8</td>\n",
       "      <td>0.028</td>\n",
       "      <td>-3.5</td>\n",
       "      <td>-1.2</td>\n",
       "    </tr>\n",
       "    <tr>\n",
       "      <th>4</th>\n",
       "      <td>5.0</td>\n",
       "      <td>5.0</td>\n",
       "      <td>CLE</td>\n",
       "      <td>Darius Garland</td>\n",
       "      <td>Vanderbilt</td>\n",
       "      <td>3.0</td>\n",
       "      <td>133.0</td>\n",
       "      <td>4307.0</td>\n",
       "      <td>2039.0</td>\n",
       "      <td>292.0</td>\n",
       "      <td>...</td>\n",
       "      <td>0.371</td>\n",
       "      <td>0.856</td>\n",
       "      <td>32.4</td>\n",
       "      <td>15.3</td>\n",
       "      <td>2.2</td>\n",
       "      <td>5.3</td>\n",
       "      <td>1.2</td>\n",
       "      <td>0.014</td>\n",
       "      <td>-3.0</td>\n",
       "      <td>-1.1</td>\n",
       "    </tr>\n",
       "    <tr>\n",
       "      <th>5</th>\n",
       "      <td>6.0</td>\n",
       "      <td>6.0</td>\n",
       "      <td>PHO</td>\n",
       "      <td>Jarrett Culver</td>\n",
       "      <td>Texas Tech</td>\n",
       "      <td>3.0</td>\n",
       "      <td>103.0</td>\n",
       "      <td>2054.0</td>\n",
       "      <td>782.0</td>\n",
       "      <td>323.0</td>\n",
       "      <td>...</td>\n",
       "      <td>0.288</td>\n",
       "      <td>0.509</td>\n",
       "      <td>19.9</td>\n",
       "      <td>7.6</td>\n",
       "      <td>3.1</td>\n",
       "      <td>1.3</td>\n",
       "      <td>-0.1</td>\n",
       "      <td>-0.003</td>\n",
       "      <td>-4.6</td>\n",
       "      <td>-1.4</td>\n",
       "    </tr>\n",
       "    <tr>\n",
       "      <th>6</th>\n",
       "      <td>7.0</td>\n",
       "      <td>7.0</td>\n",
       "      <td>CHI</td>\n",
       "      <td>Coby White</td>\n",
       "      <td>UNC</td>\n",
       "      <td>3.0</td>\n",
       "      <td>143.0</td>\n",
       "      <td>3988.0</td>\n",
       "      <td>1955.0</td>\n",
       "      <td>537.0</td>\n",
       "      <td>...</td>\n",
       "      <td>0.352</td>\n",
       "      <td>0.842</td>\n",
       "      <td>27.9</td>\n",
       "      <td>13.7</td>\n",
       "      <td>3.8</td>\n",
       "      <td>3.6</td>\n",
       "      <td>3.1</td>\n",
       "      <td>0.037</td>\n",
       "      <td>-2.9</td>\n",
       "      <td>-0.9</td>\n",
       "    </tr>\n",
       "    <tr>\n",
       "      <th>7</th>\n",
       "      <td>8.0</td>\n",
       "      <td>8.0</td>\n",
       "      <td>ATL</td>\n",
       "      <td>Jaxson Hayes</td>\n",
       "      <td>Texas</td>\n",
       "      <td>3.0</td>\n",
       "      <td>143.0</td>\n",
       "      <td>2276.0</td>\n",
       "      <td>1033.0</td>\n",
       "      <td>578.0</td>\n",
       "      <td>...</td>\n",
       "      <td>0.379</td>\n",
       "      <td>0.703</td>\n",
       "      <td>15.9</td>\n",
       "      <td>7.2</td>\n",
       "      <td>4.0</td>\n",
       "      <td>0.7</td>\n",
       "      <td>8.0</td>\n",
       "      <td>0.169</td>\n",
       "      <td>-0.2</td>\n",
       "      <td>1.0</td>\n",
       "    </tr>\n",
       "    <tr>\n",
       "      <th>8</th>\n",
       "      <td>9.0</td>\n",
       "      <td>9.0</td>\n",
       "      <td>WAS</td>\n",
       "      <td>Rui Hachimura</td>\n",
       "      <td>Gonzaga</td>\n",
       "      <td>2.0</td>\n",
       "      <td>105.0</td>\n",
       "      <td>3241.0</td>\n",
       "      <td>1438.0</td>\n",
       "      <td>606.0</td>\n",
       "      <td>...</td>\n",
       "      <td>0.313</td>\n",
       "      <td>0.797</td>\n",
       "      <td>30.9</td>\n",
       "      <td>13.7</td>\n",
       "      <td>5.8</td>\n",
       "      <td>1.6</td>\n",
       "      <td>3.9</td>\n",
       "      <td>0.058</td>\n",
       "      <td>-3.3</td>\n",
       "      <td>-1.1</td>\n",
       "    </tr>\n",
       "    <tr>\n",
       "      <th>9</th>\n",
       "      <td>10.0</td>\n",
       "      <td>10.0</td>\n",
       "      <td>ATL</td>\n",
       "      <td>Cam Reddish</td>\n",
       "      <td>Duke</td>\n",
       "      <td>3.0</td>\n",
       "      <td>105.0</td>\n",
       "      <td>2773.0</td>\n",
       "      <td>1143.0</td>\n",
       "      <td>379.0</td>\n",
       "      <td>...</td>\n",
       "      <td>0.323</td>\n",
       "      <td>0.823</td>\n",
       "      <td>26.4</td>\n",
       "      <td>10.9</td>\n",
       "      <td>3.6</td>\n",
       "      <td>1.3</td>\n",
       "      <td>0.7</td>\n",
       "      <td>0.012</td>\n",
       "      <td>-3.7</td>\n",
       "      <td>-1.2</td>\n",
       "    </tr>\n",
       "    <tr>\n",
       "      <th>10</th>\n",
       "      <td>11.0</td>\n",
       "      <td>11.0</td>\n",
       "      <td>MIN</td>\n",
       "      <td>Cameron Johnson</td>\n",
       "      <td>UNC</td>\n",
       "      <td>3.0</td>\n",
       "      <td>138.0</td>\n",
       "      <td>3163.0</td>\n",
       "      <td>1261.0</td>\n",
       "      <td>453.0</td>\n",
       "      <td>...</td>\n",
       "      <td>0.371</td>\n",
       "      <td>0.810</td>\n",
       "      <td>22.9</td>\n",
       "      <td>9.1</td>\n",
       "      <td>3.3</td>\n",
       "      <td>1.3</td>\n",
       "      <td>6.2</td>\n",
       "      <td>0.094</td>\n",
       "      <td>-0.3</td>\n",
       "      <td>1.4</td>\n",
       "    </tr>\n",
       "    <tr>\n",
       "      <th>11</th>\n",
       "      <td>12.0</td>\n",
       "      <td>12.0</td>\n",
       "      <td>CHO</td>\n",
       "      <td>P.J. Washington</td>\n",
       "      <td>Kentucky</td>\n",
       "      <td>3.0</td>\n",
       "      <td>134.0</td>\n",
       "      <td>3994.0</td>\n",
       "      <td>1657.0</td>\n",
       "      <td>790.0</td>\n",
       "      <td>...</td>\n",
       "      <td>0.389</td>\n",
       "      <td>0.700</td>\n",
       "      <td>29.8</td>\n",
       "      <td>12.4</td>\n",
       "      <td>5.9</td>\n",
       "      <td>2.3</td>\n",
       "      <td>5.3</td>\n",
       "      <td>0.063</td>\n",
       "      <td>-1.2</td>\n",
       "      <td>0.8</td>\n",
       "    </tr>\n",
       "    <tr>\n",
       "      <th>12</th>\n",
       "      <td>13.0</td>\n",
       "      <td>13.0</td>\n",
       "      <td>MIA</td>\n",
       "      <td>Tyler Herro</td>\n",
       "      <td>Kentucky</td>\n",
       "      <td>3.0</td>\n",
       "      <td>128.0</td>\n",
       "      <td>3784.0</td>\n",
       "      <td>1971.0</td>\n",
       "      <td>596.0</td>\n",
       "      <td>...</td>\n",
       "      <td>0.378</td>\n",
       "      <td>0.842</td>\n",
       "      <td>29.6</td>\n",
       "      <td>15.4</td>\n",
       "      <td>4.7</td>\n",
       "      <td>3.0</td>\n",
       "      <td>4.3</td>\n",
       "      <td>0.055</td>\n",
       "      <td>-1.1</td>\n",
       "      <td>0.8</td>\n",
       "    </tr>\n",
       "    <tr>\n",
       "      <th>13</th>\n",
       "      <td>14.0</td>\n",
       "      <td>14.0</td>\n",
       "      <td>BOS</td>\n",
       "      <td>Romeo Langford</td>\n",
       "      <td>Indiana</td>\n",
       "      <td>3.0</td>\n",
       "      <td>67.0</td>\n",
       "      <td>976.0</td>\n",
       "      <td>216.0</td>\n",
       "      <td>130.0</td>\n",
       "      <td>...</td>\n",
       "      <td>0.313</td>\n",
       "      <td>0.729</td>\n",
       "      <td>14.6</td>\n",
       "      <td>3.2</td>\n",
       "      <td>1.9</td>\n",
       "      <td>0.5</td>\n",
       "      <td>0.6</td>\n",
       "      <td>0.030</td>\n",
       "      <td>-4.6</td>\n",
       "      <td>-0.6</td>\n",
       "    </tr>\n",
       "    <tr>\n",
       "      <th>15</th>\n",
       "      <td>16.0</td>\n",
       "      <td>16.0</td>\n",
       "      <td>ORL</td>\n",
       "      <td>Chuma Okeke</td>\n",
       "      <td>Auburn</td>\n",
       "      <td>2.0</td>\n",
       "      <td>62.0</td>\n",
       "      <td>1493.0</td>\n",
       "      <td>467.0</td>\n",
       "      <td>250.0</td>\n",
       "      <td>...</td>\n",
       "      <td>0.314</td>\n",
       "      <td>0.794</td>\n",
       "      <td>24.1</td>\n",
       "      <td>7.5</td>\n",
       "      <td>4.0</td>\n",
       "      <td>2.0</td>\n",
       "      <td>1.5</td>\n",
       "      <td>0.047</td>\n",
       "      <td>-1.9</td>\n",
       "      <td>0.0</td>\n",
       "    </tr>\n",
       "    <tr>\n",
       "      <th>16</th>\n",
       "      <td>17.0</td>\n",
       "      <td>17.0</td>\n",
       "      <td>BRK</td>\n",
       "      <td>Nickeil Alexander-Walker</td>\n",
       "      <td>Virginia Tech</td>\n",
       "      <td>3.0</td>\n",
       "      <td>117.0</td>\n",
       "      <td>2292.0</td>\n",
       "      <td>1108.0</td>\n",
       "      <td>327.0</td>\n",
       "      <td>...</td>\n",
       "      <td>0.330</td>\n",
       "      <td>0.735</td>\n",
       "      <td>19.6</td>\n",
       "      <td>9.5</td>\n",
       "      <td>2.8</td>\n",
       "      <td>2.2</td>\n",
       "      <td>0.6</td>\n",
       "      <td>0.013</td>\n",
       "      <td>-2.8</td>\n",
       "      <td>-0.5</td>\n",
       "    </tr>\n",
       "    <tr>\n",
       "      <th>19</th>\n",
       "      <td>20.0</td>\n",
       "      <td>20.0</td>\n",
       "      <td>BOS</td>\n",
       "      <td>Matisse Thybulle</td>\n",
       "      <td>Washington</td>\n",
       "      <td>3.0</td>\n",
       "      <td>145.0</td>\n",
       "      <td>2968.0</td>\n",
       "      <td>655.0</td>\n",
       "      <td>268.0</td>\n",
       "      <td>...</td>\n",
       "      <td>0.327</td>\n",
       "      <td>0.600</td>\n",
       "      <td>20.5</td>\n",
       "      <td>4.5</td>\n",
       "      <td>1.8</td>\n",
       "      <td>1.1</td>\n",
       "      <td>5.8</td>\n",
       "      <td>0.094</td>\n",
       "      <td>1.0</td>\n",
       "      <td>2.3</td>\n",
       "    </tr>\n",
       "    <tr>\n",
       "      <th>20</th>\n",
       "      <td>21.0</td>\n",
       "      <td>21.0</td>\n",
       "      <td>OKC</td>\n",
       "      <td>Brandon Clarke</td>\n",
       "      <td>Gonzaga</td>\n",
       "      <td>3.0</td>\n",
       "      <td>135.0</td>\n",
       "      <td>3004.0</td>\n",
       "      <td>1446.0</td>\n",
       "      <td>754.0</td>\n",
       "      <td>...</td>\n",
       "      <td>0.289</td>\n",
       "      <td>0.718</td>\n",
       "      <td>22.3</td>\n",
       "      <td>10.7</td>\n",
       "      <td>5.6</td>\n",
       "      <td>1.5</td>\n",
       "      <td>10.3</td>\n",
       "      <td>0.165</td>\n",
       "      <td>2.1</td>\n",
       "      <td>3.1</td>\n",
       "    </tr>\n",
       "    <tr>\n",
       "      <th>21</th>\n",
       "      <td>22.0</td>\n",
       "      <td>22.0</td>\n",
       "      <td>BOS</td>\n",
       "      <td>Grant Williams</td>\n",
       "      <td>Tennessee</td>\n",
       "      <td>3.0</td>\n",
       "      <td>154.0</td>\n",
       "      <td>2648.0</td>\n",
       "      <td>694.0</td>\n",
       "      <td>431.0</td>\n",
       "      <td>...</td>\n",
       "      <td>0.348</td>\n",
       "      <td>0.698</td>\n",
       "      <td>17.2</td>\n",
       "      <td>4.5</td>\n",
       "      <td>2.8</td>\n",
       "      <td>1.0</td>\n",
       "      <td>4.3</td>\n",
       "      <td>0.077</td>\n",
       "      <td>-2.7</td>\n",
       "      <td>-0.5</td>\n",
       "    </tr>\n",
       "    <tr>\n",
       "      <th>23</th>\n",
       "      <td>24.0</td>\n",
       "      <td>24.0</td>\n",
       "      <td>PHI</td>\n",
       "      <td>Ty Jerome</td>\n",
       "      <td>Virginia</td>\n",
       "      <td>3.0</td>\n",
       "      <td>82.0</td>\n",
       "      <td>1353.0</td>\n",
       "      <td>579.0</td>\n",
       "      <td>158.0</td>\n",
       "      <td>...</td>\n",
       "      <td>0.374</td>\n",
       "      <td>0.792</td>\n",
       "      <td>16.5</td>\n",
       "      <td>7.1</td>\n",
       "      <td>1.9</td>\n",
       "      <td>2.2</td>\n",
       "      <td>2.0</td>\n",
       "      <td>0.070</td>\n",
       "      <td>-0.9</td>\n",
       "      <td>0.4</td>\n",
       "    </tr>\n",
       "    <tr>\n",
       "      <th>24</th>\n",
       "      <td>25.0</td>\n",
       "      <td>25.0</td>\n",
       "      <td>POR</td>\n",
       "      <td>Nassir Little</td>\n",
       "      <td>UNC</td>\n",
       "      <td>3.0</td>\n",
       "      <td>117.0</td>\n",
       "      <td>1683.0</td>\n",
       "      <td>566.0</td>\n",
       "      <td>348.0</td>\n",
       "      <td>...</td>\n",
       "      <td>0.307</td>\n",
       "      <td>0.746</td>\n",
       "      <td>14.4</td>\n",
       "      <td>4.8</td>\n",
       "      <td>3.0</td>\n",
       "      <td>0.5</td>\n",
       "      <td>2.7</td>\n",
       "      <td>0.076</td>\n",
       "      <td>-2.9</td>\n",
       "      <td>-0.4</td>\n",
       "    </tr>\n",
       "    <tr>\n",
       "      <th>25</th>\n",
       "      <td>26.0</td>\n",
       "      <td>26.0</td>\n",
       "      <td>CLE</td>\n",
       "      <td>Dylan Windler</td>\n",
       "      <td>Belmont</td>\n",
       "      <td>2.0</td>\n",
       "      <td>47.0</td>\n",
       "      <td>695.0</td>\n",
       "      <td>205.0</td>\n",
       "      <td>138.0</td>\n",
       "      <td>...</td>\n",
       "      <td>0.350</td>\n",
       "      <td>0.774</td>\n",
       "      <td>14.8</td>\n",
       "      <td>4.4</td>\n",
       "      <td>2.9</td>\n",
       "      <td>1.1</td>\n",
       "      <td>0.9</td>\n",
       "      <td>0.060</td>\n",
       "      <td>-1.8</td>\n",
       "      <td>0.0</td>\n",
       "    </tr>\n",
       "    <tr>\n",
       "      <th>26</th>\n",
       "      <td>27.0</td>\n",
       "      <td>27.0</td>\n",
       "      <td>BRK</td>\n",
       "      <td>Mfiondu Kabengele</td>\n",
       "      <td>Florida State</td>\n",
       "      <td>2.0</td>\n",
       "      <td>51.0</td>\n",
       "      <td>344.0</td>\n",
       "      <td>137.0</td>\n",
       "      <td>71.0</td>\n",
       "      <td>...</td>\n",
       "      <td>0.314</td>\n",
       "      <td>0.840</td>\n",
       "      <td>6.7</td>\n",
       "      <td>2.7</td>\n",
       "      <td>1.4</td>\n",
       "      <td>0.4</td>\n",
       "      <td>0.4</td>\n",
       "      <td>0.054</td>\n",
       "      <td>-3.3</td>\n",
       "      <td>-0.1</td>\n",
       "    </tr>\n",
       "    <tr>\n",
       "      <th>27</th>\n",
       "      <td>28.0</td>\n",
       "      <td>28.0</td>\n",
       "      <td>GSW</td>\n",
       "      <td>Jordan Poole</td>\n",
       "      <td>Michigan</td>\n",
       "      <td>3.0</td>\n",
       "      <td>129.0</td>\n",
       "      <td>2901.0</td>\n",
       "      <td>1504.0</td>\n",
       "      <td>276.0</td>\n",
       "      <td>...</td>\n",
       "      <td>0.324</td>\n",
       "      <td>0.853</td>\n",
       "      <td>22.5</td>\n",
       "      <td>11.7</td>\n",
       "      <td>2.1</td>\n",
       "      <td>2.3</td>\n",
       "      <td>2.5</td>\n",
       "      <td>0.041</td>\n",
       "      <td>-3.3</td>\n",
       "      <td>-1.0</td>\n",
       "    </tr>\n",
       "    <tr>\n",
       "      <th>28</th>\n",
       "      <td>29.0</td>\n",
       "      <td>29.0</td>\n",
       "      <td>SAS</td>\n",
       "      <td>Keldon Johnson</td>\n",
       "      <td>Kentucky</td>\n",
       "      <td>3.0</td>\n",
       "      <td>105.0</td>\n",
       "      <td>2866.0</td>\n",
       "      <td>1319.0</td>\n",
       "      <td>591.0</td>\n",
       "      <td>...</td>\n",
       "      <td>0.369</td>\n",
       "      <td>0.730</td>\n",
       "      <td>27.3</td>\n",
       "      <td>12.6</td>\n",
       "      <td>5.6</td>\n",
       "      <td>1.7</td>\n",
       "      <td>5.3</td>\n",
       "      <td>0.089</td>\n",
       "      <td>-1.6</td>\n",
       "      <td>0.3</td>\n",
       "    </tr>\n",
       "    <tr>\n",
       "      <th>29</th>\n",
       "      <td>30.0</td>\n",
       "      <td>30.0</td>\n",
       "      <td>MIL</td>\n",
       "      <td>Kevin Porter Jr.</td>\n",
       "      <td>USC</td>\n",
       "      <td>3.0</td>\n",
       "      <td>94.0</td>\n",
       "      <td>2553.0</td>\n",
       "      <td>1165.0</td>\n",
       "      <td>344.0</td>\n",
       "      <td>...</td>\n",
       "      <td>0.322</td>\n",
       "      <td>0.701</td>\n",
       "      <td>27.2</td>\n",
       "      <td>12.4</td>\n",
       "      <td>3.7</td>\n",
       "      <td>4.0</td>\n",
       "      <td>-0.2</td>\n",
       "      <td>-0.003</td>\n",
       "      <td>-4.1</td>\n",
       "      <td>-1.4</td>\n",
       "    </tr>\n",
       "    <tr>\n",
       "      <th>30</th>\n",
       "      <td>31.0</td>\n",
       "      <td>31.0</td>\n",
       "      <td>BRK</td>\n",
       "      <td>Nicolas Claxton</td>\n",
       "      <td>Georgia</td>\n",
       "      <td>3.0</td>\n",
       "      <td>51.0</td>\n",
       "      <td>857.0</td>\n",
       "      <td>304.0</td>\n",
       "      <td>232.0</td>\n",
       "      <td>...</td>\n",
       "      <td>0.167</td>\n",
       "      <td>0.489</td>\n",
       "      <td>16.8</td>\n",
       "      <td>6.0</td>\n",
       "      <td>4.5</td>\n",
       "      <td>0.9</td>\n",
       "      <td>2.5</td>\n",
       "      <td>0.140</td>\n",
       "      <td>-0.4</td>\n",
       "      <td>0.4</td>\n",
       "    </tr>\n",
       "    <tr>\n",
       "      <th>31</th>\n",
       "      <td>32.0</td>\n",
       "      <td>32.0</td>\n",
       "      <td>PHO</td>\n",
       "      <td>KZ Okpala</td>\n",
       "      <td>Stanford</td>\n",
       "      <td>3.0</td>\n",
       "      <td>52.0</td>\n",
       "      <td>536.0</td>\n",
       "      <td>116.0</td>\n",
       "      <td>86.0</td>\n",
       "      <td>...</td>\n",
       "      <td>0.217</td>\n",
       "      <td>0.600</td>\n",
       "      <td>10.3</td>\n",
       "      <td>2.2</td>\n",
       "      <td>1.7</td>\n",
       "      <td>0.4</td>\n",
       "      <td>0.3</td>\n",
       "      <td>0.029</td>\n",
       "      <td>-6.5</td>\n",
       "      <td>-0.6</td>\n",
       "    </tr>\n",
       "    <tr>\n",
       "      <th>32</th>\n",
       "      <td>33.0</td>\n",
       "      <td>33.0</td>\n",
       "      <td>PHI</td>\n",
       "      <td>Carsen Edwards</td>\n",
       "      <td>Purdue</td>\n",
       "      <td>2.0</td>\n",
       "      <td>68.0</td>\n",
       "      <td>627.0</td>\n",
       "      <td>244.0</td>\n",
       "      <td>73.0</td>\n",
       "      <td>...</td>\n",
       "      <td>0.302</td>\n",
       "      <td>0.750</td>\n",
       "      <td>9.2</td>\n",
       "      <td>3.6</td>\n",
       "      <td>1.1</td>\n",
       "      <td>0.6</td>\n",
       "      <td>0.4</td>\n",
       "      <td>0.030</td>\n",
       "      <td>-4.7</td>\n",
       "      <td>-0.4</td>\n",
       "    </tr>\n",
       "    <tr>\n",
       "      <th>33</th>\n",
       "      <td>34.0</td>\n",
       "      <td>34.0</td>\n",
       "      <td>PHI</td>\n",
       "      <td>Bruno Fernando</td>\n",
       "      <td>Maryland</td>\n",
       "      <td>3.0</td>\n",
       "      <td>96.0</td>\n",
       "      <td>952.0</td>\n",
       "      <td>291.0</td>\n",
       "      <td>277.0</td>\n",
       "      <td>...</td>\n",
       "      <td>0.128</td>\n",
       "      <td>0.603</td>\n",
       "      <td>9.9</td>\n",
       "      <td>3.0</td>\n",
       "      <td>2.9</td>\n",
       "      <td>0.6</td>\n",
       "      <td>0.7</td>\n",
       "      <td>0.035</td>\n",
       "      <td>-4.9</td>\n",
       "      <td>-0.7</td>\n",
       "    </tr>\n",
       "    <tr>\n",
       "      <th>35</th>\n",
       "      <td>36.0</td>\n",
       "      <td>36.0</td>\n",
       "      <td>CHO</td>\n",
       "      <td>Cody Martin</td>\n",
       "      <td>Nevada</td>\n",
       "      <td>3.0</td>\n",
       "      <td>122.0</td>\n",
       "      <td>2294.0</td>\n",
       "      <td>614.0</td>\n",
       "      <td>410.0</td>\n",
       "      <td>...</td>\n",
       "      <td>0.305</td>\n",
       "      <td>0.643</td>\n",
       "      <td>18.8</td>\n",
       "      <td>5.0</td>\n",
       "      <td>3.4</td>\n",
       "      <td>1.9</td>\n",
       "      <td>3.6</td>\n",
       "      <td>0.074</td>\n",
       "      <td>-1.3</td>\n",
       "      <td>0.4</td>\n",
       "    </tr>\n",
       "    <tr>\n",
       "      <th>39</th>\n",
       "      <td>40.0</td>\n",
       "      <td>40.0</td>\n",
       "      <td>SAC</td>\n",
       "      <td>Justin James</td>\n",
       "      <td>Wyoming</td>\n",
       "      <td>2.0</td>\n",
       "      <td>72.0</td>\n",
       "      <td>542.0</td>\n",
       "      <td>228.0</td>\n",
       "      <td>62.0</td>\n",
       "      <td>...</td>\n",
       "      <td>0.343</td>\n",
       "      <td>0.544</td>\n",
       "      <td>7.5</td>\n",
       "      <td>3.2</td>\n",
       "      <td>0.9</td>\n",
       "      <td>0.6</td>\n",
       "      <td>0.3</td>\n",
       "      <td>0.024</td>\n",
       "      <td>-3.2</td>\n",
       "      <td>-0.2</td>\n",
       "    </tr>\n",
       "    <tr>\n",
       "      <th>40</th>\n",
       "      <td>41.0</td>\n",
       "      <td>41.0</td>\n",
       "      <td>GSW</td>\n",
       "      <td>Eric Paschall</td>\n",
       "      <td>Villanova</td>\n",
       "      <td>3.0</td>\n",
       "      <td>119.0</td>\n",
       "      <td>2579.0</td>\n",
       "      <td>1288.0</td>\n",
       "      <td>441.0</td>\n",
       "      <td>...</td>\n",
       "      <td>0.297</td>\n",
       "      <td>0.752</td>\n",
       "      <td>21.7</td>\n",
       "      <td>10.8</td>\n",
       "      <td>3.7</td>\n",
       "      <td>1.6</td>\n",
       "      <td>3.5</td>\n",
       "      <td>0.064</td>\n",
       "      <td>-2.8</td>\n",
       "      <td>-0.5</td>\n",
       "    </tr>\n",
       "    <tr>\n",
       "      <th>41</th>\n",
       "      <td>42.0</td>\n",
       "      <td>42.0</td>\n",
       "      <td>PHI</td>\n",
       "      <td>Admiral Schofield</td>\n",
       "      <td>Tennessee</td>\n",
       "      <td>1.0</td>\n",
       "      <td>33.0</td>\n",
       "      <td>368.0</td>\n",
       "      <td>99.0</td>\n",
       "      <td>47.0</td>\n",
       "      <td>...</td>\n",
       "      <td>0.311</td>\n",
       "      <td>0.667</td>\n",
       "      <td>11.2</td>\n",
       "      <td>3.0</td>\n",
       "      <td>1.4</td>\n",
       "      <td>0.5</td>\n",
       "      <td>0.1</td>\n",
       "      <td>0.017</td>\n",
       "      <td>-5.5</td>\n",
       "      <td>-0.3</td>\n",
       "    </tr>\n",
       "    <tr>\n",
       "      <th>42</th>\n",
       "      <td>43.0</td>\n",
       "      <td>43.0</td>\n",
       "      <td>MIN</td>\n",
       "      <td>Jaylen Nowell</td>\n",
       "      <td>Washington</td>\n",
       "      <td>3.0</td>\n",
       "      <td>68.0</td>\n",
       "      <td>974.0</td>\n",
       "      <td>463.0</td>\n",
       "      <td>118.0</td>\n",
       "      <td>...</td>\n",
       "      <td>0.293</td>\n",
       "      <td>0.851</td>\n",
       "      <td>14.3</td>\n",
       "      <td>6.8</td>\n",
       "      <td>1.7</td>\n",
       "      <td>1.3</td>\n",
       "      <td>0.9</td>\n",
       "      <td>0.046</td>\n",
       "      <td>-3.1</td>\n",
       "      <td>-0.3</td>\n",
       "    </tr>\n",
       "    <tr>\n",
       "      <th>43</th>\n",
       "      <td>44.0</td>\n",
       "      <td>44.0</td>\n",
       "      <td>MIA</td>\n",
       "      <td>Bol Bol</td>\n",
       "      <td>Oregon</td>\n",
       "      <td>3.0</td>\n",
       "      <td>49.0</td>\n",
       "      <td>294.0</td>\n",
       "      <td>124.0</td>\n",
       "      <td>57.0</td>\n",
       "      <td>...</td>\n",
       "      <td>0.361</td>\n",
       "      <td>0.679</td>\n",
       "      <td>6.0</td>\n",
       "      <td>2.5</td>\n",
       "      <td>1.2</td>\n",
       "      <td>0.3</td>\n",
       "      <td>0.2</td>\n",
       "      <td>0.030</td>\n",
       "      <td>-3.3</td>\n",
       "      <td>-0.1</td>\n",
       "    </tr>\n",
       "    <tr>\n",
       "      <th>44</th>\n",
       "      <td>45.0</td>\n",
       "      <td>45.0</td>\n",
       "      <td>DET</td>\n",
       "      <td>Isaiah Roby</td>\n",
       "      <td>Nebraska</td>\n",
       "      <td>3.0</td>\n",
       "      <td>75.0</td>\n",
       "      <td>1571.0</td>\n",
       "      <td>603.0</td>\n",
       "      <td>373.0</td>\n",
       "      <td>...</td>\n",
       "      <td>0.295</td>\n",
       "      <td>0.742</td>\n",
       "      <td>20.9</td>\n",
       "      <td>8.0</td>\n",
       "      <td>5.0</td>\n",
       "      <td>1.5</td>\n",
       "      <td>1.7</td>\n",
       "      <td>0.051</td>\n",
       "      <td>-3.2</td>\n",
       "      <td>-0.5</td>\n",
       "    </tr>\n",
       "    <tr>\n",
       "      <th>45</th>\n",
       "      <td>46.0</td>\n",
       "      <td>46.0</td>\n",
       "      <td>ORL</td>\n",
       "      <td>Talen Horton-Tucker</td>\n",
       "      <td>Iowa State</td>\n",
       "      <td>3.0</td>\n",
       "      <td>81.0</td>\n",
       "      <td>1673.0</td>\n",
       "      <td>728.0</td>\n",
       "      <td>227.0</td>\n",
       "      <td>...</td>\n",
       "      <td>0.285</td>\n",
       "      <td>0.791</td>\n",
       "      <td>20.7</td>\n",
       "      <td>9.0</td>\n",
       "      <td>2.8</td>\n",
       "      <td>2.6</td>\n",
       "      <td>2.4</td>\n",
       "      <td>0.070</td>\n",
       "      <td>-1.8</td>\n",
       "      <td>0.1</td>\n",
       "    </tr>\n",
       "    <tr>\n",
       "      <th>46</th>\n",
       "      <td>47.0</td>\n",
       "      <td>47.0</td>\n",
       "      <td>SAC</td>\n",
       "      <td>Ignas Brazdeikis</td>\n",
       "      <td>Michigan</td>\n",
       "      <td>3.0</td>\n",
       "      <td>33.0</td>\n",
       "      <td>394.0</td>\n",
       "      <td>126.0</td>\n",
       "      <td>67.0</td>\n",
       "      <td>...</td>\n",
       "      <td>0.283</td>\n",
       "      <td>0.714</td>\n",
       "      <td>11.9</td>\n",
       "      <td>3.8</td>\n",
       "      <td>2.0</td>\n",
       "      <td>0.8</td>\n",
       "      <td>-0.2</td>\n",
       "      <td>-0.021</td>\n",
       "      <td>-7.0</td>\n",
       "      <td>-0.5</td>\n",
       "    </tr>\n",
       "    <tr>\n",
       "      <th>47</th>\n",
       "      <td>48.0</td>\n",
       "      <td>48.0</td>\n",
       "      <td>LAC</td>\n",
       "      <td>Terance Mann</td>\n",
       "      <td>Florida State</td>\n",
       "      <td>3.0</td>\n",
       "      <td>129.0</td>\n",
       "      <td>2220.0</td>\n",
       "      <td>781.0</td>\n",
       "      <td>402.0</td>\n",
       "      <td>...</td>\n",
       "      <td>0.385</td>\n",
       "      <td>0.798</td>\n",
       "      <td>17.2</td>\n",
       "      <td>6.1</td>\n",
       "      <td>3.1</td>\n",
       "      <td>1.6</td>\n",
       "      <td>6.0</td>\n",
       "      <td>0.130</td>\n",
       "      <td>-0.7</td>\n",
       "      <td>0.7</td>\n",
       "    </tr>\n",
       "    <tr>\n",
       "      <th>48</th>\n",
       "      <td>49.0</td>\n",
       "      <td>49.0</td>\n",
       "      <td>SAS</td>\n",
       "      <td>Quinndary Weatherspoon</td>\n",
       "      <td>Mississippi State</td>\n",
       "      <td>2.0</td>\n",
       "      <td>31.0</td>\n",
       "      <td>199.0</td>\n",
       "      <td>58.0</td>\n",
       "      <td>18.0</td>\n",
       "      <td>...</td>\n",
       "      <td>0.182</td>\n",
       "      <td>0.778</td>\n",
       "      <td>6.4</td>\n",
       "      <td>1.9</td>\n",
       "      <td>0.6</td>\n",
       "      <td>0.6</td>\n",
       "      <td>-0.1</td>\n",
       "      <td>-0.014</td>\n",
       "      <td>-6.0</td>\n",
       "      <td>-0.2</td>\n",
       "    </tr>\n",
       "    <tr>\n",
       "      <th>49</th>\n",
       "      <td>50.0</td>\n",
       "      <td>50.0</td>\n",
       "      <td>IND</td>\n",
       "      <td>Jarrell Brantley</td>\n",
       "      <td>College of Charleston</td>\n",
       "      <td>2.0</td>\n",
       "      <td>37.0</td>\n",
       "      <td>234.0</td>\n",
       "      <td>88.0</td>\n",
       "      <td>47.0</td>\n",
       "      <td>...</td>\n",
       "      <td>0.366</td>\n",
       "      <td>0.750</td>\n",
       "      <td>6.3</td>\n",
       "      <td>2.4</td>\n",
       "      <td>1.3</td>\n",
       "      <td>0.7</td>\n",
       "      <td>0.5</td>\n",
       "      <td>0.099</td>\n",
       "      <td>-0.6</td>\n",
       "      <td>0.1</td>\n",
       "    </tr>\n",
       "    <tr>\n",
       "      <th>50</th>\n",
       "      <td>51.0</td>\n",
       "      <td>51.0</td>\n",
       "      <td>BOS</td>\n",
       "      <td>Tremont Waters</td>\n",
       "      <td>LSU</td>\n",
       "      <td>2.0</td>\n",
       "      <td>37.0</td>\n",
       "      <td>357.0</td>\n",
       "      <td>139.0</td>\n",
       "      <td>33.0</td>\n",
       "      <td>...</td>\n",
       "      <td>0.306</td>\n",
       "      <td>0.960</td>\n",
       "      <td>9.6</td>\n",
       "      <td>3.8</td>\n",
       "      <td>0.9</td>\n",
       "      <td>2.1</td>\n",
       "      <td>0.1</td>\n",
       "      <td>0.019</td>\n",
       "      <td>-2.3</td>\n",
       "      <td>0.0</td>\n",
       "    </tr>\n",
       "    <tr>\n",
       "      <th>51</th>\n",
       "      <td>52.0</td>\n",
       "      <td>52.0</td>\n",
       "      <td>CHO</td>\n",
       "      <td>Jalen McDaniels</td>\n",
       "      <td>San Diego State</td>\n",
       "      <td>3.0</td>\n",
       "      <td>85.0</td>\n",
       "      <td>1528.0</td>\n",
       "      <td>555.0</td>\n",
       "      <td>306.0</td>\n",
       "      <td>...</td>\n",
       "      <td>0.370</td>\n",
       "      <td>0.708</td>\n",
       "      <td>18.0</td>\n",
       "      <td>6.5</td>\n",
       "      <td>3.6</td>\n",
       "      <td>1.0</td>\n",
       "      <td>2.4</td>\n",
       "      <td>0.076</td>\n",
       "      <td>-2.8</td>\n",
       "      <td>-0.3</td>\n",
       "    </tr>\n",
       "    <tr>\n",
       "      <th>52</th>\n",
       "      <td>53.0</td>\n",
       "      <td>53.0</td>\n",
       "      <td>UTA</td>\n",
       "      <td>Justin Wright-Foreman</td>\n",
       "      <td>Hofstra</td>\n",
       "      <td>1.0</td>\n",
       "      <td>4.0</td>\n",
       "      <td>45.0</td>\n",
       "      <td>19.0</td>\n",
       "      <td>5.0</td>\n",
       "      <td>...</td>\n",
       "      <td>0.200</td>\n",
       "      <td>0.750</td>\n",
       "      <td>11.3</td>\n",
       "      <td>4.8</td>\n",
       "      <td>1.3</td>\n",
       "      <td>1.8</td>\n",
       "      <td>0.0</td>\n",
       "      <td>-0.008</td>\n",
       "      <td>-9.0</td>\n",
       "      <td>-0.1</td>\n",
       "    </tr>\n",
       "    <tr>\n",
       "      <th>53</th>\n",
       "      <td>54.0</td>\n",
       "      <td>54.0</td>\n",
       "      <td>PHI</td>\n",
       "      <td>Marial Shayok</td>\n",
       "      <td>Iowa State</td>\n",
       "      <td>1.0</td>\n",
       "      <td>4.0</td>\n",
       "      <td>28.0</td>\n",
       "      <td>11.0</td>\n",
       "      <td>7.0</td>\n",
       "      <td>...</td>\n",
       "      <td>0.333</td>\n",
       "      <td>0.750</td>\n",
       "      <td>7.0</td>\n",
       "      <td>2.8</td>\n",
       "      <td>1.8</td>\n",
       "      <td>0.3</td>\n",
       "      <td>-0.1</td>\n",
       "      <td>-0.130</td>\n",
       "      <td>-13.0</td>\n",
       "      <td>-0.1</td>\n",
       "    </tr>\n",
       "    <tr>\n",
       "      <th>54</th>\n",
       "      <td>55.0</td>\n",
       "      <td>55.0</td>\n",
       "      <td>NYK</td>\n",
       "      <td>Kyle Guy</td>\n",
       "      <td>Virginia</td>\n",
       "      <td>2.0</td>\n",
       "      <td>34.0</td>\n",
       "      <td>245.0</td>\n",
       "      <td>91.0</td>\n",
       "      <td>36.0</td>\n",
       "      <td>...</td>\n",
       "      <td>0.265</td>\n",
       "      <td>0.800</td>\n",
       "      <td>7.2</td>\n",
       "      <td>2.7</td>\n",
       "      <td>1.1</td>\n",
       "      <td>1.0</td>\n",
       "      <td>-0.1</td>\n",
       "      <td>-0.016</td>\n",
       "      <td>-6.6</td>\n",
       "      <td>-0.3</td>\n",
       "    </tr>\n",
       "    <tr>\n",
       "      <th>57</th>\n",
       "      <td>58.0</td>\n",
       "      <td>58.0</td>\n",
       "      <td>GSW</td>\n",
       "      <td>Miye Oni</td>\n",
       "      <td>Yale</td>\n",
       "      <td>3.0</td>\n",
       "      <td>74.0</td>\n",
       "      <td>658.0</td>\n",
       "      <td>142.0</td>\n",
       "      <td>105.0</td>\n",
       "      <td>...</td>\n",
       "      <td>0.333</td>\n",
       "      <td>0.750</td>\n",
       "      <td>8.9</td>\n",
       "      <td>1.9</td>\n",
       "      <td>1.4</td>\n",
       "      <td>0.5</td>\n",
       "      <td>1.0</td>\n",
       "      <td>0.070</td>\n",
       "      <td>-2.9</td>\n",
       "      <td>-0.2</td>\n",
       "    </tr>\n",
       "    <tr>\n",
       "      <th>58</th>\n",
       "      <td>59.0</td>\n",
       "      <td>59.0</td>\n",
       "      <td>TOR</td>\n",
       "      <td>Dewan Hernandez</td>\n",
       "      <td>Miami (FL)</td>\n",
       "      <td>1.0</td>\n",
       "      <td>6.0</td>\n",
       "      <td>28.0</td>\n",
       "      <td>14.0</td>\n",
       "      <td>14.0</td>\n",
       "      <td>...</td>\n",
       "      <td>0.500</td>\n",
       "      <td>0.600</td>\n",
       "      <td>4.7</td>\n",
       "      <td>2.3</td>\n",
       "      <td>2.3</td>\n",
       "      <td>0.5</td>\n",
       "      <td>0.0</td>\n",
       "      <td>0.043</td>\n",
       "      <td>-9.6</td>\n",
       "      <td>-0.1</td>\n",
       "    </tr>\n",
       "  </tbody>\n",
       "</table>\n",
       "<p>49 rows × 22 columns</p>\n",
       "</div>"
      ],
      "text/plain": [
       "      Rk    Pk   Tm                    Player                College  Yrs  \\\n",
       "0    1.0   1.0  NOP           Zion Williamson                   Duke  2.0   \n",
       "1    2.0   2.0  MEM                 Ja Morant           Murray State  3.0   \n",
       "2    3.0   3.0  NYK                RJ Barrett                   Duke  3.0   \n",
       "3    4.0   4.0  LAL           De'Andre Hunter               Virginia  3.0   \n",
       "4    5.0   5.0  CLE            Darius Garland             Vanderbilt  3.0   \n",
       "5    6.0   6.0  PHO            Jarrett Culver             Texas Tech  3.0   \n",
       "6    7.0   7.0  CHI                Coby White                    UNC  3.0   \n",
       "7    8.0   8.0  ATL              Jaxson Hayes                  Texas  3.0   \n",
       "8    9.0   9.0  WAS             Rui Hachimura                Gonzaga  2.0   \n",
       "9   10.0  10.0  ATL               Cam Reddish                   Duke  3.0   \n",
       "10  11.0  11.0  MIN           Cameron Johnson                    UNC  3.0   \n",
       "11  12.0  12.0  CHO           P.J. Washington               Kentucky  3.0   \n",
       "12  13.0  13.0  MIA               Tyler Herro               Kentucky  3.0   \n",
       "13  14.0  14.0  BOS            Romeo Langford                Indiana  3.0   \n",
       "15  16.0  16.0  ORL               Chuma Okeke                 Auburn  2.0   \n",
       "16  17.0  17.0  BRK  Nickeil Alexander-Walker          Virginia Tech  3.0   \n",
       "19  20.0  20.0  BOS          Matisse Thybulle             Washington  3.0   \n",
       "20  21.0  21.0  OKC            Brandon Clarke                Gonzaga  3.0   \n",
       "21  22.0  22.0  BOS            Grant Williams              Tennessee  3.0   \n",
       "23  24.0  24.0  PHI                 Ty Jerome               Virginia  3.0   \n",
       "24  25.0  25.0  POR             Nassir Little                    UNC  3.0   \n",
       "25  26.0  26.0  CLE             Dylan Windler                Belmont  2.0   \n",
       "26  27.0  27.0  BRK         Mfiondu Kabengele          Florida State  2.0   \n",
       "27  28.0  28.0  GSW              Jordan Poole               Michigan  3.0   \n",
       "28  29.0  29.0  SAS            Keldon Johnson               Kentucky  3.0   \n",
       "29  30.0  30.0  MIL          Kevin Porter Jr.                    USC  3.0   \n",
       "30  31.0  31.0  BRK           Nicolas Claxton                Georgia  3.0   \n",
       "31  32.0  32.0  PHO                 KZ Okpala               Stanford  3.0   \n",
       "32  33.0  33.0  PHI            Carsen Edwards                 Purdue  2.0   \n",
       "33  34.0  34.0  PHI            Bruno Fernando               Maryland  3.0   \n",
       "35  36.0  36.0  CHO               Cody Martin                 Nevada  3.0   \n",
       "39  40.0  40.0  SAC              Justin James                Wyoming  2.0   \n",
       "40  41.0  41.0  GSW             Eric Paschall              Villanova  3.0   \n",
       "41  42.0  42.0  PHI         Admiral Schofield              Tennessee  1.0   \n",
       "42  43.0  43.0  MIN             Jaylen Nowell             Washington  3.0   \n",
       "43  44.0  44.0  MIA                   Bol Bol                 Oregon  3.0   \n",
       "44  45.0  45.0  DET               Isaiah Roby               Nebraska  3.0   \n",
       "45  46.0  46.0  ORL       Talen Horton-Tucker             Iowa State  3.0   \n",
       "46  47.0  47.0  SAC          Ignas Brazdeikis               Michigan  3.0   \n",
       "47  48.0  48.0  LAC              Terance Mann          Florida State  3.0   \n",
       "48  49.0  49.0  SAS    Quinndary Weatherspoon      Mississippi State  2.0   \n",
       "49  50.0  50.0  IND          Jarrell Brantley  College of Charleston  2.0   \n",
       "50  51.0  51.0  BOS            Tremont Waters                    LSU  2.0   \n",
       "51  52.0  52.0  CHO           Jalen McDaniels        San Diego State  3.0   \n",
       "52  53.0  53.0  UTA     Justin Wright-Foreman                Hofstra  1.0   \n",
       "53  54.0  54.0  PHI             Marial Shayok             Iowa State  1.0   \n",
       "54  55.0  55.0  NYK                  Kyle Guy               Virginia  2.0   \n",
       "57  58.0  58.0  GSW                  Miye Oni                   Yale  3.0   \n",
       "58  59.0  59.0  TOR           Dewan Hernandez             Miami (FL)  1.0   \n",
       "\n",
       "        G      MP     PTS    TRB  ...    3P%    FT%  MP.1  PTS.1  TRB.1  \\\n",
       "0    85.0  2694.0  2187.0  591.0  ...  0.333  0.683  31.7   25.7    7.0   \n",
       "1   149.0  4746.0  2855.0  617.0  ...  0.323  0.754  31.9   19.2    4.1   \n",
       "2   149.0  4871.0  2362.0  817.0  ...  0.361  0.684  32.7   15.9    5.5   \n",
       "3    97.0  3002.0  1241.0  426.0  ...  0.352  0.782  30.9   12.8    4.4   \n",
       "4   133.0  4307.0  2039.0  292.0  ...  0.371  0.856  32.4   15.3    2.2   \n",
       "5   103.0  2054.0   782.0  323.0  ...  0.288  0.509  19.9    7.6    3.1   \n",
       "6   143.0  3988.0  1955.0  537.0  ...  0.352  0.842  27.9   13.7    3.8   \n",
       "7   143.0  2276.0  1033.0  578.0  ...  0.379  0.703  15.9    7.2    4.0   \n",
       "8   105.0  3241.0  1438.0  606.0  ...  0.313  0.797  30.9   13.7    5.8   \n",
       "9   105.0  2773.0  1143.0  379.0  ...  0.323  0.823  26.4   10.9    3.6   \n",
       "10  138.0  3163.0  1261.0  453.0  ...  0.371  0.810  22.9    9.1    3.3   \n",
       "11  134.0  3994.0  1657.0  790.0  ...  0.389  0.700  29.8   12.4    5.9   \n",
       "12  128.0  3784.0  1971.0  596.0  ...  0.378  0.842  29.6   15.4    4.7   \n",
       "13   67.0   976.0   216.0  130.0  ...  0.313  0.729  14.6    3.2    1.9   \n",
       "15   62.0  1493.0   467.0  250.0  ...  0.314  0.794  24.1    7.5    4.0   \n",
       "16  117.0  2292.0  1108.0  327.0  ...  0.330  0.735  19.6    9.5    2.8   \n",
       "19  145.0  2968.0   655.0  268.0  ...  0.327  0.600  20.5    4.5    1.8   \n",
       "20  135.0  3004.0  1446.0  754.0  ...  0.289  0.718  22.3   10.7    5.6   \n",
       "21  154.0  2648.0   694.0  431.0  ...  0.348  0.698  17.2    4.5    2.8   \n",
       "23   82.0  1353.0   579.0  158.0  ...  0.374  0.792  16.5    7.1    1.9   \n",
       "24  117.0  1683.0   566.0  348.0  ...  0.307  0.746  14.4    4.8    3.0   \n",
       "25   47.0   695.0   205.0  138.0  ...  0.350  0.774  14.8    4.4    2.9   \n",
       "26   51.0   344.0   137.0   71.0  ...  0.314  0.840   6.7    2.7    1.4   \n",
       "27  129.0  2901.0  1504.0  276.0  ...  0.324  0.853  22.5   11.7    2.1   \n",
       "28  105.0  2866.0  1319.0  591.0  ...  0.369  0.730  27.3   12.6    5.6   \n",
       "29   94.0  2553.0  1165.0  344.0  ...  0.322  0.701  27.2   12.4    3.7   \n",
       "30   51.0   857.0   304.0  232.0  ...  0.167  0.489  16.8    6.0    4.5   \n",
       "31   52.0   536.0   116.0   86.0  ...  0.217  0.600  10.3    2.2    1.7   \n",
       "32   68.0   627.0   244.0   73.0  ...  0.302  0.750   9.2    3.6    1.1   \n",
       "33   96.0   952.0   291.0  277.0  ...  0.128  0.603   9.9    3.0    2.9   \n",
       "35  122.0  2294.0   614.0  410.0  ...  0.305  0.643  18.8    5.0    3.4   \n",
       "39   72.0   542.0   228.0   62.0  ...  0.343  0.544   7.5    3.2    0.9   \n",
       "40  119.0  2579.0  1288.0  441.0  ...  0.297  0.752  21.7   10.8    3.7   \n",
       "41   33.0   368.0    99.0   47.0  ...  0.311  0.667  11.2    3.0    1.4   \n",
       "42   68.0   974.0   463.0  118.0  ...  0.293  0.851  14.3    6.8    1.7   \n",
       "43   49.0   294.0   124.0   57.0  ...  0.361  0.679   6.0    2.5    1.2   \n",
       "44   75.0  1571.0   603.0  373.0  ...  0.295  0.742  20.9    8.0    5.0   \n",
       "45   81.0  1673.0   728.0  227.0  ...  0.285  0.791  20.7    9.0    2.8   \n",
       "46   33.0   394.0   126.0   67.0  ...  0.283  0.714  11.9    3.8    2.0   \n",
       "47  129.0  2220.0   781.0  402.0  ...  0.385  0.798  17.2    6.1    3.1   \n",
       "48   31.0   199.0    58.0   18.0  ...  0.182  0.778   6.4    1.9    0.6   \n",
       "49   37.0   234.0    88.0   47.0  ...  0.366  0.750   6.3    2.4    1.3   \n",
       "50   37.0   357.0   139.0   33.0  ...  0.306  0.960   9.6    3.8    0.9   \n",
       "51   85.0  1528.0   555.0  306.0  ...  0.370  0.708  18.0    6.5    3.6   \n",
       "52    4.0    45.0    19.0    5.0  ...  0.200  0.750  11.3    4.8    1.3   \n",
       "53    4.0    28.0    11.0    7.0  ...  0.333  0.750   7.0    2.8    1.8   \n",
       "54   34.0   245.0    91.0   36.0  ...  0.265  0.800   7.2    2.7    1.1   \n",
       "57   74.0   658.0   142.0  105.0  ...  0.333  0.750   8.9    1.9    1.4   \n",
       "58    6.0    28.0    14.0   14.0  ...  0.500  0.600   4.7    2.3    2.3   \n",
       "\n",
       "    AST.1    WS  WS/48   BPM  VORP  \n",
       "0     3.2  10.6  0.189   4.6   4.5  \n",
       "1     7.3   8.8  0.089   0.2   2.7  \n",
       "2     2.7   3.8  0.038  -2.9  -1.1  \n",
       "3     1.7   1.8  0.028  -3.5  -1.2  \n",
       "4     5.3   1.2  0.014  -3.0  -1.1  \n",
       "5     1.3  -0.1 -0.003  -4.6  -1.4  \n",
       "6     3.6   3.1  0.037  -2.9  -0.9  \n",
       "7     0.7   8.0  0.169  -0.2   1.0  \n",
       "8     1.6   3.9  0.058  -3.3  -1.1  \n",
       "9     1.3   0.7  0.012  -3.7  -1.2  \n",
       "10    1.3   6.2  0.094  -0.3   1.4  \n",
       "11    2.3   5.3  0.063  -1.2   0.8  \n",
       "12    3.0   4.3  0.055  -1.1   0.8  \n",
       "13    0.5   0.6  0.030  -4.6  -0.6  \n",
       "15    2.0   1.5  0.047  -1.9   0.0  \n",
       "16    2.2   0.6  0.013  -2.8  -0.5  \n",
       "19    1.1   5.8  0.094   1.0   2.3  \n",
       "20    1.5  10.3  0.165   2.1   3.1  \n",
       "21    1.0   4.3  0.077  -2.7  -0.5  \n",
       "23    2.2   2.0  0.070  -0.9   0.4  \n",
       "24    0.5   2.7  0.076  -2.9  -0.4  \n",
       "25    1.1   0.9  0.060  -1.8   0.0  \n",
       "26    0.4   0.4  0.054  -3.3  -0.1  \n",
       "27    2.3   2.5  0.041  -3.3  -1.0  \n",
       "28    1.7   5.3  0.089  -1.6   0.3  \n",
       "29    4.0  -0.2 -0.003  -4.1  -1.4  \n",
       "30    0.9   2.5  0.140  -0.4   0.4  \n",
       "31    0.4   0.3  0.029  -6.5  -0.6  \n",
       "32    0.6   0.4  0.030  -4.7  -0.4  \n",
       "33    0.6   0.7  0.035  -4.9  -0.7  \n",
       "35    1.9   3.6  0.074  -1.3   0.4  \n",
       "39    0.6   0.3  0.024  -3.2  -0.2  \n",
       "40    1.6   3.5  0.064  -2.8  -0.5  \n",
       "41    0.5   0.1  0.017  -5.5  -0.3  \n",
       "42    1.3   0.9  0.046  -3.1  -0.3  \n",
       "43    0.3   0.2  0.030  -3.3  -0.1  \n",
       "44    1.5   1.7  0.051  -3.2  -0.5  \n",
       "45    2.6   2.4  0.070  -1.8   0.1  \n",
       "46    0.8  -0.2 -0.021  -7.0  -0.5  \n",
       "47    1.6   6.0  0.130  -0.7   0.7  \n",
       "48    0.6  -0.1 -0.014  -6.0  -0.2  \n",
       "49    0.7   0.5  0.099  -0.6   0.1  \n",
       "50    2.1   0.1  0.019  -2.3   0.0  \n",
       "51    1.0   2.4  0.076  -2.8  -0.3  \n",
       "52    1.8   0.0 -0.008  -9.0  -0.1  \n",
       "53    0.3  -0.1 -0.130 -13.0  -0.1  \n",
       "54    1.0  -0.1 -0.016  -6.6  -0.3  \n",
       "57    0.5   1.0  0.070  -2.9  -0.2  \n",
       "58    0.5   0.0  0.043  -9.6  -0.1  \n",
       "\n",
       "[49 rows x 22 columns]"
      ]
     },
     "execution_count": 117,
     "metadata": {},
     "output_type": "execute_result"
    }
   ],
   "source": [
    "draft.dropna()"
   ]
  },
  {
   "cell_type": "code",
   "execution_count": 118,
   "id": "ddc223a2",
   "metadata": {},
   "outputs": [],
   "source": [
    "draft = draft.rename(columns={'PTS.1': 'PPG', 'TRB.1': 'RPG', 'AST.1': 'APG'})"
   ]
  },
  {
   "cell_type": "code",
   "execution_count": 119,
   "id": "72dfac29",
   "metadata": {},
   "outputs": [],
   "source": [
    "draft_top10=draft[:15]"
   ]
  },
  {
   "cell_type": "code",
   "execution_count": 120,
   "id": "538ad87c",
   "metadata": {},
   "outputs": [
    {
     "data": {
      "text/plain": [
       "<AxesSubplot:label='5c19c8ca-70d1-47da-a48c-a3e5840f2337', xlabel='Player', ylabel='PPG'>"
      ]
     },
     "execution_count": 120,
     "metadata": {},
     "output_type": "execute_result"
    },
    {
     "data": {
      "image/png": "[encoded data removed]",
      "text/plain": [
       "<Figure size 1200x600 with 2 Axes>"
      ]
     },
     "metadata": {},
     "output_type": "display_data"
    }
   ],
   "source": [
    "matplotlib.rc_file_defaults()\n",
    "ax1 = sns.set_style(style=None, rc=None )\n",
    "\n",
    "fig, ax1 = plt.subplots(figsize=(12,6))\n",
    "\n",
    "sns.lineplot(data = draft_top10['WS'], marker='o', sort = False, ax=ax1)\n",
    "ax2 = ax1.twinx()\n",
    "ax1.tick_params(labelrotation=45)\n",
    "\n",
    "sns.barplot(data = draft_top10, x='Player', y='PPG', alpha=0.5, ax=ax2)"
   ]
  },
  {
   "cell_type": "code",
   "execution_count": 121,
   "id": "910acf24",
   "metadata": {},
   "outputs": [
    {
     "data": {
      "text/html": [
       "<div>\n",
       "<style scoped>\n",
       "    .dataframe tbody tr th:only-of-type {\n",
       "        vertical-align: middle;\n",
       "    }\n",
       "\n",
       "    .dataframe tbody tr th {\n",
       "        vertical-align: top;\n",
       "    }\n",
       "\n",
       "    .dataframe thead th {\n",
       "        text-align: right;\n",
       "    }\n",
       "</style>\n",
       "<table border=\"1\" class=\"dataframe\">\n",
       "  <thead>\n",
       "    <tr style=\"text-align: right;\">\n",
       "      <th></th>\n",
       "      <th>Rk</th>\n",
       "      <th>Pk</th>\n",
       "      <th>Tm</th>\n",
       "      <th>Player</th>\n",
       "      <th>College</th>\n",
       "      <th>Yrs</th>\n",
       "      <th>G</th>\n",
       "      <th>MP</th>\n",
       "      <th>PTS</th>\n",
       "      <th>TRB</th>\n",
       "      <th>...</th>\n",
       "      <th>3P%</th>\n",
       "      <th>FT%</th>\n",
       "      <th>MP.1</th>\n",
       "      <th>PPG</th>\n",
       "      <th>RPG</th>\n",
       "      <th>APG</th>\n",
       "      <th>WS</th>\n",
       "      <th>WS/48</th>\n",
       "      <th>BPM</th>\n",
       "      <th>VORP</th>\n",
       "    </tr>\n",
       "  </thead>\n",
       "  <tbody>\n",
       "    <tr>\n",
       "      <th>0</th>\n",
       "      <td>1.0</td>\n",
       "      <td>1.0</td>\n",
       "      <td>NOP</td>\n",
       "      <td>Zion Williamson</td>\n",
       "      <td>Duke</td>\n",
       "      <td>2.0</td>\n",
       "      <td>85.0</td>\n",
       "      <td>2694.0</td>\n",
       "      <td>2187.0</td>\n",
       "      <td>591.0</td>\n",
       "      <td>...</td>\n",
       "      <td>0.333</td>\n",
       "      <td>0.683</td>\n",
       "      <td>31.7</td>\n",
       "      <td>25.7</td>\n",
       "      <td>7.0</td>\n",
       "      <td>3.2</td>\n",
       "      <td>10.6</td>\n",
       "      <td>0.189</td>\n",
       "      <td>4.6</td>\n",
       "      <td>4.5</td>\n",
       "    </tr>\n",
       "    <tr>\n",
       "      <th>1</th>\n",
       "      <td>2.0</td>\n",
       "      <td>2.0</td>\n",
       "      <td>MEM</td>\n",
       "      <td>Ja Morant</td>\n",
       "      <td>Murray State</td>\n",
       "      <td>3.0</td>\n",
       "      <td>149.0</td>\n",
       "      <td>4746.0</td>\n",
       "      <td>2855.0</td>\n",
       "      <td>617.0</td>\n",
       "      <td>...</td>\n",
       "      <td>0.323</td>\n",
       "      <td>0.754</td>\n",
       "      <td>31.9</td>\n",
       "      <td>19.2</td>\n",
       "      <td>4.1</td>\n",
       "      <td>7.3</td>\n",
       "      <td>8.8</td>\n",
       "      <td>0.089</td>\n",
       "      <td>0.2</td>\n",
       "      <td>2.7</td>\n",
       "    </tr>\n",
       "    <tr>\n",
       "      <th>2</th>\n",
       "      <td>3.0</td>\n",
       "      <td>3.0</td>\n",
       "      <td>NYK</td>\n",
       "      <td>RJ Barrett</td>\n",
       "      <td>Duke</td>\n",
       "      <td>3.0</td>\n",
       "      <td>149.0</td>\n",
       "      <td>4871.0</td>\n",
       "      <td>2362.0</td>\n",
       "      <td>817.0</td>\n",
       "      <td>...</td>\n",
       "      <td>0.361</td>\n",
       "      <td>0.684</td>\n",
       "      <td>32.7</td>\n",
       "      <td>15.9</td>\n",
       "      <td>5.5</td>\n",
       "      <td>2.7</td>\n",
       "      <td>3.8</td>\n",
       "      <td>0.038</td>\n",
       "      <td>-2.9</td>\n",
       "      <td>-1.1</td>\n",
       "    </tr>\n",
       "    <tr>\n",
       "      <th>3</th>\n",
       "      <td>4.0</td>\n",
       "      <td>4.0</td>\n",
       "      <td>LAL</td>\n",
       "      <td>De'Andre Hunter</td>\n",
       "      <td>Virginia</td>\n",
       "      <td>3.0</td>\n",
       "      <td>97.0</td>\n",
       "      <td>3002.0</td>\n",
       "      <td>1241.0</td>\n",
       "      <td>426.0</td>\n",
       "      <td>...</td>\n",
       "      <td>0.352</td>\n",
       "      <td>0.782</td>\n",
       "      <td>30.9</td>\n",
       "      <td>12.8</td>\n",
       "      <td>4.4</td>\n",
       "      <td>1.7</td>\n",
       "      <td>1.8</td>\n",
       "      <td>0.028</td>\n",
       "      <td>-3.5</td>\n",
       "      <td>-1.2</td>\n",
       "    </tr>\n",
       "    <tr>\n",
       "      <th>4</th>\n",
       "      <td>5.0</td>\n",
       "      <td>5.0</td>\n",
       "      <td>CLE</td>\n",
       "      <td>Darius Garland</td>\n",
       "      <td>Vanderbilt</td>\n",
       "      <td>3.0</td>\n",
       "      <td>133.0</td>\n",
       "      <td>4307.0</td>\n",
       "      <td>2039.0</td>\n",
       "      <td>292.0</td>\n",
       "      <td>...</td>\n",
       "      <td>0.371</td>\n",
       "      <td>0.856</td>\n",
       "      <td>32.4</td>\n",
       "      <td>15.3</td>\n",
       "      <td>2.2</td>\n",
       "      <td>5.3</td>\n",
       "      <td>1.2</td>\n",
       "      <td>0.014</td>\n",
       "      <td>-3.0</td>\n",
       "      <td>-1.1</td>\n",
       "    </tr>\n",
       "    <tr>\n",
       "      <th>5</th>\n",
       "      <td>6.0</td>\n",
       "      <td>6.0</td>\n",
       "      <td>PHO</td>\n",
       "      <td>Jarrett Culver</td>\n",
       "      <td>Texas Tech</td>\n",
       "      <td>3.0</td>\n",
       "      <td>103.0</td>\n",
       "      <td>2054.0</td>\n",
       "      <td>782.0</td>\n",
       "      <td>323.0</td>\n",
       "      <td>...</td>\n",
       "      <td>0.288</td>\n",
       "      <td>0.509</td>\n",
       "      <td>19.9</td>\n",
       "      <td>7.6</td>\n",
       "      <td>3.1</td>\n",
       "      <td>1.3</td>\n",
       "      <td>-0.1</td>\n",
       "      <td>-0.003</td>\n",
       "      <td>-4.6</td>\n",
       "      <td>-1.4</td>\n",
       "    </tr>\n",
       "    <tr>\n",
       "      <th>6</th>\n",
       "      <td>7.0</td>\n",
       "      <td>7.0</td>\n",
       "      <td>CHI</td>\n",
       "      <td>Coby White</td>\n",
       "      <td>UNC</td>\n",
       "      <td>3.0</td>\n",
       "      <td>143.0</td>\n",
       "      <td>3988.0</td>\n",
       "      <td>1955.0</td>\n",
       "      <td>537.0</td>\n",
       "      <td>...</td>\n",
       "      <td>0.352</td>\n",
       "      <td>0.842</td>\n",
       "      <td>27.9</td>\n",
       "      <td>13.7</td>\n",
       "      <td>3.8</td>\n",
       "      <td>3.6</td>\n",
       "      <td>3.1</td>\n",
       "      <td>0.037</td>\n",
       "      <td>-2.9</td>\n",
       "      <td>-0.9</td>\n",
       "    </tr>\n",
       "    <tr>\n",
       "      <th>7</th>\n",
       "      <td>8.0</td>\n",
       "      <td>8.0</td>\n",
       "      <td>ATL</td>\n",
       "      <td>Jaxson Hayes</td>\n",
       "      <td>Texas</td>\n",
       "      <td>3.0</td>\n",
       "      <td>143.0</td>\n",
       "      <td>2276.0</td>\n",
       "      <td>1033.0</td>\n",
       "      <td>578.0</td>\n",
       "      <td>...</td>\n",
       "      <td>0.379</td>\n",
       "      <td>0.703</td>\n",
       "      <td>15.9</td>\n",
       "      <td>7.2</td>\n",
       "      <td>4.0</td>\n",
       "      <td>0.7</td>\n",
       "      <td>8.0</td>\n",
       "      <td>0.169</td>\n",
       "      <td>-0.2</td>\n",
       "      <td>1.0</td>\n",
       "    </tr>\n",
       "    <tr>\n",
       "      <th>8</th>\n",
       "      <td>9.0</td>\n",
       "      <td>9.0</td>\n",
       "      <td>WAS</td>\n",
       "      <td>Rui Hachimura</td>\n",
       "      <td>Gonzaga</td>\n",
       "      <td>2.0</td>\n",
       "      <td>105.0</td>\n",
       "      <td>3241.0</td>\n",
       "      <td>1438.0</td>\n",
       "      <td>606.0</td>\n",
       "      <td>...</td>\n",
       "      <td>0.313</td>\n",
       "      <td>0.797</td>\n",
       "      <td>30.9</td>\n",
       "      <td>13.7</td>\n",
       "      <td>5.8</td>\n",
       "      <td>1.6</td>\n",
       "      <td>3.9</td>\n",
       "      <td>0.058</td>\n",
       "      <td>-3.3</td>\n",
       "      <td>-1.1</td>\n",
       "    </tr>\n",
       "    <tr>\n",
       "      <th>9</th>\n",
       "      <td>10.0</td>\n",
       "      <td>10.0</td>\n",
       "      <td>ATL</td>\n",
       "      <td>Cam Reddish</td>\n",
       "      <td>Duke</td>\n",
       "      <td>3.0</td>\n",
       "      <td>105.0</td>\n",
       "      <td>2773.0</td>\n",
       "      <td>1143.0</td>\n",
       "      <td>379.0</td>\n",
       "      <td>...</td>\n",
       "      <td>0.323</td>\n",
       "      <td>0.823</td>\n",
       "      <td>26.4</td>\n",
       "      <td>10.9</td>\n",
       "      <td>3.6</td>\n",
       "      <td>1.3</td>\n",
       "      <td>0.7</td>\n",
       "      <td>0.012</td>\n",
       "      <td>-3.7</td>\n",
       "      <td>-1.2</td>\n",
       "    </tr>\n",
       "    <tr>\n",
       "      <th>10</th>\n",
       "      <td>11.0</td>\n",
       "      <td>11.0</td>\n",
       "      <td>MIN</td>\n",
       "      <td>Cameron Johnson</td>\n",
       "      <td>UNC</td>\n",
       "      <td>3.0</td>\n",
       "      <td>138.0</td>\n",
       "      <td>3163.0</td>\n",
       "      <td>1261.0</td>\n",
       "      <td>453.0</td>\n",
       "      <td>...</td>\n",
       "      <td>0.371</td>\n",
       "      <td>0.810</td>\n",
       "      <td>22.9</td>\n",
       "      <td>9.1</td>\n",
       "      <td>3.3</td>\n",
       "      <td>1.3</td>\n",
       "      <td>6.2</td>\n",
       "      <td>0.094</td>\n",
       "      <td>-0.3</td>\n",
       "      <td>1.4</td>\n",
       "    </tr>\n",
       "    <tr>\n",
       "      <th>11</th>\n",
       "      <td>12.0</td>\n",
       "      <td>12.0</td>\n",
       "      <td>CHO</td>\n",
       "      <td>P.J. Washington</td>\n",
       "      <td>Kentucky</td>\n",
       "      <td>3.0</td>\n",
       "      <td>134.0</td>\n",
       "      <td>3994.0</td>\n",
       "      <td>1657.0</td>\n",
       "      <td>790.0</td>\n",
       "      <td>...</td>\n",
       "      <td>0.389</td>\n",
       "      <td>0.700</td>\n",
       "      <td>29.8</td>\n",
       "      <td>12.4</td>\n",
       "      <td>5.9</td>\n",
       "      <td>2.3</td>\n",
       "      <td>5.3</td>\n",
       "      <td>0.063</td>\n",
       "      <td>-1.2</td>\n",
       "      <td>0.8</td>\n",
       "    </tr>\n",
       "    <tr>\n",
       "      <th>12</th>\n",
       "      <td>13.0</td>\n",
       "      <td>13.0</td>\n",
       "      <td>MIA</td>\n",
       "      <td>Tyler Herro</td>\n",
       "      <td>Kentucky</td>\n",
       "      <td>3.0</td>\n",
       "      <td>128.0</td>\n",
       "      <td>3784.0</td>\n",
       "      <td>1971.0</td>\n",
       "      <td>596.0</td>\n",
       "      <td>...</td>\n",
       "      <td>0.378</td>\n",
       "      <td>0.842</td>\n",
       "      <td>29.6</td>\n",
       "      <td>15.4</td>\n",
       "      <td>4.7</td>\n",
       "      <td>3.0</td>\n",
       "      <td>4.3</td>\n",
       "      <td>0.055</td>\n",
       "      <td>-1.1</td>\n",
       "      <td>0.8</td>\n",
       "    </tr>\n",
       "    <tr>\n",
       "      <th>13</th>\n",
       "      <td>14.0</td>\n",
       "      <td>14.0</td>\n",
       "      <td>BOS</td>\n",
       "      <td>Romeo Langford</td>\n",
       "      <td>Indiana</td>\n",
       "      <td>3.0</td>\n",
       "      <td>67.0</td>\n",
       "      <td>976.0</td>\n",
       "      <td>216.0</td>\n",
       "      <td>130.0</td>\n",
       "      <td>...</td>\n",
       "      <td>0.313</td>\n",
       "      <td>0.729</td>\n",
       "      <td>14.6</td>\n",
       "      <td>3.2</td>\n",
       "      <td>1.9</td>\n",
       "      <td>0.5</td>\n",
       "      <td>0.6</td>\n",
       "      <td>0.030</td>\n",
       "      <td>-4.6</td>\n",
       "      <td>-0.6</td>\n",
       "    </tr>\n",
       "    <tr>\n",
       "      <th>14</th>\n",
       "      <td>15.0</td>\n",
       "      <td>15.0</td>\n",
       "      <td>DET</td>\n",
       "      <td>Sekou Doumbouya</td>\n",
       "      <td>NaN</td>\n",
       "      <td>3.0</td>\n",
       "      <td>96.0</td>\n",
       "      <td>1639.0</td>\n",
       "      <td>542.0</td>\n",
       "      <td>267.0</td>\n",
       "      <td>...</td>\n",
       "      <td>0.256</td>\n",
       "      <td>0.693</td>\n",
       "      <td>17.1</td>\n",
       "      <td>5.6</td>\n",
       "      <td>2.8</td>\n",
       "      <td>0.7</td>\n",
       "      <td>-0.4</td>\n",
       "      <td>-0.012</td>\n",
       "      <td>-6.6</td>\n",
       "      <td>-1.9</td>\n",
       "    </tr>\n",
       "    <tr>\n",
       "      <th>15</th>\n",
       "      <td>16.0</td>\n",
       "      <td>16.0</td>\n",
       "      <td>ORL</td>\n",
       "      <td>Chuma Okeke</td>\n",
       "      <td>Auburn</td>\n",
       "      <td>2.0</td>\n",
       "      <td>62.0</td>\n",
       "      <td>1493.0</td>\n",
       "      <td>467.0</td>\n",
       "      <td>250.0</td>\n",
       "      <td>...</td>\n",
       "      <td>0.314</td>\n",
       "      <td>0.794</td>\n",
       "      <td>24.1</td>\n",
       "      <td>7.5</td>\n",
       "      <td>4.0</td>\n",
       "      <td>2.0</td>\n",
       "      <td>1.5</td>\n",
       "      <td>0.047</td>\n",
       "      <td>-1.9</td>\n",
       "      <td>0.0</td>\n",
       "    </tr>\n",
       "    <tr>\n",
       "      <th>16</th>\n",
       "      <td>17.0</td>\n",
       "      <td>17.0</td>\n",
       "      <td>BRK</td>\n",
       "      <td>Nickeil Alexander-Walker</td>\n",
       "      <td>Virginia Tech</td>\n",
       "      <td>3.0</td>\n",
       "      <td>117.0</td>\n",
       "      <td>2292.0</td>\n",
       "      <td>1108.0</td>\n",
       "      <td>327.0</td>\n",
       "      <td>...</td>\n",
       "      <td>0.330</td>\n",
       "      <td>0.735</td>\n",
       "      <td>19.6</td>\n",
       "      <td>9.5</td>\n",
       "      <td>2.8</td>\n",
       "      <td>2.2</td>\n",
       "      <td>0.6</td>\n",
       "      <td>0.013</td>\n",
       "      <td>-2.8</td>\n",
       "      <td>-0.5</td>\n",
       "    </tr>\n",
       "    <tr>\n",
       "      <th>17</th>\n",
       "      <td>18.0</td>\n",
       "      <td>18.0</td>\n",
       "      <td>IND</td>\n",
       "      <td>Goga Bitadze</td>\n",
       "      <td>NaN</td>\n",
       "      <td>3.0</td>\n",
       "      <td>115.0</td>\n",
       "      <td>1170.0</td>\n",
       "      <td>446.0</td>\n",
       "      <td>293.0</td>\n",
       "      <td>...</td>\n",
       "      <td>0.219</td>\n",
       "      <td>0.721</td>\n",
       "      <td>10.2</td>\n",
       "      <td>3.9</td>\n",
       "      <td>2.5</td>\n",
       "      <td>0.5</td>\n",
       "      <td>2.3</td>\n",
       "      <td>0.094</td>\n",
       "      <td>-2.1</td>\n",
       "      <td>0.0</td>\n",
       "    </tr>\n",
       "    <tr>\n",
       "      <th>18</th>\n",
       "      <td>19.0</td>\n",
       "      <td>19.0</td>\n",
       "      <td>SAS</td>\n",
       "      <td>Luka Šamanić</td>\n",
       "      <td>NaN</td>\n",
       "      <td>2.0</td>\n",
       "      <td>36.0</td>\n",
       "      <td>356.0</td>\n",
       "      <td>138.0</td>\n",
       "      <td>78.0</td>\n",
       "      <td>...</td>\n",
       "      <td>0.294</td>\n",
       "      <td>0.576</td>\n",
       "      <td>9.9</td>\n",
       "      <td>3.8</td>\n",
       "      <td>2.2</td>\n",
       "      <td>0.6</td>\n",
       "      <td>0.1</td>\n",
       "      <td>0.015</td>\n",
       "      <td>-5.0</td>\n",
       "      <td>-0.3</td>\n",
       "    </tr>\n",
       "    <tr>\n",
       "      <th>19</th>\n",
       "      <td>20.0</td>\n",
       "      <td>20.0</td>\n",
       "      <td>BOS</td>\n",
       "      <td>Matisse Thybulle</td>\n",
       "      <td>Washington</td>\n",
       "      <td>3.0</td>\n",
       "      <td>145.0</td>\n",
       "      <td>2968.0</td>\n",
       "      <td>655.0</td>\n",
       "      <td>268.0</td>\n",
       "      <td>...</td>\n",
       "      <td>0.327</td>\n",
       "      <td>0.600</td>\n",
       "      <td>20.5</td>\n",
       "      <td>4.5</td>\n",
       "      <td>1.8</td>\n",
       "      <td>1.1</td>\n",
       "      <td>5.8</td>\n",
       "      <td>0.094</td>\n",
       "      <td>1.0</td>\n",
       "      <td>2.3</td>\n",
       "    </tr>\n",
       "    <tr>\n",
       "      <th>20</th>\n",
       "      <td>21.0</td>\n",
       "      <td>21.0</td>\n",
       "      <td>OKC</td>\n",
       "      <td>Brandon Clarke</td>\n",
       "      <td>Gonzaga</td>\n",
       "      <td>3.0</td>\n",
       "      <td>135.0</td>\n",
       "      <td>3004.0</td>\n",
       "      <td>1446.0</td>\n",
       "      <td>754.0</td>\n",
       "      <td>...</td>\n",
       "      <td>0.289</td>\n",
       "      <td>0.718</td>\n",
       "      <td>22.3</td>\n",
       "      <td>10.7</td>\n",
       "      <td>5.6</td>\n",
       "      <td>1.5</td>\n",
       "      <td>10.3</td>\n",
       "      <td>0.165</td>\n",
       "      <td>2.1</td>\n",
       "      <td>3.1</td>\n",
       "    </tr>\n",
       "    <tr>\n",
       "      <th>21</th>\n",
       "      <td>22.0</td>\n",
       "      <td>22.0</td>\n",
       "      <td>BOS</td>\n",
       "      <td>Grant Williams</td>\n",
       "      <td>Tennessee</td>\n",
       "      <td>3.0</td>\n",
       "      <td>154.0</td>\n",
       "      <td>2648.0</td>\n",
       "      <td>694.0</td>\n",
       "      <td>431.0</td>\n",
       "      <td>...</td>\n",
       "      <td>0.348</td>\n",
       "      <td>0.698</td>\n",
       "      <td>17.2</td>\n",
       "      <td>4.5</td>\n",
       "      <td>2.8</td>\n",
       "      <td>1.0</td>\n",
       "      <td>4.3</td>\n",
       "      <td>0.077</td>\n",
       "      <td>-2.7</td>\n",
       "      <td>-0.5</td>\n",
       "    </tr>\n",
       "    <tr>\n",
       "      <th>22</th>\n",
       "      <td>23.0</td>\n",
       "      <td>23.0</td>\n",
       "      <td>UTA</td>\n",
       "      <td>Darius Bazley</td>\n",
       "      <td>NaN</td>\n",
       "      <td>3.0</td>\n",
       "      <td>137.0</td>\n",
       "      <td>3430.0</td>\n",
       "      <td>1280.0</td>\n",
       "      <td>783.0</td>\n",
       "      <td>...</td>\n",
       "      <td>0.302</td>\n",
       "      <td>0.689</td>\n",
       "      <td>25.0</td>\n",
       "      <td>9.3</td>\n",
       "      <td>5.7</td>\n",
       "      <td>1.2</td>\n",
       "      <td>0.0</td>\n",
       "      <td>-0.001</td>\n",
       "      <td>-3.4</td>\n",
       "      <td>-1.2</td>\n",
       "    </tr>\n",
       "    <tr>\n",
       "      <th>23</th>\n",
       "      <td>24.0</td>\n",
       "      <td>24.0</td>\n",
       "      <td>PHI</td>\n",
       "      <td>Ty Jerome</td>\n",
       "      <td>Virginia</td>\n",
       "      <td>3.0</td>\n",
       "      <td>82.0</td>\n",
       "      <td>1353.0</td>\n",
       "      <td>579.0</td>\n",
       "      <td>158.0</td>\n",
       "      <td>...</td>\n",
       "      <td>0.374</td>\n",
       "      <td>0.792</td>\n",
       "      <td>16.5</td>\n",
       "      <td>7.1</td>\n",
       "      <td>1.9</td>\n",
       "      <td>2.2</td>\n",
       "      <td>2.0</td>\n",
       "      <td>0.070</td>\n",
       "      <td>-0.9</td>\n",
       "      <td>0.4</td>\n",
       "    </tr>\n",
       "    <tr>\n",
       "      <th>24</th>\n",
       "      <td>25.0</td>\n",
       "      <td>25.0</td>\n",
       "      <td>POR</td>\n",
       "      <td>Nassir Little</td>\n",
       "      <td>UNC</td>\n",
       "      <td>3.0</td>\n",
       "      <td>117.0</td>\n",
       "      <td>1683.0</td>\n",
       "      <td>566.0</td>\n",
       "      <td>348.0</td>\n",
       "      <td>...</td>\n",
       "      <td>0.307</td>\n",
       "      <td>0.746</td>\n",
       "      <td>14.4</td>\n",
       "      <td>4.8</td>\n",
       "      <td>3.0</td>\n",
       "      <td>0.5</td>\n",
       "      <td>2.7</td>\n",
       "      <td>0.076</td>\n",
       "      <td>-2.9</td>\n",
       "      <td>-0.4</td>\n",
       "    </tr>\n",
       "    <tr>\n",
       "      <th>25</th>\n",
       "      <td>26.0</td>\n",
       "      <td>26.0</td>\n",
       "      <td>CLE</td>\n",
       "      <td>Dylan Windler</td>\n",
       "      <td>Belmont</td>\n",
       "      <td>2.0</td>\n",
       "      <td>47.0</td>\n",
       "      <td>695.0</td>\n",
       "      <td>205.0</td>\n",
       "      <td>138.0</td>\n",
       "      <td>...</td>\n",
       "      <td>0.350</td>\n",
       "      <td>0.774</td>\n",
       "      <td>14.8</td>\n",
       "      <td>4.4</td>\n",
       "      <td>2.9</td>\n",
       "      <td>1.1</td>\n",
       "      <td>0.9</td>\n",
       "      <td>0.060</td>\n",
       "      <td>-1.8</td>\n",
       "      <td>0.0</td>\n",
       "    </tr>\n",
       "    <tr>\n",
       "      <th>26</th>\n",
       "      <td>27.0</td>\n",
       "      <td>27.0</td>\n",
       "      <td>BRK</td>\n",
       "      <td>Mfiondu Kabengele</td>\n",
       "      <td>Florida State</td>\n",
       "      <td>2.0</td>\n",
       "      <td>51.0</td>\n",
       "      <td>344.0</td>\n",
       "      <td>137.0</td>\n",
       "      <td>71.0</td>\n",
       "      <td>...</td>\n",
       "      <td>0.314</td>\n",
       "      <td>0.840</td>\n",
       "      <td>6.7</td>\n",
       "      <td>2.7</td>\n",
       "      <td>1.4</td>\n",
       "      <td>0.4</td>\n",
       "      <td>0.4</td>\n",
       "      <td>0.054</td>\n",
       "      <td>-3.3</td>\n",
       "      <td>-0.1</td>\n",
       "    </tr>\n",
       "    <tr>\n",
       "      <th>27</th>\n",
       "      <td>28.0</td>\n",
       "      <td>28.0</td>\n",
       "      <td>GSW</td>\n",
       "      <td>Jordan Poole</td>\n",
       "      <td>Michigan</td>\n",
       "      <td>3.0</td>\n",
       "      <td>129.0</td>\n",
       "      <td>2901.0</td>\n",
       "      <td>1504.0</td>\n",
       "      <td>276.0</td>\n",
       "      <td>...</td>\n",
       "      <td>0.324</td>\n",
       "      <td>0.853</td>\n",
       "      <td>22.5</td>\n",
       "      <td>11.7</td>\n",
       "      <td>2.1</td>\n",
       "      <td>2.3</td>\n",
       "      <td>2.5</td>\n",
       "      <td>0.041</td>\n",
       "      <td>-3.3</td>\n",
       "      <td>-1.0</td>\n",
       "    </tr>\n",
       "    <tr>\n",
       "      <th>28</th>\n",
       "      <td>29.0</td>\n",
       "      <td>29.0</td>\n",
       "      <td>SAS</td>\n",
       "      <td>Keldon Johnson</td>\n",
       "      <td>Kentucky</td>\n",
       "      <td>3.0</td>\n",
       "      <td>105.0</td>\n",
       "      <td>2866.0</td>\n",
       "      <td>1319.0</td>\n",
       "      <td>591.0</td>\n",
       "      <td>...</td>\n",
       "      <td>0.369</td>\n",
       "      <td>0.730</td>\n",
       "      <td>27.3</td>\n",
       "      <td>12.6</td>\n",
       "      <td>5.6</td>\n",
       "      <td>1.7</td>\n",
       "      <td>5.3</td>\n",
       "      <td>0.089</td>\n",
       "      <td>-1.6</td>\n",
       "      <td>0.3</td>\n",
       "    </tr>\n",
       "    <tr>\n",
       "      <th>29</th>\n",
       "      <td>30.0</td>\n",
       "      <td>30.0</td>\n",
       "      <td>MIL</td>\n",
       "      <td>Kevin Porter Jr.</td>\n",
       "      <td>USC</td>\n",
       "      <td>3.0</td>\n",
       "      <td>94.0</td>\n",
       "      <td>2553.0</td>\n",
       "      <td>1165.0</td>\n",
       "      <td>344.0</td>\n",
       "      <td>...</td>\n",
       "      <td>0.322</td>\n",
       "      <td>0.701</td>\n",
       "      <td>27.2</td>\n",
       "      <td>12.4</td>\n",
       "      <td>3.7</td>\n",
       "      <td>4.0</td>\n",
       "      <td>-0.2</td>\n",
       "      <td>-0.003</td>\n",
       "      <td>-4.1</td>\n",
       "      <td>-1.4</td>\n",
       "    </tr>\n",
       "  </tbody>\n",
       "</table>\n",
       "<p>30 rows × 22 columns</p>\n",
       "</div>"
      ],
      "text/plain": [
       "      Rk    Pk   Tm                    Player        College  Yrs      G  \\\n",
       "0    1.0   1.0  NOP           Zion Williamson           Duke  2.0   85.0   \n",
       "1    2.0   2.0  MEM                 Ja Morant   Murray State  3.0  149.0   \n",
       "2    3.0   3.0  NYK                RJ Barrett           Duke  3.0  149.0   \n",
       "3    4.0   4.0  LAL           De'Andre Hunter       Virginia  3.0   97.0   \n",
       "4    5.0   5.0  CLE            Darius Garland     Vanderbilt  3.0  133.0   \n",
       "5    6.0   6.0  PHO            Jarrett Culver     Texas Tech  3.0  103.0   \n",
       "6    7.0   7.0  CHI                Coby White            UNC  3.0  143.0   \n",
       "7    8.0   8.0  ATL              Jaxson Hayes          Texas  3.0  143.0   \n",
       "8    9.0   9.0  WAS             Rui Hachimura        Gonzaga  2.0  105.0   \n",
       "9   10.0  10.0  ATL               Cam Reddish           Duke  3.0  105.0   \n",
       "10  11.0  11.0  MIN           Cameron Johnson            UNC  3.0  138.0   \n",
       "11  12.0  12.0  CHO           P.J. Washington       Kentucky  3.0  134.0   \n",
       "12  13.0  13.0  MIA               Tyler Herro       Kentucky  3.0  128.0   \n",
       "13  14.0  14.0  BOS            Romeo Langford        Indiana  3.0   67.0   \n",
       "14  15.0  15.0  DET           Sekou Doumbouya            NaN  3.0   96.0   \n",
       "15  16.0  16.0  ORL               Chuma Okeke         Auburn  2.0   62.0   \n",
       "16  17.0  17.0  BRK  Nickeil Alexander-Walker  Virginia Tech  3.0  117.0   \n",
       "17  18.0  18.0  IND              Goga Bitadze            NaN  3.0  115.0   \n",
       "18  19.0  19.0  SAS              Luka Šamanić            NaN  2.0   36.0   \n",
       "19  20.0  20.0  BOS          Matisse Thybulle     Washington  3.0  145.0   \n",
       "20  21.0  21.0  OKC            Brandon Clarke        Gonzaga  3.0  135.0   \n",
       "21  22.0  22.0  BOS            Grant Williams      Tennessee  3.0  154.0   \n",
       "22  23.0  23.0  UTA             Darius Bazley            NaN  3.0  137.0   \n",
       "23  24.0  24.0  PHI                 Ty Jerome       Virginia  3.0   82.0   \n",
       "24  25.0  25.0  POR             Nassir Little            UNC  3.0  117.0   \n",
       "25  26.0  26.0  CLE             Dylan Windler        Belmont  2.0   47.0   \n",
       "26  27.0  27.0  BRK         Mfiondu Kabengele  Florida State  2.0   51.0   \n",
       "27  28.0  28.0  GSW              Jordan Poole       Michigan  3.0  129.0   \n",
       "28  29.0  29.0  SAS            Keldon Johnson       Kentucky  3.0  105.0   \n",
       "29  30.0  30.0  MIL          Kevin Porter Jr.            USC  3.0   94.0   \n",
       "\n",
       "        MP     PTS    TRB  ...    3P%    FT%  MP.1   PPG  RPG  APG    WS  \\\n",
       "0   2694.0  2187.0  591.0  ...  0.333  0.683  31.7  25.7  7.0  3.2  10.6   \n",
       "1   4746.0  2855.0  617.0  ...  0.323  0.754  31.9  19.2  4.1  7.3   8.8   \n",
       "2   4871.0  2362.0  817.0  ...  0.361  0.684  32.7  15.9  5.5  2.7   3.8   \n",
       "3   3002.0  1241.0  426.0  ...  0.352  0.782  30.9  12.8  4.4  1.7   1.8   \n",
       "4   4307.0  2039.0  292.0  ...  0.371  0.856  32.4  15.3  2.2  5.3   1.2   \n",
       "5   2054.0   782.0  323.0  ...  0.288  0.509  19.9   7.6  3.1  1.3  -0.1   \n",
       "6   3988.0  1955.0  537.0  ...  0.352  0.842  27.9  13.7  3.8  3.6   3.1   \n",
       "7   2276.0  1033.0  578.0  ...  0.379  0.703  15.9   7.2  4.0  0.7   8.0   \n",
       "8   3241.0  1438.0  606.0  ...  0.313  0.797  30.9  13.7  5.8  1.6   3.9   \n",
       "9   2773.0  1143.0  379.0  ...  0.323  0.823  26.4  10.9  3.6  1.3   0.7   \n",
       "10  3163.0  1261.0  453.0  ...  0.371  0.810  22.9   9.1  3.3  1.3   6.2   \n",
       "11  3994.0  1657.0  790.0  ...  0.389  0.700  29.8  12.4  5.9  2.3   5.3   \n",
       "12  3784.0  1971.0  596.0  ...  0.378  0.842  29.6  15.4  4.7  3.0   4.3   \n",
       "13   976.0   216.0  130.0  ...  0.313  0.729  14.6   3.2  1.9  0.5   0.6   \n",
       "14  1639.0   542.0  267.0  ...  0.256  0.693  17.1   5.6  2.8  0.7  -0.4   \n",
       "15  1493.0   467.0  250.0  ...  0.314  0.794  24.1   7.5  4.0  2.0   1.5   \n",
       "16  2292.0  1108.0  327.0  ...  0.330  0.735  19.6   9.5  2.8  2.2   0.6   \n",
       "17  1170.0   446.0  293.0  ...  0.219  0.721  10.2   3.9  2.5  0.5   2.3   \n",
       "18   356.0   138.0   78.0  ...  0.294  0.576   9.9   3.8  2.2  0.6   0.1   \n",
       "19  2968.0   655.0  268.0  ...  0.327  0.600  20.5   4.5  1.8  1.1   5.8   \n",
       "20  3004.0  1446.0  754.0  ...  0.289  0.718  22.3  10.7  5.6  1.5  10.3   \n",
       "21  2648.0   694.0  431.0  ...  0.348  0.698  17.2   4.5  2.8  1.0   4.3   \n",
       "22  3430.0  1280.0  783.0  ...  0.302  0.689  25.0   9.3  5.7  1.2   0.0   \n",
       "23  1353.0   579.0  158.0  ...  0.374  0.792  16.5   7.1  1.9  2.2   2.0   \n",
       "24  1683.0   566.0  348.0  ...  0.307  0.746  14.4   4.8  3.0  0.5   2.7   \n",
       "25   695.0   205.0  138.0  ...  0.350  0.774  14.8   4.4  2.9  1.1   0.9   \n",
       "26   344.0   137.0   71.0  ...  0.314  0.840   6.7   2.7  1.4  0.4   0.4   \n",
       "27  2901.0  1504.0  276.0  ...  0.324  0.853  22.5  11.7  2.1  2.3   2.5   \n",
       "28  2866.0  1319.0  591.0  ...  0.369  0.730  27.3  12.6  5.6  1.7   5.3   \n",
       "29  2553.0  1165.0  344.0  ...  0.322  0.701  27.2  12.4  3.7  4.0  -0.2   \n",
       "\n",
       "    WS/48  BPM  VORP  \n",
       "0   0.189  4.6   4.5  \n",
       "1   0.089  0.2   2.7  \n",
       "2   0.038 -2.9  -1.1  \n",
       "3   0.028 -3.5  -1.2  \n",
       "4   0.014 -3.0  -1.1  \n",
       "5  -0.003 -4.6  -1.4  \n",
       "6   0.037 -2.9  -0.9  \n",
       "7   0.169 -0.2   1.0  \n",
       "8   0.058 -3.3  -1.1  \n",
       "9   0.012 -3.7  -1.2  \n",
       "10  0.094 -0.3   1.4  \n",
       "11  0.063 -1.2   0.8  \n",
       "12  0.055 -1.1   0.8  \n",
       "13  0.030 -4.6  -0.6  \n",
       "14 -0.012 -6.6  -1.9  \n",
       "15  0.047 -1.9   0.0  \n",
       "16  0.013 -2.8  -0.5  \n",
       "17  0.094 -2.1   0.0  \n",
       "18  0.015 -5.0  -0.3  \n",
       "19  0.094  1.0   2.3  \n",
       "20  0.165  2.1   3.1  \n",
       "21  0.077 -2.7  -0.5  \n",
       "22 -0.001 -3.4  -1.2  \n",
       "23  0.070 -0.9   0.4  \n",
       "24  0.076 -2.9  -0.4  \n",
       "25  0.060 -1.8   0.0  \n",
       "26  0.054 -3.3  -0.1  \n",
       "27  0.041 -3.3  -1.0  \n",
       "28  0.089 -1.6   0.3  \n",
       "29 -0.003 -4.1  -1.4  \n",
       "\n",
       "[30 rows x 22 columns]"
      ]
     },
     "execution_count": 121,
     "metadata": {},
     "output_type": "execute_result"
    }
   ],
   "source": [
    "first_round = draft[:30]\n",
    "first_round.head(100)"
   ]
  },
  {
   "cell_type": "code",
   "execution_count": 122,
   "id": "00a7dba0",
   "metadata": {},
   "outputs": [
    {
     "data": {
      "text/html": [
       "<div>\n",
       "<style scoped>\n",
       "    .dataframe tbody tr th:only-of-type {\n",
       "        vertical-align: middle;\n",
       "    }\n",
       "\n",
       "    .dataframe tbody tr th {\n",
       "        vertical-align: top;\n",
       "    }\n",
       "\n",
       "    .dataframe thead th {\n",
       "        text-align: right;\n",
       "    }\n",
       "</style>\n",
       "<table border=\"1\" class=\"dataframe\">\n",
       "  <thead>\n",
       "    <tr style=\"text-align: right;\">\n",
       "      <th></th>\n",
       "      <th>Rk</th>\n",
       "      <th>Pk</th>\n",
       "      <th>Tm</th>\n",
       "      <th>Player</th>\n",
       "      <th>College</th>\n",
       "      <th>Yrs</th>\n",
       "      <th>G</th>\n",
       "      <th>MP</th>\n",
       "      <th>PTS</th>\n",
       "      <th>TRB</th>\n",
       "      <th>...</th>\n",
       "      <th>3P%</th>\n",
       "      <th>FT%</th>\n",
       "      <th>MP.1</th>\n",
       "      <th>PPG</th>\n",
       "      <th>RPG</th>\n",
       "      <th>APG</th>\n",
       "      <th>WS</th>\n",
       "      <th>WS/48</th>\n",
       "      <th>BPM</th>\n",
       "      <th>VORP</th>\n",
       "    </tr>\n",
       "  </thead>\n",
       "  <tbody>\n",
       "    <tr>\n",
       "      <th>30</th>\n",
       "      <td>31.0</td>\n",
       "      <td>31.0</td>\n",
       "      <td>BRK</td>\n",
       "      <td>Nicolas Claxton</td>\n",
       "      <td>Georgia</td>\n",
       "      <td>3.0</td>\n",
       "      <td>51.0</td>\n",
       "      <td>857.0</td>\n",
       "      <td>304.0</td>\n",
       "      <td>232.0</td>\n",
       "      <td>...</td>\n",
       "      <td>0.167</td>\n",
       "      <td>0.489</td>\n",
       "      <td>16.8</td>\n",
       "      <td>6.0</td>\n",
       "      <td>4.5</td>\n",
       "      <td>0.9</td>\n",
       "      <td>2.5</td>\n",
       "      <td>0.140</td>\n",
       "      <td>-0.4</td>\n",
       "      <td>0.4</td>\n",
       "    </tr>\n",
       "    <tr>\n",
       "      <th>31</th>\n",
       "      <td>32.0</td>\n",
       "      <td>32.0</td>\n",
       "      <td>PHO</td>\n",
       "      <td>KZ Okpala</td>\n",
       "      <td>Stanford</td>\n",
       "      <td>3.0</td>\n",
       "      <td>52.0</td>\n",
       "      <td>536.0</td>\n",
       "      <td>116.0</td>\n",
       "      <td>86.0</td>\n",
       "      <td>...</td>\n",
       "      <td>0.217</td>\n",
       "      <td>0.600</td>\n",
       "      <td>10.3</td>\n",
       "      <td>2.2</td>\n",
       "      <td>1.7</td>\n",
       "      <td>0.4</td>\n",
       "      <td>0.3</td>\n",
       "      <td>0.029</td>\n",
       "      <td>-6.5</td>\n",
       "      <td>-0.6</td>\n",
       "    </tr>\n",
       "    <tr>\n",
       "      <th>32</th>\n",
       "      <td>33.0</td>\n",
       "      <td>33.0</td>\n",
       "      <td>PHI</td>\n",
       "      <td>Carsen Edwards</td>\n",
       "      <td>Purdue</td>\n",
       "      <td>2.0</td>\n",
       "      <td>68.0</td>\n",
       "      <td>627.0</td>\n",
       "      <td>244.0</td>\n",
       "      <td>73.0</td>\n",
       "      <td>...</td>\n",
       "      <td>0.302</td>\n",
       "      <td>0.750</td>\n",
       "      <td>9.2</td>\n",
       "      <td>3.6</td>\n",
       "      <td>1.1</td>\n",
       "      <td>0.6</td>\n",
       "      <td>0.4</td>\n",
       "      <td>0.030</td>\n",
       "      <td>-4.7</td>\n",
       "      <td>-0.4</td>\n",
       "    </tr>\n",
       "    <tr>\n",
       "      <th>33</th>\n",
       "      <td>34.0</td>\n",
       "      <td>34.0</td>\n",
       "      <td>PHI</td>\n",
       "      <td>Bruno Fernando</td>\n",
       "      <td>Maryland</td>\n",
       "      <td>3.0</td>\n",
       "      <td>96.0</td>\n",
       "      <td>952.0</td>\n",
       "      <td>291.0</td>\n",
       "      <td>277.0</td>\n",
       "      <td>...</td>\n",
       "      <td>0.128</td>\n",
       "      <td>0.603</td>\n",
       "      <td>9.9</td>\n",
       "      <td>3.0</td>\n",
       "      <td>2.9</td>\n",
       "      <td>0.6</td>\n",
       "      <td>0.7</td>\n",
       "      <td>0.035</td>\n",
       "      <td>-4.9</td>\n",
       "      <td>-0.7</td>\n",
       "    </tr>\n",
       "    <tr>\n",
       "      <th>34</th>\n",
       "      <td>35.0</td>\n",
       "      <td>35.0</td>\n",
       "      <td>ATL</td>\n",
       "      <td>Didi Louzada</td>\n",
       "      <td>NaN</td>\n",
       "      <td>2.0</td>\n",
       "      <td>5.0</td>\n",
       "      <td>63.0</td>\n",
       "      <td>8.0</td>\n",
       "      <td>5.0</td>\n",
       "      <td>...</td>\n",
       "      <td>0.182</td>\n",
       "      <td>NaN</td>\n",
       "      <td>12.6</td>\n",
       "      <td>1.6</td>\n",
       "      <td>1.0</td>\n",
       "      <td>0.8</td>\n",
       "      <td>-0.2</td>\n",
       "      <td>-0.118</td>\n",
       "      <td>-10.2</td>\n",
       "      <td>-0.1</td>\n",
       "    </tr>\n",
       "    <tr>\n",
       "      <th>35</th>\n",
       "      <td>36.0</td>\n",
       "      <td>36.0</td>\n",
       "      <td>CHO</td>\n",
       "      <td>Cody Martin</td>\n",
       "      <td>Nevada</td>\n",
       "      <td>3.0</td>\n",
       "      <td>122.0</td>\n",
       "      <td>2294.0</td>\n",
       "      <td>614.0</td>\n",
       "      <td>410.0</td>\n",
       "      <td>...</td>\n",
       "      <td>0.305</td>\n",
       "      <td>0.643</td>\n",
       "      <td>18.8</td>\n",
       "      <td>5.0</td>\n",
       "      <td>3.4</td>\n",
       "      <td>1.9</td>\n",
       "      <td>3.6</td>\n",
       "      <td>0.074</td>\n",
       "      <td>-1.3</td>\n",
       "      <td>0.4</td>\n",
       "    </tr>\n",
       "    <tr>\n",
       "      <th>36</th>\n",
       "      <td>37.0</td>\n",
       "      <td>37.0</td>\n",
       "      <td>DAL</td>\n",
       "      <td>Deividas Sirvydis</td>\n",
       "      <td>NaN</td>\n",
       "      <td>1.0</td>\n",
       "      <td>20.0</td>\n",
       "      <td>133.0</td>\n",
       "      <td>41.0</td>\n",
       "      <td>29.0</td>\n",
       "      <td>...</td>\n",
       "      <td>0.357</td>\n",
       "      <td>0.500</td>\n",
       "      <td>6.7</td>\n",
       "      <td>2.1</td>\n",
       "      <td>1.5</td>\n",
       "      <td>0.3</td>\n",
       "      <td>0.0</td>\n",
       "      <td>-0.010</td>\n",
       "      <td>-5.6</td>\n",
       "      <td>-0.1</td>\n",
       "    </tr>\n",
       "    <tr>\n",
       "      <th>37</th>\n",
       "      <td>38.0</td>\n",
       "      <td>38.0</td>\n",
       "      <td>CHI</td>\n",
       "      <td>Daniel Gafford</td>\n",
       "      <td>Arkansas</td>\n",
       "      <td>3.0</td>\n",
       "      <td>116.0</td>\n",
       "      <td>1801.0</td>\n",
       "      <td>777.0</td>\n",
       "      <td>449.0</td>\n",
       "      <td>...</td>\n",
       "      <td>NaN</td>\n",
       "      <td>0.632</td>\n",
       "      <td>15.5</td>\n",
       "      <td>6.7</td>\n",
       "      <td>3.9</td>\n",
       "      <td>0.6</td>\n",
       "      <td>7.1</td>\n",
       "      <td>0.189</td>\n",
       "      <td>1.4</td>\n",
       "      <td>1.6</td>\n",
       "    </tr>\n",
       "    <tr>\n",
       "      <th>38</th>\n",
       "      <td>39.0</td>\n",
       "      <td>39.0</td>\n",
       "      <td>NOP</td>\n",
       "      <td>Alen Smailagić</td>\n",
       "      <td>NaN</td>\n",
       "      <td>2.0</td>\n",
       "      <td>29.0</td>\n",
       "      <td>223.0</td>\n",
       "      <td>87.0</td>\n",
       "      <td>43.0</td>\n",
       "      <td>...</td>\n",
       "      <td>0.304</td>\n",
       "      <td>0.720</td>\n",
       "      <td>7.7</td>\n",
       "      <td>3.0</td>\n",
       "      <td>1.5</td>\n",
       "      <td>0.6</td>\n",
       "      <td>0.3</td>\n",
       "      <td>0.056</td>\n",
       "      <td>-3.4</td>\n",
       "      <td>-0.1</td>\n",
       "    </tr>\n",
       "    <tr>\n",
       "      <th>39</th>\n",
       "      <td>40.0</td>\n",
       "      <td>40.0</td>\n",
       "      <td>SAC</td>\n",
       "      <td>Justin James</td>\n",
       "      <td>Wyoming</td>\n",
       "      <td>2.0</td>\n",
       "      <td>72.0</td>\n",
       "      <td>542.0</td>\n",
       "      <td>228.0</td>\n",
       "      <td>62.0</td>\n",
       "      <td>...</td>\n",
       "      <td>0.343</td>\n",
       "      <td>0.544</td>\n",
       "      <td>7.5</td>\n",
       "      <td>3.2</td>\n",
       "      <td>0.9</td>\n",
       "      <td>0.6</td>\n",
       "      <td>0.3</td>\n",
       "      <td>0.024</td>\n",
       "      <td>-3.2</td>\n",
       "      <td>-0.2</td>\n",
       "    </tr>\n",
       "    <tr>\n",
       "      <th>40</th>\n",
       "      <td>41.0</td>\n",
       "      <td>41.0</td>\n",
       "      <td>GSW</td>\n",
       "      <td>Eric Paschall</td>\n",
       "      <td>Villanova</td>\n",
       "      <td>3.0</td>\n",
       "      <td>119.0</td>\n",
       "      <td>2579.0</td>\n",
       "      <td>1288.0</td>\n",
       "      <td>441.0</td>\n",
       "      <td>...</td>\n",
       "      <td>0.297</td>\n",
       "      <td>0.752</td>\n",
       "      <td>21.7</td>\n",
       "      <td>10.8</td>\n",
       "      <td>3.7</td>\n",
       "      <td>1.6</td>\n",
       "      <td>3.5</td>\n",
       "      <td>0.064</td>\n",
       "      <td>-2.8</td>\n",
       "      <td>-0.5</td>\n",
       "    </tr>\n",
       "    <tr>\n",
       "      <th>41</th>\n",
       "      <td>42.0</td>\n",
       "      <td>42.0</td>\n",
       "      <td>PHI</td>\n",
       "      <td>Admiral Schofield</td>\n",
       "      <td>Tennessee</td>\n",
       "      <td>1.0</td>\n",
       "      <td>33.0</td>\n",
       "      <td>368.0</td>\n",
       "      <td>99.0</td>\n",
       "      <td>47.0</td>\n",
       "      <td>...</td>\n",
       "      <td>0.311</td>\n",
       "      <td>0.667</td>\n",
       "      <td>11.2</td>\n",
       "      <td>3.0</td>\n",
       "      <td>1.4</td>\n",
       "      <td>0.5</td>\n",
       "      <td>0.1</td>\n",
       "      <td>0.017</td>\n",
       "      <td>-5.5</td>\n",
       "      <td>-0.3</td>\n",
       "    </tr>\n",
       "    <tr>\n",
       "      <th>42</th>\n",
       "      <td>43.0</td>\n",
       "      <td>43.0</td>\n",
       "      <td>MIN</td>\n",
       "      <td>Jaylen Nowell</td>\n",
       "      <td>Washington</td>\n",
       "      <td>3.0</td>\n",
       "      <td>68.0</td>\n",
       "      <td>974.0</td>\n",
       "      <td>463.0</td>\n",
       "      <td>118.0</td>\n",
       "      <td>...</td>\n",
       "      <td>0.293</td>\n",
       "      <td>0.851</td>\n",
       "      <td>14.3</td>\n",
       "      <td>6.8</td>\n",
       "      <td>1.7</td>\n",
       "      <td>1.3</td>\n",
       "      <td>0.9</td>\n",
       "      <td>0.046</td>\n",
       "      <td>-3.1</td>\n",
       "      <td>-0.3</td>\n",
       "    </tr>\n",
       "    <tr>\n",
       "      <th>43</th>\n",
       "      <td>44.0</td>\n",
       "      <td>44.0</td>\n",
       "      <td>MIA</td>\n",
       "      <td>Bol Bol</td>\n",
       "      <td>Oregon</td>\n",
       "      <td>3.0</td>\n",
       "      <td>49.0</td>\n",
       "      <td>294.0</td>\n",
       "      <td>124.0</td>\n",
       "      <td>57.0</td>\n",
       "      <td>...</td>\n",
       "      <td>0.361</td>\n",
       "      <td>0.679</td>\n",
       "      <td>6.0</td>\n",
       "      <td>2.5</td>\n",
       "      <td>1.2</td>\n",
       "      <td>0.3</td>\n",
       "      <td>0.2</td>\n",
       "      <td>0.030</td>\n",
       "      <td>-3.3</td>\n",
       "      <td>-0.1</td>\n",
       "    </tr>\n",
       "    <tr>\n",
       "      <th>44</th>\n",
       "      <td>45.0</td>\n",
       "      <td>45.0</td>\n",
       "      <td>DET</td>\n",
       "      <td>Isaiah Roby</td>\n",
       "      <td>Nebraska</td>\n",
       "      <td>3.0</td>\n",
       "      <td>75.0</td>\n",
       "      <td>1571.0</td>\n",
       "      <td>603.0</td>\n",
       "      <td>373.0</td>\n",
       "      <td>...</td>\n",
       "      <td>0.295</td>\n",
       "      <td>0.742</td>\n",
       "      <td>20.9</td>\n",
       "      <td>8.0</td>\n",
       "      <td>5.0</td>\n",
       "      <td>1.5</td>\n",
       "      <td>1.7</td>\n",
       "      <td>0.051</td>\n",
       "      <td>-3.2</td>\n",
       "      <td>-0.5</td>\n",
       "    </tr>\n",
       "    <tr>\n",
       "      <th>45</th>\n",
       "      <td>46.0</td>\n",
       "      <td>46.0</td>\n",
       "      <td>ORL</td>\n",
       "      <td>Talen Horton-Tucker</td>\n",
       "      <td>Iowa State</td>\n",
       "      <td>3.0</td>\n",
       "      <td>81.0</td>\n",
       "      <td>1673.0</td>\n",
       "      <td>728.0</td>\n",
       "      <td>227.0</td>\n",
       "      <td>...</td>\n",
       "      <td>0.285</td>\n",
       "      <td>0.791</td>\n",
       "      <td>20.7</td>\n",
       "      <td>9.0</td>\n",
       "      <td>2.8</td>\n",
       "      <td>2.6</td>\n",
       "      <td>2.4</td>\n",
       "      <td>0.070</td>\n",
       "      <td>-1.8</td>\n",
       "      <td>0.1</td>\n",
       "    </tr>\n",
       "    <tr>\n",
       "      <th>46</th>\n",
       "      <td>47.0</td>\n",
       "      <td>47.0</td>\n",
       "      <td>SAC</td>\n",
       "      <td>Ignas Brazdeikis</td>\n",
       "      <td>Michigan</td>\n",
       "      <td>3.0</td>\n",
       "      <td>33.0</td>\n",
       "      <td>394.0</td>\n",
       "      <td>126.0</td>\n",
       "      <td>67.0</td>\n",
       "      <td>...</td>\n",
       "      <td>0.283</td>\n",
       "      <td>0.714</td>\n",
       "      <td>11.9</td>\n",
       "      <td>3.8</td>\n",
       "      <td>2.0</td>\n",
       "      <td>0.8</td>\n",
       "      <td>-0.2</td>\n",
       "      <td>-0.021</td>\n",
       "      <td>-7.0</td>\n",
       "      <td>-0.5</td>\n",
       "    </tr>\n",
       "    <tr>\n",
       "      <th>47</th>\n",
       "      <td>48.0</td>\n",
       "      <td>48.0</td>\n",
       "      <td>LAC</td>\n",
       "      <td>Terance Mann</td>\n",
       "      <td>Florida State</td>\n",
       "      <td>3.0</td>\n",
       "      <td>129.0</td>\n",
       "      <td>2220.0</td>\n",
       "      <td>781.0</td>\n",
       "      <td>402.0</td>\n",
       "      <td>...</td>\n",
       "      <td>0.385</td>\n",
       "      <td>0.798</td>\n",
       "      <td>17.2</td>\n",
       "      <td>6.1</td>\n",
       "      <td>3.1</td>\n",
       "      <td>1.6</td>\n",
       "      <td>6.0</td>\n",
       "      <td>0.130</td>\n",
       "      <td>-0.7</td>\n",
       "      <td>0.7</td>\n",
       "    </tr>\n",
       "    <tr>\n",
       "      <th>48</th>\n",
       "      <td>49.0</td>\n",
       "      <td>49.0</td>\n",
       "      <td>SAS</td>\n",
       "      <td>Quinndary Weatherspoon</td>\n",
       "      <td>Mississippi State</td>\n",
       "      <td>2.0</td>\n",
       "      <td>31.0</td>\n",
       "      <td>199.0</td>\n",
       "      <td>58.0</td>\n",
       "      <td>18.0</td>\n",
       "      <td>...</td>\n",
       "      <td>0.182</td>\n",
       "      <td>0.778</td>\n",
       "      <td>6.4</td>\n",
       "      <td>1.9</td>\n",
       "      <td>0.6</td>\n",
       "      <td>0.6</td>\n",
       "      <td>-0.1</td>\n",
       "      <td>-0.014</td>\n",
       "      <td>-6.0</td>\n",
       "      <td>-0.2</td>\n",
       "    </tr>\n",
       "    <tr>\n",
       "      <th>49</th>\n",
       "      <td>50.0</td>\n",
       "      <td>50.0</td>\n",
       "      <td>IND</td>\n",
       "      <td>Jarrell Brantley</td>\n",
       "      <td>College of Charleston</td>\n",
       "      <td>2.0</td>\n",
       "      <td>37.0</td>\n",
       "      <td>234.0</td>\n",
       "      <td>88.0</td>\n",
       "      <td>47.0</td>\n",
       "      <td>...</td>\n",
       "      <td>0.366</td>\n",
       "      <td>0.750</td>\n",
       "      <td>6.3</td>\n",
       "      <td>2.4</td>\n",
       "      <td>1.3</td>\n",
       "      <td>0.7</td>\n",
       "      <td>0.5</td>\n",
       "      <td>0.099</td>\n",
       "      <td>-0.6</td>\n",
       "      <td>0.1</td>\n",
       "    </tr>\n",
       "    <tr>\n",
       "      <th>50</th>\n",
       "      <td>51.0</td>\n",
       "      <td>51.0</td>\n",
       "      <td>BOS</td>\n",
       "      <td>Tremont Waters</td>\n",
       "      <td>LSU</td>\n",
       "      <td>2.0</td>\n",
       "      <td>37.0</td>\n",
       "      <td>357.0</td>\n",
       "      <td>139.0</td>\n",
       "      <td>33.0</td>\n",
       "      <td>...</td>\n",
       "      <td>0.306</td>\n",
       "      <td>0.960</td>\n",
       "      <td>9.6</td>\n",
       "      <td>3.8</td>\n",
       "      <td>0.9</td>\n",
       "      <td>2.1</td>\n",
       "      <td>0.1</td>\n",
       "      <td>0.019</td>\n",
       "      <td>-2.3</td>\n",
       "      <td>0.0</td>\n",
       "    </tr>\n",
       "    <tr>\n",
       "      <th>51</th>\n",
       "      <td>52.0</td>\n",
       "      <td>52.0</td>\n",
       "      <td>CHO</td>\n",
       "      <td>Jalen McDaniels</td>\n",
       "      <td>San Diego State</td>\n",
       "      <td>3.0</td>\n",
       "      <td>85.0</td>\n",
       "      <td>1528.0</td>\n",
       "      <td>555.0</td>\n",
       "      <td>306.0</td>\n",
       "      <td>...</td>\n",
       "      <td>0.370</td>\n",
       "      <td>0.708</td>\n",
       "      <td>18.0</td>\n",
       "      <td>6.5</td>\n",
       "      <td>3.6</td>\n",
       "      <td>1.0</td>\n",
       "      <td>2.4</td>\n",
       "      <td>0.076</td>\n",
       "      <td>-2.8</td>\n",
       "      <td>-0.3</td>\n",
       "    </tr>\n",
       "    <tr>\n",
       "      <th>52</th>\n",
       "      <td>53.0</td>\n",
       "      <td>53.0</td>\n",
       "      <td>UTA</td>\n",
       "      <td>Justin Wright-Foreman</td>\n",
       "      <td>Hofstra</td>\n",
       "      <td>1.0</td>\n",
       "      <td>4.0</td>\n",
       "      <td>45.0</td>\n",
       "      <td>19.0</td>\n",
       "      <td>5.0</td>\n",
       "      <td>...</td>\n",
       "      <td>0.200</td>\n",
       "      <td>0.750</td>\n",
       "      <td>11.3</td>\n",
       "      <td>4.8</td>\n",
       "      <td>1.3</td>\n",
       "      <td>1.8</td>\n",
       "      <td>0.0</td>\n",
       "      <td>-0.008</td>\n",
       "      <td>-9.0</td>\n",
       "      <td>-0.1</td>\n",
       "    </tr>\n",
       "    <tr>\n",
       "      <th>53</th>\n",
       "      <td>54.0</td>\n",
       "      <td>54.0</td>\n",
       "      <td>PHI</td>\n",
       "      <td>Marial Shayok</td>\n",
       "      <td>Iowa State</td>\n",
       "      <td>1.0</td>\n",
       "      <td>4.0</td>\n",
       "      <td>28.0</td>\n",
       "      <td>11.0</td>\n",
       "      <td>7.0</td>\n",
       "      <td>...</td>\n",
       "      <td>0.333</td>\n",
       "      <td>0.750</td>\n",
       "      <td>7.0</td>\n",
       "      <td>2.8</td>\n",
       "      <td>1.8</td>\n",
       "      <td>0.3</td>\n",
       "      <td>-0.1</td>\n",
       "      <td>-0.130</td>\n",
       "      <td>-13.0</td>\n",
       "      <td>-0.1</td>\n",
       "    </tr>\n",
       "    <tr>\n",
       "      <th>54</th>\n",
       "      <td>55.0</td>\n",
       "      <td>55.0</td>\n",
       "      <td>NYK</td>\n",
       "      <td>Kyle Guy</td>\n",
       "      <td>Virginia</td>\n",
       "      <td>2.0</td>\n",
       "      <td>34.0</td>\n",
       "      <td>245.0</td>\n",
       "      <td>91.0</td>\n",
       "      <td>36.0</td>\n",
       "      <td>...</td>\n",
       "      <td>0.265</td>\n",
       "      <td>0.800</td>\n",
       "      <td>7.2</td>\n",
       "      <td>2.7</td>\n",
       "      <td>1.1</td>\n",
       "      <td>1.0</td>\n",
       "      <td>-0.1</td>\n",
       "      <td>-0.016</td>\n",
       "      <td>-6.6</td>\n",
       "      <td>-0.3</td>\n",
       "    </tr>\n",
       "    <tr>\n",
       "      <th>55</th>\n",
       "      <td>56.0</td>\n",
       "      <td>56.0</td>\n",
       "      <td>LAC</td>\n",
       "      <td>Jaylen Hands</td>\n",
       "      <td>UCLA</td>\n",
       "      <td>NaN</td>\n",
       "      <td>NaN</td>\n",
       "      <td>NaN</td>\n",
       "      <td>NaN</td>\n",
       "      <td>NaN</td>\n",
       "      <td>...</td>\n",
       "      <td>NaN</td>\n",
       "      <td>NaN</td>\n",
       "      <td>NaN</td>\n",
       "      <td>NaN</td>\n",
       "      <td>NaN</td>\n",
       "      <td>NaN</td>\n",
       "      <td>NaN</td>\n",
       "      <td>NaN</td>\n",
       "      <td>NaN</td>\n",
       "      <td>NaN</td>\n",
       "    </tr>\n",
       "    <tr>\n",
       "      <th>56</th>\n",
       "      <td>57.0</td>\n",
       "      <td>57.0</td>\n",
       "      <td>NOP</td>\n",
       "      <td>Jordan Bone</td>\n",
       "      <td>Tennessee</td>\n",
       "      <td>2.0</td>\n",
       "      <td>24.0</td>\n",
       "      <td>249.0</td>\n",
       "      <td>68.0</td>\n",
       "      <td>28.0</td>\n",
       "      <td>...</td>\n",
       "      <td>0.286</td>\n",
       "      <td>NaN</td>\n",
       "      <td>10.4</td>\n",
       "      <td>2.8</td>\n",
       "      <td>1.2</td>\n",
       "      <td>1.1</td>\n",
       "      <td>0.1</td>\n",
       "      <td>0.010</td>\n",
       "      <td>-5.9</td>\n",
       "      <td>-0.2</td>\n",
       "    </tr>\n",
       "    <tr>\n",
       "      <th>57</th>\n",
       "      <td>58.0</td>\n",
       "      <td>58.0</td>\n",
       "      <td>GSW</td>\n",
       "      <td>Miye Oni</td>\n",
       "      <td>Yale</td>\n",
       "      <td>3.0</td>\n",
       "      <td>74.0</td>\n",
       "      <td>658.0</td>\n",
       "      <td>142.0</td>\n",
       "      <td>105.0</td>\n",
       "      <td>...</td>\n",
       "      <td>0.333</td>\n",
       "      <td>0.750</td>\n",
       "      <td>8.9</td>\n",
       "      <td>1.9</td>\n",
       "      <td>1.4</td>\n",
       "      <td>0.5</td>\n",
       "      <td>1.0</td>\n",
       "      <td>0.070</td>\n",
       "      <td>-2.9</td>\n",
       "      <td>-0.2</td>\n",
       "    </tr>\n",
       "    <tr>\n",
       "      <th>58</th>\n",
       "      <td>59.0</td>\n",
       "      <td>59.0</td>\n",
       "      <td>TOR</td>\n",
       "      <td>Dewan Hernandez</td>\n",
       "      <td>Miami (FL)</td>\n",
       "      <td>1.0</td>\n",
       "      <td>6.0</td>\n",
       "      <td>28.0</td>\n",
       "      <td>14.0</td>\n",
       "      <td>14.0</td>\n",
       "      <td>...</td>\n",
       "      <td>0.500</td>\n",
       "      <td>0.600</td>\n",
       "      <td>4.7</td>\n",
       "      <td>2.3</td>\n",
       "      <td>2.3</td>\n",
       "      <td>0.5</td>\n",
       "      <td>0.0</td>\n",
       "      <td>0.043</td>\n",
       "      <td>-9.6</td>\n",
       "      <td>-0.1</td>\n",
       "    </tr>\n",
       "    <tr>\n",
       "      <th>59</th>\n",
       "      <td>60.0</td>\n",
       "      <td>60.0</td>\n",
       "      <td>SAC</td>\n",
       "      <td>Vanja Marinković</td>\n",
       "      <td>NaN</td>\n",
       "      <td>NaN</td>\n",
       "      <td>NaN</td>\n",
       "      <td>NaN</td>\n",
       "      <td>NaN</td>\n",
       "      <td>NaN</td>\n",
       "      <td>...</td>\n",
       "      <td>NaN</td>\n",
       "      <td>NaN</td>\n",
       "      <td>NaN</td>\n",
       "      <td>NaN</td>\n",
       "      <td>NaN</td>\n",
       "      <td>NaN</td>\n",
       "      <td>NaN</td>\n",
       "      <td>NaN</td>\n",
       "      <td>NaN</td>\n",
       "      <td>NaN</td>\n",
       "    </tr>\n",
       "    <tr>\n",
       "      <th>60</th>\n",
       "      <td>NaN</td>\n",
       "      <td>nan</td>\n",
       "      <td>NaN</td>\n",
       "      <td>NaN</td>\n",
       "      <td>NaN</td>\n",
       "      <td>NaN</td>\n",
       "      <td>NaN</td>\n",
       "      <td>NaN</td>\n",
       "      <td>NaN</td>\n",
       "      <td>NaN</td>\n",
       "      <td>...</td>\n",
       "      <td>NaN</td>\n",
       "      <td>NaN</td>\n",
       "      <td>NaN</td>\n",
       "      <td>NaN</td>\n",
       "      <td>NaN</td>\n",
       "      <td>NaN</td>\n",
       "      <td>NaN</td>\n",
       "      <td>NaN</td>\n",
       "      <td>NaN</td>\n",
       "      <td>NaN</td>\n",
       "    </tr>\n",
       "  </tbody>\n",
       "</table>\n",
       "<p>31 rows × 22 columns</p>\n",
       "</div>"
      ],
      "text/plain": [
       "      Rk    Pk   Tm                  Player                College  Yrs  \\\n",
       "30  31.0  31.0  BRK         Nicolas Claxton                Georgia  3.0   \n",
       "31  32.0  32.0  PHO               KZ Okpala               Stanford  3.0   \n",
       "32  33.0  33.0  PHI          Carsen Edwards                 Purdue  2.0   \n",
       "33  34.0  34.0  PHI          Bruno Fernando               Maryland  3.0   \n",
       "34  35.0  35.0  ATL            Didi Louzada                    NaN  2.0   \n",
       "35  36.0  36.0  CHO             Cody Martin                 Nevada  3.0   \n",
       "36  37.0  37.0  DAL       Deividas Sirvydis                    NaN  1.0   \n",
       "37  38.0  38.0  CHI          Daniel Gafford               Arkansas  3.0   \n",
       "38  39.0  39.0  NOP          Alen Smailagić                    NaN  2.0   \n",
       "39  40.0  40.0  SAC            Justin James                Wyoming  2.0   \n",
       "40  41.0  41.0  GSW           Eric Paschall              Villanova  3.0   \n",
       "41  42.0  42.0  PHI       Admiral Schofield              Tennessee  1.0   \n",
       "42  43.0  43.0  MIN           Jaylen Nowell             Washington  3.0   \n",
       "43  44.0  44.0  MIA                 Bol Bol                 Oregon  3.0   \n",
       "44  45.0  45.0  DET             Isaiah Roby               Nebraska  3.0   \n",
       "45  46.0  46.0  ORL     Talen Horton-Tucker             Iowa State  3.0   \n",
       "46  47.0  47.0  SAC        Ignas Brazdeikis               Michigan  3.0   \n",
       "47  48.0  48.0  LAC            Terance Mann          Florida State  3.0   \n",
       "48  49.0  49.0  SAS  Quinndary Weatherspoon      Mississippi State  2.0   \n",
       "49  50.0  50.0  IND        Jarrell Brantley  College of Charleston  2.0   \n",
       "50  51.0  51.0  BOS          Tremont Waters                    LSU  2.0   \n",
       "51  52.0  52.0  CHO         Jalen McDaniels        San Diego State  3.0   \n",
       "52  53.0  53.0  UTA   Justin Wright-Foreman                Hofstra  1.0   \n",
       "53  54.0  54.0  PHI           Marial Shayok             Iowa State  1.0   \n",
       "54  55.0  55.0  NYK                Kyle Guy               Virginia  2.0   \n",
       "55  56.0  56.0  LAC            Jaylen Hands                   UCLA  NaN   \n",
       "56  57.0  57.0  NOP             Jordan Bone              Tennessee  2.0   \n",
       "57  58.0  58.0  GSW                Miye Oni                   Yale  3.0   \n",
       "58  59.0  59.0  TOR         Dewan Hernandez             Miami (FL)  1.0   \n",
       "59  60.0  60.0  SAC        Vanja Marinković                    NaN  NaN   \n",
       "60   NaN   nan  NaN                     NaN                    NaN  NaN   \n",
       "\n",
       "        G      MP     PTS    TRB  ...    3P%    FT%  MP.1   PPG  RPG  APG  \\\n",
       "30   51.0   857.0   304.0  232.0  ...  0.167  0.489  16.8   6.0  4.5  0.9   \n",
       "31   52.0   536.0   116.0   86.0  ...  0.217  0.600  10.3   2.2  1.7  0.4   \n",
       "32   68.0   627.0   244.0   73.0  ...  0.302  0.750   9.2   3.6  1.1  0.6   \n",
       "33   96.0   952.0   291.0  277.0  ...  0.128  0.603   9.9   3.0  2.9  0.6   \n",
       "34    5.0    63.0     8.0    5.0  ...  0.182    NaN  12.6   1.6  1.0  0.8   \n",
       "35  122.0  2294.0   614.0  410.0  ...  0.305  0.643  18.8   5.0  3.4  1.9   \n",
       "36   20.0   133.0    41.0   29.0  ...  0.357  0.500   6.7   2.1  1.5  0.3   \n",
       "37  116.0  1801.0   777.0  449.0  ...    NaN  0.632  15.5   6.7  3.9  0.6   \n",
       "38   29.0   223.0    87.0   43.0  ...  0.304  0.720   7.7   3.0  1.5  0.6   \n",
       "39   72.0   542.0   228.0   62.0  ...  0.343  0.544   7.5   3.2  0.9  0.6   \n",
       "40  119.0  2579.0  1288.0  441.0  ...  0.297  0.752  21.7  10.8  3.7  1.6   \n",
       "41   33.0   368.0    99.0   47.0  ...  0.311  0.667  11.2   3.0  1.4  0.5   \n",
       "42   68.0   974.0   463.0  118.0  ...  0.293  0.851  14.3   6.8  1.7  1.3   \n",
       "43   49.0   294.0   124.0   57.0  ...  0.361  0.679   6.0   2.5  1.2  0.3   \n",
       "44   75.0  1571.0   603.0  373.0  ...  0.295  0.742  20.9   8.0  5.0  1.5   \n",
       "45   81.0  1673.0   728.0  227.0  ...  0.285  0.791  20.7   9.0  2.8  2.6   \n",
       "46   33.0   394.0   126.0   67.0  ...  0.283  0.714  11.9   3.8  2.0  0.8   \n",
       "47  129.0  2220.0   781.0  402.0  ...  0.385  0.798  17.2   6.1  3.1  1.6   \n",
       "48   31.0   199.0    58.0   18.0  ...  0.182  0.778   6.4   1.9  0.6  0.6   \n",
       "49   37.0   234.0    88.0   47.0  ...  0.366  0.750   6.3   2.4  1.3  0.7   \n",
       "50   37.0   357.0   139.0   33.0  ...  0.306  0.960   9.6   3.8  0.9  2.1   \n",
       "51   85.0  1528.0   555.0  306.0  ...  0.370  0.708  18.0   6.5  3.6  1.0   \n",
       "52    4.0    45.0    19.0    5.0  ...  0.200  0.750  11.3   4.8  1.3  1.8   \n",
       "53    4.0    28.0    11.0    7.0  ...  0.333  0.750   7.0   2.8  1.8  0.3   \n",
       "54   34.0   245.0    91.0   36.0  ...  0.265  0.800   7.2   2.7  1.1  1.0   \n",
       "55    NaN     NaN     NaN    NaN  ...    NaN    NaN   NaN   NaN  NaN  NaN   \n",
       "56   24.0   249.0    68.0   28.0  ...  0.286    NaN  10.4   2.8  1.2  1.1   \n",
       "57   74.0   658.0   142.0  105.0  ...  0.333  0.750   8.9   1.9  1.4  0.5   \n",
       "58    6.0    28.0    14.0   14.0  ...  0.500  0.600   4.7   2.3  2.3  0.5   \n",
       "59    NaN     NaN     NaN    NaN  ...    NaN    NaN   NaN   NaN  NaN  NaN   \n",
       "60    NaN     NaN     NaN    NaN  ...    NaN    NaN   NaN   NaN  NaN  NaN   \n",
       "\n",
       "     WS  WS/48   BPM  VORP  \n",
       "30  2.5  0.140  -0.4   0.4  \n",
       "31  0.3  0.029  -6.5  -0.6  \n",
       "32  0.4  0.030  -4.7  -0.4  \n",
       "33  0.7  0.035  -4.9  -0.7  \n",
       "34 -0.2 -0.118 -10.2  -0.1  \n",
       "35  3.6  0.074  -1.3   0.4  \n",
       "36  0.0 -0.010  -5.6  -0.1  \n",
       "37  7.1  0.189   1.4   1.6  \n",
       "38  0.3  0.056  -3.4  -0.1  \n",
       "39  0.3  0.024  -3.2  -0.2  \n",
       "40  3.5  0.064  -2.8  -0.5  \n",
       "41  0.1  0.017  -5.5  -0.3  \n",
       "42  0.9  0.046  -3.1  -0.3  \n",
       "43  0.2  0.030  -3.3  -0.1  \n",
       "44  1.7  0.051  -3.2  -0.5  \n",
       "45  2.4  0.070  -1.8   0.1  \n",
       "46 -0.2 -0.021  -7.0  -0.5  \n",
       "47  6.0  0.130  -0.7   0.7  \n",
       "48 -0.1 -0.014  -6.0  -0.2  \n",
       "49  0.5  0.099  -0.6   0.1  \n",
       "50  0.1  0.019  -2.3   0.0  \n",
       "51  2.4  0.076  -2.8  -0.3  \n",
       "52  0.0 -0.008  -9.0  -0.1  \n",
       "53 -0.1 -0.130 -13.0  -0.1  \n",
       "54 -0.1 -0.016  -6.6  -0.3  \n",
       "55  NaN    NaN   NaN   NaN  \n",
       "56  0.1  0.010  -5.9  -0.2  \n",
       "57  1.0  0.070  -2.9  -0.2  \n",
       "58  0.0  0.043  -9.6  -0.1  \n",
       "59  NaN    NaN   NaN   NaN  \n",
       "60  NaN    NaN   NaN   NaN  \n",
       "\n",
       "[31 rows x 22 columns]"
      ]
     },
     "execution_count": 122,
     "metadata": {},
     "output_type": "execute_result"
    }
   ],
   "source": [
    "second_round = draft[30:]\n",
    "second_round.head(100)"
   ]
  },
  {
   "cell_type": "code",
   "execution_count": 123,
   "id": "584ed50b",
   "metadata": {},
   "outputs": [
    {
     "data": {
      "application/vnd.plotly.v1+json": {
       "config": {
        "plotlyServerURL": "https://plot.ly"
       },
       "data": [
        {
         "alignmentgroup": "True",
         "hovertemplate": "variable=PPG<br>Player=%{x}<br>value=%{y}<extra></extra>",
         "legendgroup": "PPG",
         "marker": {
          "color": "rgb(127, 60, 141)",
          "pattern": {
           "shape": ""
          }
         },
         "name": "PPG",
         "offsetgroup": "PPG",
         "orientation": "v",
         "showlegend": true,
         "textposition": "auto",
         "type": "bar",
         "x": [
          "Zion Williamson",
          "Ja Morant",
          "RJ Barrett",
          "De'Andre Hunter",
          "Darius Garland",
          "Jarrett Culver",
          "Coby White",
          "Jaxson Hayes",
          "Rui Hachimura",
          "Cam Reddish",
          "Cameron Johnson",
          "P.J. Washington",
          "Tyler Herro",
          "Romeo Langford",
          "Sekou Doumbouya",
          "Chuma Okeke",
          "Nickeil Alexander-Walker",
          "Goga Bitadze",
          "Luka Šamanić",
          "Matisse Thybulle",
          "Brandon Clarke",
          "Grant Williams",
          "Darius Bazley",
          "Ty Jerome",
          "Nassir Little",
          "Dylan Windler",
          "Mfiondu Kabengele",
          "Jordan Poole",
          "Keldon Johnson",
          "Kevin Porter Jr."
         ],
         "xaxis": "x",
         "y": [
          25.7,
          19.2,
          15.9,
          12.8,
          15.3,
          7.6,
          13.7,
          7.2,
          13.7,
          10.9,
          9.1,
          12.4,
          15.4,
          3.2,
          5.6,
          7.5,
          9.5,
          3.9,
          3.8,
          4.5,
          10.7,
          4.5,
          9.3,
          7.1,
          4.8,
          4.4,
          2.7,
          11.7,
          12.6,
          12.4
         ],
         "yaxis": "y"
        },
        {
         "alignmentgroup": "True",
         "hovertemplate": "variable=APG<br>Player=%{x}<br>value=%{y}<extra></extra>",
         "legendgroup": "APG",
         "marker": {
          "color": "rgb(17, 165, 121)",
          "pattern": {
           "shape": ""
          }
         },
         "name": "APG",
         "offsetgroup": "APG",
         "orientation": "v",
         "showlegend": true,
         "textposition": "auto",
         "type": "bar",
         "x": [
          "Zion Williamson",
          "Ja Morant",
          "RJ Barrett",
          "De'Andre Hunter",
          "Darius Garland",
          "Jarrett Culver",
          "Coby White",
          "Jaxson Hayes",
          "Rui Hachimura",
          "Cam Reddish",
          "Cameron Johnson",
          "P.J. Washington",
          "Tyler Herro",
          "Romeo Langford",
          "Sekou Doumbouya",
          "Chuma Okeke",
          "Nickeil Alexander-Walker",
          "Goga Bitadze",
          "Luka Šamanić",
          "Matisse Thybulle",
          "Brandon Clarke",
          "Grant Williams",
          "Darius Bazley",
          "Ty Jerome",
          "Nassir Little",
          "Dylan Windler",
          "Mfiondu Kabengele",
          "Jordan Poole",
          "Keldon Johnson",
          "Kevin Porter Jr."
         ],
         "xaxis": "x",
         "y": [
          3.2,
          7.3,
          2.7,
          1.7,
          5.3,
          1.3,
          3.6,
          0.7,
          1.6,
          1.3,
          1.3,
          2.3,
          3,
          0.5,
          0.7,
          2,
          2.2,
          0.5,
          0.6,
          1.1,
          1.5,
          1,
          1.2,
          2.2,
          0.5,
          1.1,
          0.4,
          2.3,
          1.7,
          4
         ],
         "yaxis": "y"
        },
        {
         "alignmentgroup": "True",
         "hovertemplate": "variable=RPG<br>Player=%{x}<br>value=%{y}<extra></extra>",
         "legendgroup": "RPG",
         "marker": {
          "color": "rgb(57, 105, 172)",
          "pattern": {
           "shape": ""
          }
         },
         "name": "RPG",
         "offsetgroup": "RPG",
         "orientation": "v",
         "showlegend": true,
         "textposition": "auto",
         "type": "bar",
         "x": [
          "Zion Williamson",
          "Ja Morant",
          "RJ Barrett",
          "De'Andre Hunter",
          "Darius Garland",
          "Jarrett Culver",
          "Coby White",
          "Jaxson Hayes",
          "Rui Hachimura",
          "Cam Reddish",
          "Cameron Johnson",
          "P.J. Washington",
          "Tyler Herro",
          "Romeo Langford",
          "Sekou Doumbouya",
          "Chuma Okeke",
          "Nickeil Alexander-Walker",
          "Goga Bitadze",
          "Luka Šamanić",
          "Matisse Thybulle",
          "Brandon Clarke",
          "Grant Williams",
          "Darius Bazley",
          "Ty Jerome",
          "Nassir Little",
          "Dylan Windler",
          "Mfiondu Kabengele",
          "Jordan Poole",
          "Keldon Johnson",
          "Kevin Porter Jr."
         ],
         "xaxis": "x",
         "y": [
          7,
          4.1,
          5.5,
          4.4,
          2.2,
          3.1,
          3.8,
          4,
          5.8,
          3.6,
          3.3,
          5.9,
          4.7,
          1.9,
          2.8,
          4,
          2.8,
          2.5,
          2.2,
          1.8,
          5.6,
          2.8,
          5.7,
          1.9,
          3,
          2.9,
          1.4,
          2.1,
          5.6,
          3.7
         ],
         "yaxis": "y"
        }
       ],
       "layout": {
        "barmode": "relative",
        "legend": {
         "title": {
          "text": "variable"
         },
         "tracegroupgap": 0
        },
        "template": {
         "data": {
          "bar": [
           {
            "error_x": {
             "color": "#2a3f5f"
            },
            "error_y": {
             "color": "#2a3f5f"
            },
            "marker": {
             "line": {
              "color": "#E5ECF6",
              "width": 0.5
             },
             "pattern": {
              "fillmode": "overlay",
              "size": 10,
              "solidity": 0.2
             }
            },
            "type": "bar"
           }
          ],
          "barpolar": [
           {
            "marker": {
             "line": {
              "color": "#E5ECF6",
              "width": 0.5
             },
             "pattern": {
              "fillmode": "overlay",
              "size": 10,
              "solidity": 0.2
             }
            },
            "type": "barpolar"
           }
          ],
          "carpet": [
           {
            "aaxis": {
             "endlinecolor": "#2a3f5f",
             "gridcolor": "white",
             "linecolor": "white",
             "minorgridcolor": "white",
             "startlinecolor": "#2a3f5f"
            },
            "baxis": {
             "endlinecolor": "#2a3f5f",
             "gridcolor": "white",
             "linecolor": "white",
             "minorgridcolor": "white",
             "startlinecolor": "#2a3f5f"
            },
            "type": "carpet"
           }
          ],
          "choropleth": [
           {
            "colorbar": {
             "outlinewidth": 0,
             "ticks": ""
            },
            "type": "choropleth"
           }
          ],
          "contour": [
           {
            "colorbar": {
             "outlinewidth": 0,
             "ticks": ""
            },
            "colorscale": [
             [
              0,
              "#0d0887"
             ],
             [
              0.1111111111111111,
              "#46039f"
             ],
             [
              0.2222222222222222,
              "#7201a8"
             ],
             [
              0.3333333333333333,
              "#9c179e"
             ],
             [
              0.4444444444444444,
              "#bd3786"
             ],
             [
              0.5555555555555556,
              "#d8576b"
             ],
             [
              0.6666666666666666,
              "#ed7953"
             ],
             [
              0.7777777777777778,
              "#fb9f3a"
             ],
             [
              0.8888888888888888,
              "#fdca26"
             ],
             [
              1,
              "#f0f921"
             ]
            ],
            "type": "contour"
           }
          ],
          "contourcarpet": [
           {
            "colorbar": {
             "outlinewidth": 0,
             "ticks": ""
            },
            "type": "contourcarpet"
           }
          ],
          "heatmap": [
           {
            "colorbar": {
             "outlinewidth": 0,
             "ticks": ""
            },
            "colorscale": [
             [
              0,
              "#0d0887"
             ],
             [
              0.1111111111111111,
              "#46039f"
             ],
             [
              0.2222222222222222,
              "#7201a8"
             ],
             [
              0.3333333333333333,
              "#9c179e"
             ],
             [
              0.4444444444444444,
              "#bd3786"
             ],
             [
              0.5555555555555556,
              "#d8576b"
             ],
             [
              0.6666666666666666,
              "#ed7953"
             ],
             [
              0.7777777777777778,
              "#fb9f3a"
             ],
             [
              0.8888888888888888,
              "#fdca26"
             ],
             [
              1,
              "#f0f921"
             ]
            ],
            "type": "heatmap"
           }
          ],
          "heatmapgl": [
           {
            "colorbar": {
             "outlinewidth": 0,
             "ticks": ""
            },
            "colorscale": [
             [
              0,
              "#0d0887"
             ],
             [
              0.1111111111111111,
              "#46039f"
             ],
             [
              0.2222222222222222,
              "#7201a8"
             ],
             [
              0.3333333333333333,
              "#9c179e"
             ],
             [
              0.4444444444444444,
              "#bd3786"
             ],
             [
              0.5555555555555556,
              "#d8576b"
             ],
             [
              0.6666666666666666,
              "#ed7953"
             ],
             [
              0.7777777777777778,
              "#fb9f3a"
             ],
             [
              0.8888888888888888,
              "#fdca26"
             ],
             [
              1,
              "#f0f921"
             ]
            ],
            "type": "heatmapgl"
           }
          ],
          "histogram": [
           {
            "marker": {
             "pattern": {
              "fillmode": "overlay",
              "size": 10,
              "solidity": 0.2
             }
            },
            "type": "histogram"
           }
          ],
          "histogram2d": [
           {
            "colorbar": {
             "outlinewidth": 0,
             "ticks": ""
            },
            "colorscale": [
             [
              0,
              "#0d0887"
             ],
             [
              0.1111111111111111,
              "#46039f"
             ],
             [
              0.2222222222222222,
              "#7201a8"
             ],
             [
              0.3333333333333333,
              "#9c179e"
             ],
             [
              0.4444444444444444,
              "#bd3786"
             ],
             [
              0.5555555555555556,
              "#d8576b"
             ],
             [
              0.6666666666666666,
              "#ed7953"
             ],
             [
              0.7777777777777778,
              "#fb9f3a"
             ],
             [
              0.8888888888888888,
              "#fdca26"
             ],
             [
              1,
              "#f0f921"
             ]
            ],
            "type": "histogram2d"
           }
          ],
          "histogram2dcontour": [
           {
            "colorbar": {
             "outlinewidth": 0,
             "ticks": ""
            },
            "colorscale": [
             [
              0,
              "#0d0887"
             ],
             [
              0.1111111111111111,
              "#46039f"
             ],
             [
              0.2222222222222222,
              "#7201a8"
             ],
             [
              0.3333333333333333,
              "#9c179e"
             ],
             [
              0.4444444444444444,
              "#bd3786"
             ],
             [
              0.5555555555555556,
              "#d8576b"
             ],
             [
              0.6666666666666666,
              "#ed7953"
             ],
             [
              0.7777777777777778,
              "#fb9f3a"
             ],
             [
              0.8888888888888888,
              "#fdca26"
             ],
             [
              1,
              "#f0f921"
             ]
            ],
            "type": "histogram2dcontour"
           }
          ],
          "mesh3d": [
           {
            "colorbar": {
             "outlinewidth": 0,
             "ticks": ""
            },
            "type": "mesh3d"
           }
          ],
          "parcoords": [
           {
            "line": {
             "colorbar": {
              "outlinewidth": 0,
              "ticks": ""
             }
            },
            "type": "parcoords"
           }
          ],
          "pie": [
           {
            "automargin": true,
            "type": "pie"
           }
          ],
          "scatter": [
           {
            "marker": {
             "colorbar": {
              "outlinewidth": 0,
              "ticks": ""
             }
            },
            "type": "scatter"
           }
          ],
          "scatter3d": [
           {
            "line": {
             "colorbar": {
              "outlinewidth": 0,
              "ticks": ""
             }
            },
            "marker": {
             "colorbar": {
              "outlinewidth": 0,
              "ticks": ""
             }
            },
            "type": "scatter3d"
           }
          ],
          "scattercarpet": [
           {
            "marker": {
             "colorbar": {
              "outlinewidth": 0,
              "ticks": ""
             }
            },
            "type": "scattercarpet"
           }
          ],
          "scattergeo": [
           {
            "marker": {
             "colorbar": {
              "outlinewidth": 0,
              "ticks": ""
             }
            },
            "type": "scattergeo"
           }
          ],
          "scattergl": [
           {
            "marker": {
             "colorbar": {
              "outlinewidth": 0,
              "ticks": ""
             }
            },
            "type": "scattergl"
           }
          ],
          "scattermapbox": [
           {
            "marker": {
             "colorbar": {
              "outlinewidth": 0,
              "ticks": ""
             }
            },
            "type": "scattermapbox"
           }
          ],
          "scatterpolar": [
           {
            "marker": {
             "colorbar": {
              "outlinewidth": 0,
              "ticks": ""
             }
            },
            "type": "scatterpolar"
           }
          ],
          "scatterpolargl": [
           {
            "marker": {
             "colorbar": {
              "outlinewidth": 0,
              "ticks": ""
             }
            },
            "type": "scatterpolargl"
           }
          ],
          "scatterternary": [
           {
            "marker": {
             "colorbar": {
              "outlinewidth": 0,
              "ticks": ""
             }
            },
            "type": "scatterternary"
           }
          ],
          "surface": [
           {
            "colorbar": {
             "outlinewidth": 0,
             "ticks": ""
            },
            "colorscale": [
             [
              0,
              "#0d0887"
             ],
             [
              0.1111111111111111,
              "#46039f"
             ],
             [
              0.2222222222222222,
              "#7201a8"
             ],
             [
              0.3333333333333333,
              "#9c179e"
             ],
             [
              0.4444444444444444,
              "#bd3786"
             ],
             [
              0.5555555555555556,
              "#d8576b"
             ],
             [
              0.6666666666666666,
              "#ed7953"
             ],
             [
              0.7777777777777778,
              "#fb9f3a"
             ],
             [
              0.8888888888888888,
              "#fdca26"
             ],
             [
              1,
              "#f0f921"
             ]
            ],
            "type": "surface"
           }
          ],
          "table": [
           {
            "cells": {
             "fill": {
              "color": "#EBF0F8"
             },
             "line": {
              "color": "white"
             }
            },
            "header": {
             "fill": {
              "color": "#C8D4E3"
             },
             "line": {
              "color": "white"
             }
            },
            "type": "table"
           }
          ]
         },
         "layout": {
          "annotationdefaults": {
           "arrowcolor": "#2a3f5f",
           "arrowhead": 0,
           "arrowwidth": 1
          },
          "autotypenumbers": "strict",
          "coloraxis": {
           "colorbar": {
            "outlinewidth": 0,
            "ticks": ""
           }
          },
          "colorscale": {
           "diverging": [
            [
             0,
             "#8e0152"
            ],
            [
             0.1,
             "#c51b7d"
            ],
            [
             0.2,
             "#de77ae"
            ],
            [
             0.3,
             "#f1b6da"
            ],
            [
             0.4,
             "#fde0ef"
            ],
            [
             0.5,
             "#f7f7f7"
            ],
            [
             0.6,
             "#e6f5d0"
            ],
            [
             0.7,
             "#b8e186"
            ],
            [
             0.8,
             "#7fbc41"
            ],
            [
             0.9,
             "#4d9221"
            ],
            [
             1,
             "#276419"
            ]
           ],
           "sequential": [
            [
             0,
             "#0d0887"
            ],
            [
             0.1111111111111111,
             "#46039f"
            ],
            [
             0.2222222222222222,
             "#7201a8"
            ],
            [
             0.3333333333333333,
             "#9c179e"
            ],
            [
             0.4444444444444444,
             "#bd3786"
            ],
            [
             0.5555555555555556,
             "#d8576b"
            ],
            [
             0.6666666666666666,
             "#ed7953"
            ],
            [
             0.7777777777777778,
             "#fb9f3a"
            ],
            [
             0.8888888888888888,
             "#fdca26"
            ],
            [
             1,
             "#f0f921"
            ]
           ],
           "sequentialminus": [
            [
             0,
             "#0d0887"
            ],
            [
             0.1111111111111111,
             "#46039f"
            ],
            [
             0.2222222222222222,
             "#7201a8"
            ],
            [
             0.3333333333333333,
             "#9c179e"
            ],
            [
             0.4444444444444444,
             "#bd3786"
            ],
            [
             0.5555555555555556,
             "#d8576b"
            ],
            [
             0.6666666666666666,
             "#ed7953"
            ],
            [
             0.7777777777777778,
             "#fb9f3a"
            ],
            [
             0.8888888888888888,
             "#fdca26"
            ],
            [
             1,
             "#f0f921"
            ]
           ]
          },
          "colorway": [
           "#636efa",
           "#EF553B",
           "#00cc96",
           "#ab63fa",
           "#FFA15A",
           "#19d3f3",
           "#FF6692",
           "#B6E880",
           "#FF97FF",
           "#FECB52"
          ],
          "font": {
           "color": "#2a3f5f"
          },
          "geo": {
           "bgcolor": "white",
           "lakecolor": "white",
           "landcolor": "#E5ECF6",
           "showlakes": true,
           "showland": true,
           "subunitcolor": "white"
          },
          "hoverlabel": {
           "align": "left"
          },
          "hovermode": "closest",
          "mapbox": {
           "style": "light"
          },
          "paper_bgcolor": "white",
          "plot_bgcolor": "#E5ECF6",
          "polar": {
           "angularaxis": {
            "gridcolor": "white",
            "linecolor": "white",
            "ticks": ""
           },
           "bgcolor": "#E5ECF6",
           "radialaxis": {
            "gridcolor": "white",
            "linecolor": "white",
            "ticks": ""
           }
          },
          "scene": {
           "xaxis": {
            "backgroundcolor": "#E5ECF6",
            "gridcolor": "white",
            "gridwidth": 2,
            "linecolor": "white",
            "showbackground": true,
            "ticks": "",
            "zerolinecolor": "white"
           },
           "yaxis": {
            "backgroundcolor": "#E5ECF6",
            "gridcolor": "white",
            "gridwidth": 2,
            "linecolor": "white",
            "showbackground": true,
            "ticks": "",
            "zerolinecolor": "white"
           },
           "zaxis": {
            "backgroundcolor": "#E5ECF6",
            "gridcolor": "white",
            "gridwidth": 2,
            "linecolor": "white",
            "showbackground": true,
            "ticks": "",
            "zerolinecolor": "white"
           }
          },
          "shapedefaults": {
           "line": {
            "color": "#2a3f5f"
           }
          },
          "ternary": {
           "aaxis": {
            "gridcolor": "white",
            "linecolor": "white",
            "ticks": ""
           },
           "baxis": {
            "gridcolor": "white",
            "linecolor": "white",
            "ticks": ""
           },
           "bgcolor": "#E5ECF6",
           "caxis": {
            "gridcolor": "white",
            "linecolor": "white",
            "ticks": ""
           }
          },
          "title": {
           "x": 0.05
          },
          "xaxis": {
           "automargin": true,
           "gridcolor": "white",
           "linecolor": "white",
           "ticks": "",
           "title": {
            "standoff": 15
           },
           "zerolinecolor": "white",
           "zerolinewidth": 2
          },
          "yaxis": {
           "automargin": true,
           "gridcolor": "white",
           "linecolor": "white",
           "ticks": "",
           "title": {
            "standoff": 15
           },
           "zerolinecolor": "white",
           "zerolinewidth": 2
          }
         }
        },
        "title": {
         "text": "First round picks with PPG,APG,RPG stacked"
        },
        "xaxis": {
         "anchor": "y",
         "domain": [
          0,
          1
         ],
         "title": {
          "text": "Player"
         }
        },
        "yaxis": {
         "anchor": "x",
         "domain": [
          0,
          1
         ],
         "range": [
          0,
          40
         ],
         "title": {
          "text": "value"
         }
        }
       }
      },
      "text/html": [
       "<div>                            <div id=\"5594d513-2fdc-4ec9-b1ba-1bfc411a2b12\" class=\"plotly-graph-div\" style=\"height:525px; width:100%;\"></div>            <script type=\"text/javascript\">                require([\"plotly\"], function(Plotly) {                    window.PLOTLYENV=window.PLOTLYENV || {};                                    if (document.getElementById(\"5594d513-2fdc-4ec9-b1ba-1bfc411a2b12\")) {                    Plotly.newPlot(                        \"5594d513-2fdc-4ec9-b1ba-1bfc411a2b12\",                        [{\"alignmentgroup\":\"True\",\"hovertemplate\":\"variable=PPG<br>Player=%{x}<br>value=%{y}<extra></extra>\",\"legendgroup\":\"PPG\",\"marker\":{\"color\":\"rgb(127, 60, 141)\",\"pattern\":{\"shape\":\"\"}},\"name\":\"PPG\",\"offsetgroup\":\"PPG\",\"orientation\":\"v\",\"showlegend\":true,\"textposition\":\"auto\",\"type\":\"bar\",\"x\":[\"Zion Williamson\",\"Ja Morant\",\"RJ Barrett\",\"De'Andre Hunter\",\"Darius Garland\",\"Jarrett Culver\",\"Coby White\",\"Jaxson Hayes\",\"Rui Hachimura\",\"Cam Reddish\",\"Cameron Johnson\",\"P.J. Washington\",\"Tyler Herro\",\"Romeo Langford\",\"Sekou Doumbouya\",\"Chuma Okeke\",\"Nickeil Alexander-Walker\",\"Goga Bitadze\",\"Luka \\u0160amani\\u0107\",\"Matisse Thybulle\",\"Brandon Clarke\",\"Grant Williams\",\"Darius Bazley\",\"Ty Jerome\",\"Nassir Little\",\"Dylan Windler\",\"Mfiondu Kabengele\",\"Jordan Poole\",\"Keldon Johnson\",\"Kevin Porter Jr.\"],\"xaxis\":\"x\",\"y\":[25.7,19.2,15.9,12.8,15.3,7.6,13.7,7.2,13.7,10.9,9.1,12.4,15.4,3.2,5.6,7.5,9.5,3.9,3.8,4.5,10.7,4.5,9.3,7.1,4.8,4.4,2.7,11.7,12.6,12.4],\"yaxis\":\"y\"},{\"alignmentgroup\":\"True\",\"hovertemplate\":\"variable=APG<br>Player=%{x}<br>value=%{y}<extra></extra>\",\"legendgroup\":\"APG\",\"marker\":{\"color\":\"rgb(17, 165, 121)\",\"pattern\":{\"shape\":\"\"}},\"name\":\"APG\",\"offsetgroup\":\"APG\",\"orientation\":\"v\",\"showlegend\":true,\"textposition\":\"auto\",\"type\":\"bar\",\"x\":[\"Zion Williamson\",\"Ja Morant\",\"RJ Barrett\",\"De'Andre Hunter\",\"Darius Garland\",\"Jarrett Culver\",\"Coby White\",\"Jaxson Hayes\",\"Rui Hachimura\",\"Cam Reddish\",\"Cameron Johnson\",\"P.J. Washington\",\"Tyler Herro\",\"Romeo Langford\",\"Sekou Doumbouya\",\"Chuma Okeke\",\"Nickeil Alexander-Walker\",\"Goga Bitadze\",\"Luka \\u0160amani\\u0107\",\"Matisse Thybulle\",\"Brandon Clarke\",\"Grant Williams\",\"Darius Bazley\",\"Ty Jerome\",\"Nassir Little\",\"Dylan Windler\",\"Mfiondu Kabengele\",\"Jordan Poole\",\"Keldon Johnson\",\"Kevin Porter Jr.\"],\"xaxis\":\"x\",\"y\":[3.2,7.3,2.7,1.7,5.3,1.3,3.6,0.7,1.6,1.3,1.3,2.3,3.0,0.5,0.7,2.0,2.2,0.5,0.6,1.1,1.5,1.0,1.2,2.2,0.5,1.1,0.4,2.3,1.7,4.0],\"yaxis\":\"y\"},{\"alignmentgroup\":\"True\",\"hovertemplate\":\"variable=RPG<br>Player=%{x}<br>value=%{y}<extra></extra>\",\"legendgroup\":\"RPG\",\"marker\":{\"color\":\"rgb(57, 105, 172)\",\"pattern\":{\"shape\":\"\"}},\"name\":\"RPG\",\"offsetgroup\":\"RPG\",\"orientation\":\"v\",\"showlegend\":true,\"textposition\":\"auto\",\"type\":\"bar\",\"x\":[\"Zion Williamson\",\"Ja Morant\",\"RJ Barrett\",\"De'Andre Hunter\",\"Darius Garland\",\"Jarrett Culver\",\"Coby White\",\"Jaxson Hayes\",\"Rui Hachimura\",\"Cam Reddish\",\"Cameron Johnson\",\"P.J. Washington\",\"Tyler Herro\",\"Romeo Langford\",\"Sekou Doumbouya\",\"Chuma Okeke\",\"Nickeil Alexander-Walker\",\"Goga Bitadze\",\"Luka \\u0160amani\\u0107\",\"Matisse Thybulle\",\"Brandon Clarke\",\"Grant Williams\",\"Darius Bazley\",\"Ty Jerome\",\"Nassir Little\",\"Dylan Windler\",\"Mfiondu Kabengele\",\"Jordan Poole\",\"Keldon Johnson\",\"Kevin Porter Jr.\"],\"xaxis\":\"x\",\"y\":[7.0,4.1,5.5,4.4,2.2,3.1,3.8,4.0,5.8,3.6,3.3,5.9,4.7,1.9,2.8,4.0,2.8,2.5,2.2,1.8,5.6,2.8,5.7,1.9,3.0,2.9,1.4,2.1,5.6,3.7],\"yaxis\":\"y\"}],                        {\"barmode\":\"relative\",\"legend\":{\"title\":{\"text\":\"variable\"},\"tracegroupgap\":0},\"template\":{\"data\":{\"bar\":[{\"error_x\":{\"color\":\"#2a3f5f\"},\"error_y\":{\"color\":\"#2a3f5f\"},\"marker\":{\"line\":{\"color\":\"#E5ECF6\",\"width\":0.5},\"pattern\":{\"fillmode\":\"overlay\",\"size\":10,\"solidity\":0.2}},\"type\":\"bar\"}],\"barpolar\":[{\"marker\":{\"line\":{\"color\":\"#E5ECF6\",\"width\":0.5},\"pattern\":{\"fillmode\":\"overlay\",\"size\":10,\"solidity\":0.2}},\"type\":\"barpolar\"}],\"carpet\":[{\"aaxis\":{\"endlinecolor\":\"#2a3f5f\",\"gridcolor\":\"white\",\"linecolor\":\"white\",\"minorgridcolor\":\"white\",\"startlinecolor\":\"#2a3f5f\"},\"baxis\":{\"endlinecolor\":\"#2a3f5f\",\"gridcolor\":\"white\",\"linecolor\":\"white\",\"minorgridcolor\":\"white\",\"startlinecolor\":\"#2a3f5f\"},\"type\":\"carpet\"}],\"choropleth\":[{\"colorbar\":{\"outlinewidth\":0,\"ticks\":\"\"},\"type\":\"choropleth\"}],\"contour\":[{\"colorbar\":{\"outlinewidth\":0,\"ticks\":\"\"},\"colorscale\":[[0.0,\"#0d0887\"],[0.1111111111111111,\"#46039f\"],[0.2222222222222222,\"#7201a8\"],[0.3333333333333333,\"#9c179e\"],[0.4444444444444444,\"#bd3786\"],[0.5555555555555556,\"#d8576b\"],[0.6666666666666666,\"#ed7953\"],[0.7777777777777778,\"#fb9f3a\"],[0.8888888888888888,\"#fdca26\"],[1.0,\"#f0f921\"]],\"type\":\"contour\"}],\"contourcarpet\":[{\"colorbar\":{\"outlinewidth\":0,\"ticks\":\"\"},\"type\":\"contourcarpet\"}],\"heatmap\":[{\"colorbar\":{\"outlinewidth\":0,\"ticks\":\"\"},\"colorscale\":[[0.0,\"#0d0887\"],[0.1111111111111111,\"#46039f\"],[0.2222222222222222,\"#7201a8\"],[0.3333333333333333,\"#9c179e\"],[0.4444444444444444,\"#bd3786\"],[0.5555555555555556,\"#d8576b\"],[0.6666666666666666,\"#ed7953\"],[0.7777777777777778,\"#fb9f3a\"],[0.8888888888888888,\"#fdca26\"],[1.0,\"#f0f921\"]],\"type\":\"heatmap\"}],\"heatmapgl\":[{\"colorbar\":{\"outlinewidth\":0,\"ticks\":\"\"},\"colorscale\":[[0.0,\"#0d0887\"],[0.1111111111111111,\"#46039f\"],[0.2222222222222222,\"#7201a8\"],[0.3333333333333333,\"#9c179e\"],[0.4444444444444444,\"#bd3786\"],[0.5555555555555556,\"#d8576b\"],[0.6666666666666666,\"#ed7953\"],[0.7777777777777778,\"#fb9f3a\"],[0.8888888888888888,\"#fdca26\"],[1.0,\"#f0f921\"]],\"type\":\"heatmapgl\"}],\"histogram\":[{\"marker\":{\"pattern\":{\"fillmode\":\"overlay\",\"size\":10,\"solidity\":0.2}},\"type\":\"histogram\"}],\"histogram2d\":[{\"colorbar\":{\"outlinewidth\":0,\"ticks\":\"\"},\"colorscale\":[[0.0,\"#0d0887\"],[0.1111111111111111,\"#46039f\"],[0.2222222222222222,\"#7201a8\"],[0.3333333333333333,\"#9c179e\"],[0.4444444444444444,\"#bd3786\"],[0.5555555555555556,\"#d8576b\"],[0.6666666666666666,\"#ed7953\"],[0.7777777777777778,\"#fb9f3a\"],[0.8888888888888888,\"#fdca26\"],[1.0,\"#f0f921\"]],\"type\":\"histogram2d\"}],\"histogram2dcontour\":[{\"colorbar\":{\"outlinewidth\":0,\"ticks\":\"\"},\"colorscale\":[[0.0,\"#0d0887\"],[0.1111111111111111,\"#46039f\"],[0.2222222222222222,\"#7201a8\"],[0.3333333333333333,\"#9c179e\"],[0.4444444444444444,\"#bd3786\"],[0.5555555555555556,\"#d8576b\"],[0.6666666666666666,\"#ed7953\"],[0.7777777777777778,\"#fb9f3a\"],[0.8888888888888888,\"#fdca26\"],[1.0,\"#f0f921\"]],\"type\":\"histogram2dcontour\"}],\"mesh3d\":[{\"colorbar\":{\"outlinewidth\":0,\"ticks\":\"\"},\"type\":\"mesh3d\"}],\"parcoords\":[{\"line\":{\"colorbar\":{\"outlinewidth\":0,\"ticks\":\"\"}},\"type\":\"parcoords\"}],\"pie\":[{\"automargin\":true,\"type\":\"pie\"}],\"scatter\":[{\"marker\":{\"colorbar\":{\"outlinewidth\":0,\"ticks\":\"\"}},\"type\":\"scatter\"}],\"scatter3d\":[{\"line\":{\"colorbar\":{\"outlinewidth\":0,\"ticks\":\"\"}},\"marker\":{\"colorbar\":{\"outlinewidth\":0,\"ticks\":\"\"}},\"type\":\"scatter3d\"}],\"scattercarpet\":[{\"marker\":{\"colorbar\":{\"outlinewidth\":0,\"ticks\":\"\"}},\"type\":\"scattercarpet\"}],\"scattergeo\":[{\"marker\":{\"colorbar\":{\"outlinewidth\":0,\"ticks\":\"\"}},\"type\":\"scattergeo\"}],\"scattergl\":[{\"marker\":{\"colorbar\":{\"outlinewidth\":0,\"ticks\":\"\"}},\"type\":\"scattergl\"}],\"scattermapbox\":[{\"marker\":{\"colorbar\":{\"outlinewidth\":0,\"ticks\":\"\"}},\"type\":\"scattermapbox\"}],\"scatterpolar\":[{\"marker\":{\"colorbar\":{\"outlinewidth\":0,\"ticks\":\"\"}},\"type\":\"scatterpolar\"}],\"scatterpolargl\":[{\"marker\":{\"colorbar\":{\"outlinewidth\":0,\"ticks\":\"\"}},\"type\":\"scatterpolargl\"}],\"scatterternary\":[{\"marker\":{\"colorbar\":{\"outlinewidth\":0,\"ticks\":\"\"}},\"type\":\"scatterternary\"}],\"surface\":[{\"colorbar\":{\"outlinewidth\":0,\"ticks\":\"\"},\"colorscale\":[[0.0,\"#0d0887\"],[0.1111111111111111,\"#46039f\"],[0.2222222222222222,\"#7201a8\"],[0.3333333333333333,\"#9c179e\"],[0.4444444444444444,\"#bd3786\"],[0.5555555555555556,\"#d8576b\"],[0.6666666666666666,\"#ed7953\"],[0.7777777777777778,\"#fb9f3a\"],[0.8888888888888888,\"#fdca26\"],[1.0,\"#f0f921\"]],\"type\":\"surface\"}],\"table\":[{\"cells\":{\"fill\":{\"color\":\"#EBF0F8\"},\"line\":{\"color\":\"white\"}},\"header\":{\"fill\":{\"color\":\"#C8D4E3\"},\"line\":{\"color\":\"white\"}},\"type\":\"table\"}]},\"layout\":{\"annotationdefaults\":{\"arrowcolor\":\"#2a3f5f\",\"arrowhead\":0,\"arrowwidth\":1},\"autotypenumbers\":\"strict\",\"coloraxis\":{\"colorbar\":{\"outlinewidth\":0,\"ticks\":\"\"}},\"colorscale\":{\"diverging\":[[0,\"#8e0152\"],[0.1,\"#c51b7d\"],[0.2,\"#de77ae\"],[0.3,\"#f1b6da\"],[0.4,\"#fde0ef\"],[0.5,\"#f7f7f7\"],[0.6,\"#e6f5d0\"],[0.7,\"#b8e186\"],[0.8,\"#7fbc41\"],[0.9,\"#4d9221\"],[1,\"#276419\"]],\"sequential\":[[0.0,\"#0d0887\"],[0.1111111111111111,\"#46039f\"],[0.2222222222222222,\"#7201a8\"],[0.3333333333333333,\"#9c179e\"],[0.4444444444444444,\"#bd3786\"],[0.5555555555555556,\"#d8576b\"],[0.6666666666666666,\"#ed7953\"],[0.7777777777777778,\"#fb9f3a\"],[0.8888888888888888,\"#fdca26\"],[1.0,\"#f0f921\"]],\"sequentialminus\":[[0.0,\"#0d0887\"],[0.1111111111111111,\"#46039f\"],[0.2222222222222222,\"#7201a8\"],[0.3333333333333333,\"#9c179e\"],[0.4444444444444444,\"#bd3786\"],[0.5555555555555556,\"#d8576b\"],[0.6666666666666666,\"#ed7953\"],[0.7777777777777778,\"#fb9f3a\"],[0.8888888888888888,\"#fdca26\"],[1.0,\"#f0f921\"]]},\"colorway\":[\"#636efa\",\"#EF553B\",\"#00cc96\",\"#ab63fa\",\"#FFA15A\",\"#19d3f3\",\"#FF6692\",\"#B6E880\",\"#FF97FF\",\"#FECB52\"],\"font\":{\"color\":\"#2a3f5f\"},\"geo\":{\"bgcolor\":\"white\",\"lakecolor\":\"white\",\"landcolor\":\"#E5ECF6\",\"showlakes\":true,\"showland\":true,\"subunitcolor\":\"white\"},\"hoverlabel\":{\"align\":\"left\"},\"hovermode\":\"closest\",\"mapbox\":{\"style\":\"light\"},\"paper_bgcolor\":\"white\",\"plot_bgcolor\":\"#E5ECF6\",\"polar\":{\"angularaxis\":{\"gridcolor\":\"white\",\"linecolor\":\"white\",\"ticks\":\"\"},\"bgcolor\":\"#E5ECF6\",\"radialaxis\":{\"gridcolor\":\"white\",\"linecolor\":\"white\",\"ticks\":\"\"}},\"scene\":{\"xaxis\":{\"backgroundcolor\":\"#E5ECF6\",\"gridcolor\":\"white\",\"gridwidth\":2,\"linecolor\":\"white\",\"showbackground\":true,\"ticks\":\"\",\"zerolinecolor\":\"white\"},\"yaxis\":{\"backgroundcolor\":\"#E5ECF6\",\"gridcolor\":\"white\",\"gridwidth\":2,\"linecolor\":\"white\",\"showbackground\":true,\"ticks\":\"\",\"zerolinecolor\":\"white\"},\"zaxis\":{\"backgroundcolor\":\"#E5ECF6\",\"gridcolor\":\"white\",\"gridwidth\":2,\"linecolor\":\"white\",\"showbackground\":true,\"ticks\":\"\",\"zerolinecolor\":\"white\"}},\"shapedefaults\":{\"line\":{\"color\":\"#2a3f5f\"}},\"ternary\":{\"aaxis\":{\"gridcolor\":\"white\",\"linecolor\":\"white\",\"ticks\":\"\"},\"baxis\":{\"gridcolor\":\"white\",\"linecolor\":\"white\",\"ticks\":\"\"},\"bgcolor\":\"#E5ECF6\",\"caxis\":{\"gridcolor\":\"white\",\"linecolor\":\"white\",\"ticks\":\"\"}},\"title\":{\"x\":0.05},\"xaxis\":{\"automargin\":true,\"gridcolor\":\"white\",\"linecolor\":\"white\",\"ticks\":\"\",\"title\":{\"standoff\":15},\"zerolinecolor\":\"white\",\"zerolinewidth\":2},\"yaxis\":{\"automargin\":true,\"gridcolor\":\"white\",\"linecolor\":\"white\",\"ticks\":\"\",\"title\":{\"standoff\":15},\"zerolinecolor\":\"white\",\"zerolinewidth\":2}}},\"title\":{\"text\":\"First round picks with PPG,APG,RPG stacked\"},\"xaxis\":{\"anchor\":\"y\",\"domain\":[0.0,1.0],\"title\":{\"text\":\"Player\"}},\"yaxis\":{\"anchor\":\"x\",\"domain\":[0.0,1.0],\"range\":[0,40],\"title\":{\"text\":\"value\"}}},                        {\"responsive\": true}                    ).then(function(){\n",
       "                            \n",
       "var gd = document.getElementById('5594d513-2fdc-4ec9-b1ba-1bfc411a2b12');\n",
       "var x = new MutationObserver(function (mutations, observer) {{\n",
       "        var display = window.getComputedStyle(gd).display;\n",
       "        if (!display || display === 'none') {{\n",
       "            console.log([gd, 'removed!']);\n",
       "            Plotly.purge(gd);\n",
       "            observer.disconnect();\n",
       "        }}\n",
       "}});\n",
       "\n",
       "// Listen for the removal of the full notebook cells\n",
       "var notebookContainer = gd.closest('#notebook-container');\n",
       "if (notebookContainer) {{\n",
       "    x.observe(notebookContainer, {childList: true});\n",
       "}}\n",
       "\n",
       "// Listen for the clearing of the current output cell\n",
       "var outputEl = gd.closest('.output');\n",
       "if (outputEl) {{\n",
       "    x.observe(outputEl, {childList: true});\n",
       "}}\n",
       "\n",
       "                        })                };                });            </script>        </div>"
      ]
     },
     "metadata": {},
     "output_type": "display_data"
    }
   ],
   "source": [
    "import plotly.express as px\n",
    "\n",
    "fig = px.bar(first_round, x=\"Player\", y=[\"PPG\", \"APG\", \"RPG\"], title=\"First round picks with PPG,APG,RPG stacked\", color_discrete_sequence=px.colors.qualitative.Bold)\n",
    "fig.update_layout(yaxis_range=[0,40])\n",
    "fig.show()"
   ]
  },
  {
   "cell_type": "code",
   "execution_count": 124,
   "id": "e8455614",
   "metadata": {},
   "outputs": [
    {
     "data": {
      "application/vnd.plotly.v1+json": {
       "config": {
        "plotlyServerURL": "https://plot.ly"
       },
       "data": [
        {
         "alignmentgroup": "True",
         "customdata": [
          [
           "BRK"
          ],
          [
           "PHO"
          ],
          [
           "PHI"
          ],
          [
           "PHI"
          ],
          [
           "ATL"
          ],
          [
           "CHO"
          ],
          [
           "DAL"
          ],
          [
           "CHI"
          ],
          [
           "NOP"
          ],
          [
           "SAC"
          ],
          [
           "GSW"
          ],
          [
           "PHI"
          ],
          [
           "MIN"
          ],
          [
           "MIA"
          ],
          [
           "DET"
          ],
          [
           "ORL"
          ],
          [
           "SAC"
          ],
          [
           "LAC"
          ],
          [
           "SAS"
          ],
          [
           "IND"
          ],
          [
           "BOS"
          ],
          [
           "CHO"
          ],
          [
           "UTA"
          ],
          [
           "PHI"
          ],
          [
           "NYK"
          ],
          [
           "LAC"
          ],
          [
           "NOP"
          ],
          [
           "GSW"
          ],
          [
           "TOR"
          ],
          [
           "SAC"
          ],
          [
           null
          ]
         ],
         "hovertemplate": "variable=PPG<br>Player=%{x}<br>value=%{y}<br>Tm=%{customdata[0]}<extra></extra>",
         "legendgroup": "PPG",
         "marker": {
          "color": "rgb(127, 60, 141)",
          "pattern": {
           "shape": ""
          }
         },
         "name": "PPG",
         "offsetgroup": "PPG",
         "orientation": "v",
         "showlegend": true,
         "textposition": "auto",
         "type": "bar",
         "x": [
          "Nicolas Claxton",
          "KZ Okpala",
          "Carsen Edwards",
          "Bruno Fernando",
          "Didi Louzada",
          "Cody Martin",
          "Deividas Sirvydis",
          "Daniel Gafford",
          "Alen Smailagić",
          "Justin James",
          "Eric Paschall",
          "Admiral Schofield",
          "Jaylen Nowell",
          "Bol Bol",
          "Isaiah Roby",
          "Talen Horton-Tucker",
          "Ignas Brazdeikis",
          "Terance Mann",
          "Quinndary Weatherspoon",
          "Jarrell Brantley",
          "Tremont Waters",
          "Jalen McDaniels",
          "Justin Wright-Foreman",
          "Marial Shayok",
          "Kyle Guy",
          "Jaylen Hands",
          "Jordan Bone",
          "Miye Oni",
          "Dewan Hernandez",
          "Vanja Marinković",
          null
         ],
         "xaxis": "x",
         "y": [
          6,
          2.2,
          3.6,
          3,
          1.6,
          5,
          2.1,
          6.7,
          3,
          3.2,
          10.8,
          3,
          6.8,
          2.5,
          8,
          9,
          3.8,
          6.1,
          1.9,
          2.4,
          3.8,
          6.5,
          4.8,
          2.8,
          2.7,
          null,
          2.8,
          1.9,
          2.3,
          null,
          null
         ],
         "yaxis": "y"
        },
        {
         "alignmentgroup": "True",
         "customdata": [
          [
           "BRK"
          ],
          [
           "PHO"
          ],
          [
           "PHI"
          ],
          [
           "PHI"
          ],
          [
           "ATL"
          ],
          [
           "CHO"
          ],
          [
           "DAL"
          ],
          [
           "CHI"
          ],
          [
           "NOP"
          ],
          [
           "SAC"
          ],
          [
           "GSW"
          ],
          [
           "PHI"
          ],
          [
           "MIN"
          ],
          [
           "MIA"
          ],
          [
           "DET"
          ],
          [
           "ORL"
          ],
          [
           "SAC"
          ],
          [
           "LAC"
          ],
          [
           "SAS"
          ],
          [
           "IND"
          ],
          [
           "BOS"
          ],
          [
           "CHO"
          ],
          [
           "UTA"
          ],
          [
           "PHI"
          ],
          [
           "NYK"
          ],
          [
           "LAC"
          ],
          [
           "NOP"
          ],
          [
           "GSW"
          ],
          [
           "TOR"
          ],
          [
           "SAC"
          ],
          [
           null
          ]
         ],
         "hovertemplate": "variable=APG<br>Player=%{x}<br>value=%{y}<br>Tm=%{customdata[0]}<extra></extra>",
         "legendgroup": "APG",
         "marker": {
          "color": "rgb(17, 165, 121)",
          "pattern": {
           "shape": ""
          }
         },
         "name": "APG",
         "offsetgroup": "APG",
         "orientation": "v",
         "showlegend": true,
         "textposition": "auto",
         "type": "bar",
         "x": [
          "Nicolas Claxton",
          "KZ Okpala",
          "Carsen Edwards",
          "Bruno Fernando",
          "Didi Louzada",
          "Cody Martin",
          "Deividas Sirvydis",
          "Daniel Gafford",
          "Alen Smailagić",
          "Justin James",
          "Eric Paschall",
          "Admiral Schofield",
          "Jaylen Nowell",
          "Bol Bol",
          "Isaiah Roby",
          "Talen Horton-Tucker",
          "Ignas Brazdeikis",
          "Terance Mann",
          "Quinndary Weatherspoon",
          "Jarrell Brantley",
          "Tremont Waters",
          "Jalen McDaniels",
          "Justin Wright-Foreman",
          "Marial Shayok",
          "Kyle Guy",
          "Jaylen Hands",
          "Jordan Bone",
          "Miye Oni",
          "Dewan Hernandez",
          "Vanja Marinković",
          null
         ],
         "xaxis": "x",
         "y": [
          0.9,
          0.4,
          0.6,
          0.6,
          0.8,
          1.9,
          0.3,
          0.6,
          0.6,
          0.6,
          1.6,
          0.5,
          1.3,
          0.3,
          1.5,
          2.6,
          0.8,
          1.6,
          0.6,
          0.7,
          2.1,
          1,
          1.8,
          0.3,
          1,
          null,
          1.1,
          0.5,
          0.5,
          null,
          null
         ],
         "yaxis": "y"
        },
        {
         "alignmentgroup": "True",
         "customdata": [
          [
           "BRK"
          ],
          [
           "PHO"
          ],
          [
           "PHI"
          ],
          [
           "PHI"
          ],
          [
           "ATL"
          ],
          [
           "CHO"
          ],
          [
           "DAL"
          ],
          [
           "CHI"
          ],
          [
           "NOP"
          ],
          [
           "SAC"
          ],
          [
           "GSW"
          ],
          [
           "PHI"
          ],
          [
           "MIN"
          ],
          [
           "MIA"
          ],
          [
           "DET"
          ],
          [
           "ORL"
          ],
          [
           "SAC"
          ],
          [
           "LAC"
          ],
          [
           "SAS"
          ],
          [
           "IND"
          ],
          [
           "BOS"
          ],
          [
           "CHO"
          ],
          [
           "UTA"
          ],
          [
           "PHI"
          ],
          [
           "NYK"
          ],
          [
           "LAC"
          ],
          [
           "NOP"
          ],
          [
           "GSW"
          ],
          [
           "TOR"
          ],
          [
           "SAC"
          ],
          [
           null
          ]
         ],
         "hovertemplate": "variable=RPG<br>Player=%{x}<br>value=%{y}<br>Tm=%{customdata[0]}<extra></extra>",
         "legendgroup": "RPG",
         "marker": {
          "color": "rgb(57, 105, 172)",
          "pattern": {
           "shape": ""
          }
         },
         "name": "RPG",
         "offsetgroup": "RPG",
         "orientation": "v",
         "showlegend": true,
         "textposition": "auto",
         "type": "bar",
         "x": [
          "Nicolas Claxton",
          "KZ Okpala",
          "Carsen Edwards",
          "Bruno Fernando",
          "Didi Louzada",
          "Cody Martin",
          "Deividas Sirvydis",
          "Daniel Gafford",
          "Alen Smailagić",
          "Justin James",
          "Eric Paschall",
          "Admiral Schofield",
          "Jaylen Nowell",
          "Bol Bol",
          "Isaiah Roby",
          "Talen Horton-Tucker",
          "Ignas Brazdeikis",
          "Terance Mann",
          "Quinndary Weatherspoon",
          "Jarrell Brantley",
          "Tremont Waters",
          "Jalen McDaniels",
          "Justin Wright-Foreman",
          "Marial Shayok",
          "Kyle Guy",
          "Jaylen Hands",
          "Jordan Bone",
          "Miye Oni",
          "Dewan Hernandez",
          "Vanja Marinković",
          null
         ],
         "xaxis": "x",
         "y": [
          4.5,
          1.7,
          1.1,
          2.9,
          1,
          3.4,
          1.5,
          3.9,
          1.5,
          0.9,
          3.7,
          1.4,
          1.7,
          1.2,
          5,
          2.8,
          2,
          3.1,
          0.6,
          1.3,
          0.9,
          3.6,
          1.3,
          1.8,
          1.1,
          null,
          1.2,
          1.4,
          2.3,
          null,
          null
         ],
         "yaxis": "y"
        }
       ],
       "layout": {
        "barmode": "relative",
        "legend": {
         "title": {
          "text": "variable"
         },
         "tracegroupgap": 0
        },
        "template": {
         "data": {
          "bar": [
           {
            "error_x": {
             "color": "#2a3f5f"
            },
            "error_y": {
             "color": "#2a3f5f"
            },
            "marker": {
             "line": {
              "color": "#E5ECF6",
              "width": 0.5
             },
             "pattern": {
              "fillmode": "overlay",
              "size": 10,
              "solidity": 0.2
             }
            },
            "type": "bar"
           }
          ],
          "barpolar": [
           {
            "marker": {
             "line": {
              "color": "#E5ECF6",
              "width": 0.5
             },
             "pattern": {
              "fillmode": "overlay",
              "size": 10,
              "solidity": 0.2
             }
            },
            "type": "barpolar"
           }
          ],
          "carpet": [
           {
            "aaxis": {
             "endlinecolor": "#2a3f5f",
             "gridcolor": "white",
             "linecolor": "white",
             "minorgridcolor": "white",
             "startlinecolor": "#2a3f5f"
            },
            "baxis": {
             "endlinecolor": "#2a3f5f",
             "gridcolor": "white",
             "linecolor": "white",
             "minorgridcolor": "white",
             "startlinecolor": "#2a3f5f"
            },
            "type": "carpet"
           }
          ],
          "choropleth": [
           {
            "colorbar": {
             "outlinewidth": 0,
             "ticks": ""
            },
            "type": "choropleth"
           }
          ],
          "contour": [
           {
            "colorbar": {
             "outlinewidth": 0,
             "ticks": ""
            },
            "colorscale": [
             [
              0,
              "#0d0887"
             ],
             [
              0.1111111111111111,
              "#46039f"
             ],
             [
              0.2222222222222222,
              "#7201a8"
             ],
             [
              0.3333333333333333,
              "#9c179e"
             ],
             [
              0.4444444444444444,
              "#bd3786"
             ],
             [
              0.5555555555555556,
              "#d8576b"
             ],
             [
              0.6666666666666666,
              "#ed7953"
             ],
             [
              0.7777777777777778,
              "#fb9f3a"
             ],
             [
              0.8888888888888888,
              "#fdca26"
             ],
             [
              1,
              "#f0f921"
             ]
            ],
            "type": "contour"
           }
          ],
          "contourcarpet": [
           {
            "colorbar": {
             "outlinewidth": 0,
             "ticks": ""
            },
            "type": "contourcarpet"
           }
          ],
          "heatmap": [
           {
            "colorbar": {
             "outlinewidth": 0,
             "ticks": ""
            },
            "colorscale": [
             [
              0,
              "#0d0887"
             ],
             [
              0.1111111111111111,
              "#46039f"
             ],
             [
              0.2222222222222222,
              "#7201a8"
             ],
             [
              0.3333333333333333,
              "#9c179e"
             ],
             [
              0.4444444444444444,
              "#bd3786"
             ],
             [
              0.5555555555555556,
              "#d8576b"
             ],
             [
              0.6666666666666666,
              "#ed7953"
             ],
             [
              0.7777777777777778,
              "#fb9f3a"
             ],
             [
              0.8888888888888888,
              "#fdca26"
             ],
             [
              1,
              "#f0f921"
             ]
            ],
            "type": "heatmap"
           }
          ],
          "heatmapgl": [
           {
            "colorbar": {
             "outlinewidth": 0,
             "ticks": ""
            },
            "colorscale": [
             [
              0,
              "#0d0887"
             ],
             [
              0.1111111111111111,
              "#46039f"
             ],
             [
              0.2222222222222222,
              "#7201a8"
             ],
             [
              0.3333333333333333,
              "#9c179e"
             ],
             [
              0.4444444444444444,
              "#bd3786"
             ],
             [
              0.5555555555555556,
              "#d8576b"
             ],
             [
              0.6666666666666666,
              "#ed7953"
             ],
             [
              0.7777777777777778,
              "#fb9f3a"
             ],
             [
              0.8888888888888888,
              "#fdca26"
             ],
             [
              1,
              "#f0f921"
             ]
            ],
            "type": "heatmapgl"
           }
          ],
          "histogram": [
           {
            "marker": {
             "pattern": {
              "fillmode": "overlay",
              "size": 10,
              "solidity": 0.2
             }
            },
            "type": "histogram"
           }
          ],
          "histogram2d": [
           {
            "colorbar": {
             "outlinewidth": 0,
             "ticks": ""
            },
            "colorscale": [
             [
              0,
              "#0d0887"
             ],
             [
              0.1111111111111111,
              "#46039f"
             ],
             [
              0.2222222222222222,
              "#7201a8"
             ],
             [
              0.3333333333333333,
              "#9c179e"
             ],
             [
              0.4444444444444444,
              "#bd3786"
             ],
             [
              0.5555555555555556,
              "#d8576b"
             ],
             [
              0.6666666666666666,
              "#ed7953"
             ],
             [
              0.7777777777777778,
              "#fb9f3a"
             ],
             [
              0.8888888888888888,
              "#fdca26"
             ],
             [
              1,
              "#f0f921"
             ]
            ],
            "type": "histogram2d"
           }
          ],
          "histogram2dcontour": [
           {
            "colorbar": {
             "outlinewidth": 0,
             "ticks": ""
            },
            "colorscale": [
             [
              0,
              "#0d0887"
             ],
             [
              0.1111111111111111,
              "#46039f"
             ],
             [
              0.2222222222222222,
              "#7201a8"
             ],
             [
              0.3333333333333333,
              "#9c179e"
             ],
             [
              0.4444444444444444,
              "#bd3786"
             ],
             [
              0.5555555555555556,
              "#d8576b"
             ],
             [
              0.6666666666666666,
              "#ed7953"
             ],
             [
              0.7777777777777778,
              "#fb9f3a"
             ],
             [
              0.8888888888888888,
              "#fdca26"
             ],
             [
              1,
              "#f0f921"
             ]
            ],
            "type": "histogram2dcontour"
           }
          ],
          "mesh3d": [
           {
            "colorbar": {
             "outlinewidth": 0,
             "ticks": ""
            },
            "type": "mesh3d"
           }
          ],
          "parcoords": [
           {
            "line": {
             "colorbar": {
              "outlinewidth": 0,
              "ticks": ""
             }
            },
            "type": "parcoords"
           }
          ],
          "pie": [
           {
            "automargin": true,
            "type": "pie"
           }
          ],
          "scatter": [
           {
            "marker": {
             "colorbar": {
              "outlinewidth": 0,
              "ticks": ""
             }
            },
            "type": "scatter"
           }
          ],
          "scatter3d": [
           {
            "line": {
             "colorbar": {
              "outlinewidth": 0,
              "ticks": ""
             }
            },
            "marker": {
             "colorbar": {
              "outlinewidth": 0,
              "ticks": ""
             }
            },
            "type": "scatter3d"
           }
          ],
          "scattercarpet": [
           {
            "marker": {
             "colorbar": {
              "outlinewidth": 0,
              "ticks": ""
             }
            },
            "type": "scattercarpet"
           }
          ],
          "scattergeo": [
           {
            "marker": {
             "colorbar": {
              "outlinewidth": 0,
              "ticks": ""
             }
            },
            "type": "scattergeo"
           }
          ],
          "scattergl": [
           {
            "marker": {
             "colorbar": {
              "outlinewidth": 0,
              "ticks": ""
             }
            },
            "type": "scattergl"
           }
          ],
          "scattermapbox": [
           {
            "marker": {
             "colorbar": {
              "outlinewidth": 0,
              "ticks": ""
             }
            },
            "type": "scattermapbox"
           }
          ],
          "scatterpolar": [
           {
            "marker": {
             "colorbar": {
              "outlinewidth": 0,
              "ticks": ""
             }
            },
            "type": "scatterpolar"
           }
          ],
          "scatterpolargl": [
           {
            "marker": {
             "colorbar": {
              "outlinewidth": 0,
              "ticks": ""
             }
            },
            "type": "scatterpolargl"
           }
          ],
          "scatterternary": [
           {
            "marker": {
             "colorbar": {
              "outlinewidth": 0,
              "ticks": ""
             }
            },
            "type": "scatterternary"
           }
          ],
          "surface": [
           {
            "colorbar": {
             "outlinewidth": 0,
             "ticks": ""
            },
            "colorscale": [
             [
              0,
              "#0d0887"
             ],
             [
              0.1111111111111111,
              "#46039f"
             ],
             [
              0.2222222222222222,
              "#7201a8"
             ],
             [
              0.3333333333333333,
              "#9c179e"
             ],
             [
              0.4444444444444444,
              "#bd3786"
             ],
             [
              0.5555555555555556,
              "#d8576b"
             ],
             [
              0.6666666666666666,
              "#ed7953"
             ],
             [
              0.7777777777777778,
              "#fb9f3a"
             ],
             [
              0.8888888888888888,
              "#fdca26"
             ],
             [
              1,
              "#f0f921"
             ]
            ],
            "type": "surface"
           }
          ],
          "table": [
           {
            "cells": {
             "fill": {
              "color": "#EBF0F8"
             },
             "line": {
              "color": "white"
             }
            },
            "header": {
             "fill": {
              "color": "#C8D4E3"
             },
             "line": {
              "color": "white"
             }
            },
            "type": "table"
           }
          ]
         },
         "layout": {
          "annotationdefaults": {
           "arrowcolor": "#2a3f5f",
           "arrowhead": 0,
           "arrowwidth": 1
          },
          "autotypenumbers": "strict",
          "coloraxis": {
           "colorbar": {
            "outlinewidth": 0,
            "ticks": ""
           }
          },
          "colorscale": {
           "diverging": [
            [
             0,
             "#8e0152"
            ],
            [
             0.1,
             "#c51b7d"
            ],
            [
             0.2,
             "#de77ae"
            ],
            [
             0.3,
             "#f1b6da"
            ],
            [
             0.4,
             "#fde0ef"
            ],
            [
             0.5,
             "#f7f7f7"
            ],
            [
             0.6,
             "#e6f5d0"
            ],
            [
             0.7,
             "#b8e186"
            ],
            [
             0.8,
             "#7fbc41"
            ],
            [
             0.9,
             "#4d9221"
            ],
            [
             1,
             "#276419"
            ]
           ],
           "sequential": [
            [
             0,
             "#0d0887"
            ],
            [
             0.1111111111111111,
             "#46039f"
            ],
            [
             0.2222222222222222,
             "#7201a8"
            ],
            [
             0.3333333333333333,
             "#9c179e"
            ],
            [
             0.4444444444444444,
             "#bd3786"
            ],
            [
             0.5555555555555556,
             "#d8576b"
            ],
            [
             0.6666666666666666,
             "#ed7953"
            ],
            [
             0.7777777777777778,
             "#fb9f3a"
            ],
            [
             0.8888888888888888,
             "#fdca26"
            ],
            [
             1,
             "#f0f921"
            ]
           ],
           "sequentialminus": [
            [
             0,
             "#0d0887"
            ],
            [
             0.1111111111111111,
             "#46039f"
            ],
            [
             0.2222222222222222,
             "#7201a8"
            ],
            [
             0.3333333333333333,
             "#9c179e"
            ],
            [
             0.4444444444444444,
             "#bd3786"
            ],
            [
             0.5555555555555556,
             "#d8576b"
            ],
            [
             0.6666666666666666,
             "#ed7953"
            ],
            [
             0.7777777777777778,
             "#fb9f3a"
            ],
            [
             0.8888888888888888,
             "#fdca26"
            ],
            [
             1,
             "#f0f921"
            ]
           ]
          },
          "colorway": [
           "#636efa",
           "#EF553B",
           "#00cc96",
           "#ab63fa",
           "#FFA15A",
           "#19d3f3",
           "#FF6692",
           "#B6E880",
           "#FF97FF",
           "#FECB52"
          ],
          "font": {
           "color": "#2a3f5f"
          },
          "geo": {
           "bgcolor": "white",
           "lakecolor": "white",
           "landcolor": "#E5ECF6",
           "showlakes": true,
           "showland": true,
           "subunitcolor": "white"
          },
          "hoverlabel": {
           "align": "left"
          },
          "hovermode": "closest",
          "mapbox": {
           "style": "light"
          },
          "paper_bgcolor": "white",
          "plot_bgcolor": "#E5ECF6",
          "polar": {
           "angularaxis": {
            "gridcolor": "white",
            "linecolor": "white",
            "ticks": ""
           },
           "bgcolor": "#E5ECF6",
           "radialaxis": {
            "gridcolor": "white",
            "linecolor": "white",
            "ticks": ""
           }
          },
          "scene": {
           "xaxis": {
            "backgroundcolor": "#E5ECF6",
            "gridcolor": "white",
            "gridwidth": 2,
            "linecolor": "white",
            "showbackground": true,
            "ticks": "",
            "zerolinecolor": "white"
           },
           "yaxis": {
            "backgroundcolor": "#E5ECF6",
            "gridcolor": "white",
            "gridwidth": 2,
            "linecolor": "white",
            "showbackground": true,
            "ticks": "",
            "zerolinecolor": "white"
           },
           "zaxis": {
            "backgroundcolor": "#E5ECF6",
            "gridcolor": "white",
            "gridwidth": 2,
            "linecolor": "white",
            "showbackground": true,
            "ticks": "",
            "zerolinecolor": "white"
           }
          },
          "shapedefaults": {
           "line": {
            "color": "#2a3f5f"
           }
          },
          "ternary": {
           "aaxis": {
            "gridcolor": "white",
            "linecolor": "white",
            "ticks": ""
           },
           "baxis": {
            "gridcolor": "white",
            "linecolor": "white",
            "ticks": ""
           },
           "bgcolor": "#E5ECF6",
           "caxis": {
            "gridcolor": "white",
            "linecolor": "white",
            "ticks": ""
           }
          },
          "title": {
           "x": 0.05
          },
          "xaxis": {
           "automargin": true,
           "gridcolor": "white",
           "linecolor": "white",
           "ticks": "",
           "title": {
            "standoff": 15
           },
           "zerolinecolor": "white",
           "zerolinewidth": 2
          },
          "yaxis": {
           "automargin": true,
           "gridcolor": "white",
           "linecolor": "white",
           "ticks": "",
           "title": {
            "standoff": 15
           },
           "zerolinecolor": "white",
           "zerolinewidth": 2
          }
         }
        },
        "title": {
         "text": "Second round picks with PPG,APG,RPG stacked"
        },
        "xaxis": {
         "anchor": "y",
         "domain": [
          0,
          1
         ],
         "title": {
          "text": "Player"
         }
        },
        "yaxis": {
         "anchor": "x",
         "domain": [
          0,
          1
         ],
         "range": [
          0,
          40
         ],
         "title": {
          "text": "value"
         }
        }
       }
      },
      "text/html": [
       "<div>                            <div id=\"ae286e4a-94bd-49d2-961e-7d499d058497\" class=\"plotly-graph-div\" style=\"height:525px; width:100%;\"></div>            <script type=\"text/javascript\">                require([\"plotly\"], function(Plotly) {                    window.PLOTLYENV=window.PLOTLYENV || {};                                    if (document.getElementById(\"ae286e4a-94bd-49d2-961e-7d499d058497\")) {                    Plotly.newPlot(                        \"ae286e4a-94bd-49d2-961e-7d499d058497\",                        [{\"alignmentgroup\":\"True\",\"customdata\":[[\"BRK\"],[\"PHO\"],[\"PHI\"],[\"PHI\"],[\"ATL\"],[\"CHO\"],[\"DAL\"],[\"CHI\"],[\"NOP\"],[\"SAC\"],[\"GSW\"],[\"PHI\"],[\"MIN\"],[\"MIA\"],[\"DET\"],[\"ORL\"],[\"SAC\"],[\"LAC\"],[\"SAS\"],[\"IND\"],[\"BOS\"],[\"CHO\"],[\"UTA\"],[\"PHI\"],[\"NYK\"],[\"LAC\"],[\"NOP\"],[\"GSW\"],[\"TOR\"],[\"SAC\"],[null]],\"hovertemplate\":\"variable=PPG<br>Player=%{x}<br>value=%{y}<br>Tm=%{customdata[0]}<extra></extra>\",\"legendgroup\":\"PPG\",\"marker\":{\"color\":\"rgb(127, 60, 141)\",\"pattern\":{\"shape\":\"\"}},\"name\":\"PPG\",\"offsetgroup\":\"PPG\",\"orientation\":\"v\",\"showlegend\":true,\"textposition\":\"auto\",\"type\":\"bar\",\"x\":[\"Nicolas Claxton\",\"KZ Okpala\",\"Carsen Edwards\",\"Bruno Fernando\",\"Didi Louzada\",\"Cody Martin\",\"Deividas Sirvydis\",\"Daniel Gafford\",\"Alen Smailagi\\u0107\",\"Justin James\",\"Eric Paschall\",\"Admiral Schofield\",\"Jaylen Nowell\",\"Bol Bol\",\"Isaiah Roby\",\"Talen Horton-Tucker\",\"Ignas Brazdeikis\",\"Terance Mann\",\"Quinndary Weatherspoon\",\"Jarrell Brantley\",\"Tremont Waters\",\"Jalen McDaniels\",\"Justin Wright-Foreman\",\"Marial Shayok\",\"Kyle Guy\",\"Jaylen Hands\",\"Jordan Bone\",\"Miye Oni\",\"Dewan Hernandez\",\"Vanja Marinkovi\\u0107\",null],\"xaxis\":\"x\",\"y\":[6.0,2.2,3.6,3.0,1.6,5.0,2.1,6.7,3.0,3.2,10.8,3.0,6.8,2.5,8.0,9.0,3.8,6.1,1.9,2.4,3.8,6.5,4.8,2.8,2.7,null,2.8,1.9,2.3,null,null],\"yaxis\":\"y\"},{\"alignmentgroup\":\"True\",\"customdata\":[[\"BRK\"],[\"PHO\"],[\"PHI\"],[\"PHI\"],[\"ATL\"],[\"CHO\"],[\"DAL\"],[\"CHI\"],[\"NOP\"],[\"SAC\"],[\"GSW\"],[\"PHI\"],[\"MIN\"],[\"MIA\"],[\"DET\"],[\"ORL\"],[\"SAC\"],[\"LAC\"],[\"SAS\"],[\"IND\"],[\"BOS\"],[\"CHO\"],[\"UTA\"],[\"PHI\"],[\"NYK\"],[\"LAC\"],[\"NOP\"],[\"GSW\"],[\"TOR\"],[\"SAC\"],[null]],\"hovertemplate\":\"variable=APG<br>Player=%{x}<br>value=%{y}<br>Tm=%{customdata[0]}<extra></extra>\",\"legendgroup\":\"APG\",\"marker\":{\"color\":\"rgb(17, 165, 121)\",\"pattern\":{\"shape\":\"\"}},\"name\":\"APG\",\"offsetgroup\":\"APG\",\"orientation\":\"v\",\"showlegend\":true,\"textposition\":\"auto\",\"type\":\"bar\",\"x\":[\"Nicolas Claxton\",\"KZ Okpala\",\"Carsen Edwards\",\"Bruno Fernando\",\"Didi Louzada\",\"Cody Martin\",\"Deividas Sirvydis\",\"Daniel Gafford\",\"Alen Smailagi\\u0107\",\"Justin James\",\"Eric Paschall\",\"Admiral Schofield\",\"Jaylen Nowell\",\"Bol Bol\",\"Isaiah Roby\",\"Talen Horton-Tucker\",\"Ignas Brazdeikis\",\"Terance Mann\",\"Quinndary Weatherspoon\",\"Jarrell Brantley\",\"Tremont Waters\",\"Jalen McDaniels\",\"Justin Wright-Foreman\",\"Marial Shayok\",\"Kyle Guy\",\"Jaylen Hands\",\"Jordan Bone\",\"Miye Oni\",\"Dewan Hernandez\",\"Vanja Marinkovi\\u0107\",null],\"xaxis\":\"x\",\"y\":[0.9,0.4,0.6,0.6,0.8,1.9,0.3,0.6,0.6,0.6,1.6,0.5,1.3,0.3,1.5,2.6,0.8,1.6,0.6,0.7,2.1,1.0,1.8,0.3,1.0,null,1.1,0.5,0.5,null,null],\"yaxis\":\"y\"},{\"alignmentgroup\":\"True\",\"customdata\":[[\"BRK\"],[\"PHO\"],[\"PHI\"],[\"PHI\"],[\"ATL\"],[\"CHO\"],[\"DAL\"],[\"CHI\"],[\"NOP\"],[\"SAC\"],[\"GSW\"],[\"PHI\"],[\"MIN\"],[\"MIA\"],[\"DET\"],[\"ORL\"],[\"SAC\"],[\"LAC\"],[\"SAS\"],[\"IND\"],[\"BOS\"],[\"CHO\"],[\"UTA\"],[\"PHI\"],[\"NYK\"],[\"LAC\"],[\"NOP\"],[\"GSW\"],[\"TOR\"],[\"SAC\"],[null]],\"hovertemplate\":\"variable=RPG<br>Player=%{x}<br>value=%{y}<br>Tm=%{customdata[0]}<extra></extra>\",\"legendgroup\":\"RPG\",\"marker\":{\"color\":\"rgb(57, 105, 172)\",\"pattern\":{\"shape\":\"\"}},\"name\":\"RPG\",\"offsetgroup\":\"RPG\",\"orientation\":\"v\",\"showlegend\":true,\"textposition\":\"auto\",\"type\":\"bar\",\"x\":[\"Nicolas Claxton\",\"KZ Okpala\",\"Carsen Edwards\",\"Bruno Fernando\",\"Didi Louzada\",\"Cody Martin\",\"Deividas Sirvydis\",\"Daniel Gafford\",\"Alen Smailagi\\u0107\",\"Justin James\",\"Eric Paschall\",\"Admiral Schofield\",\"Jaylen Nowell\",\"Bol Bol\",\"Isaiah Roby\",\"Talen Horton-Tucker\",\"Ignas Brazdeikis\",\"Terance Mann\",\"Quinndary Weatherspoon\",\"Jarrell Brantley\",\"Tremont Waters\",\"Jalen McDaniels\",\"Justin Wright-Foreman\",\"Marial Shayok\",\"Kyle Guy\",\"Jaylen Hands\",\"Jordan Bone\",\"Miye Oni\",\"Dewan Hernandez\",\"Vanja Marinkovi\\u0107\",null],\"xaxis\":\"x\",\"y\":[4.5,1.7,1.1,2.9,1.0,3.4,1.5,3.9,1.5,0.9,3.7,1.4,1.7,1.2,5.0,2.8,2.0,3.1,0.6,1.3,0.9,3.6,1.3,1.8,1.1,null,1.2,1.4,2.3,null,null],\"yaxis\":\"y\"}],                        {\"barmode\":\"relative\",\"legend\":{\"title\":{\"text\":\"variable\"},\"tracegroupgap\":0},\"template\":{\"data\":{\"bar\":[{\"error_x\":{\"color\":\"#2a3f5f\"},\"error_y\":{\"color\":\"#2a3f5f\"},\"marker\":{\"line\":{\"color\":\"#E5ECF6\",\"width\":0.5},\"pattern\":{\"fillmode\":\"overlay\",\"size\":10,\"solidity\":0.2}},\"type\":\"bar\"}],\"barpolar\":[{\"marker\":{\"line\":{\"color\":\"#E5ECF6\",\"width\":0.5},\"pattern\":{\"fillmode\":\"overlay\",\"size\":10,\"solidity\":0.2}},\"type\":\"barpolar\"}],\"carpet\":[{\"aaxis\":{\"endlinecolor\":\"#2a3f5f\",\"gridcolor\":\"white\",\"linecolor\":\"white\",\"minorgridcolor\":\"white\",\"startlinecolor\":\"#2a3f5f\"},\"baxis\":{\"endlinecolor\":\"#2a3f5f\",\"gridcolor\":\"white\",\"linecolor\":\"white\",\"minorgridcolor\":\"white\",\"startlinecolor\":\"#2a3f5f\"},\"type\":\"carpet\"}],\"choropleth\":[{\"colorbar\":{\"outlinewidth\":0,\"ticks\":\"\"},\"type\":\"choropleth\"}],\"contour\":[{\"colorbar\":{\"outlinewidth\":0,\"ticks\":\"\"},\"colorscale\":[[0.0,\"#0d0887\"],[0.1111111111111111,\"#46039f\"],[0.2222222222222222,\"#7201a8\"],[0.3333333333333333,\"#9c179e\"],[0.4444444444444444,\"#bd3786\"],[0.5555555555555556,\"#d8576b\"],[0.6666666666666666,\"#ed7953\"],[0.7777777777777778,\"#fb9f3a\"],[0.8888888888888888,\"#fdca26\"],[1.0,\"#f0f921\"]],\"type\":\"contour\"}],\"contourcarpet\":[{\"colorbar\":{\"outlinewidth\":0,\"ticks\":\"\"},\"type\":\"contourcarpet\"}],\"heatmap\":[{\"colorbar\":{\"outlinewidth\":0,\"ticks\":\"\"},\"colorscale\":[[0.0,\"#0d0887\"],[0.1111111111111111,\"#46039f\"],[0.2222222222222222,\"#7201a8\"],[0.3333333333333333,\"#9c179e\"],[0.4444444444444444,\"#bd3786\"],[0.5555555555555556,\"#d8576b\"],[0.6666666666666666,\"#ed7953\"],[0.7777777777777778,\"#fb9f3a\"],[0.8888888888888888,\"#fdca26\"],[1.0,\"#f0f921\"]],\"type\":\"heatmap\"}],\"heatmapgl\":[{\"colorbar\":{\"outlinewidth\":0,\"ticks\":\"\"},\"colorscale\":[[0.0,\"#0d0887\"],[0.1111111111111111,\"#46039f\"],[0.2222222222222222,\"#7201a8\"],[0.3333333333333333,\"#9c179e\"],[0.4444444444444444,\"#bd3786\"],[0.5555555555555556,\"#d8576b\"],[0.6666666666666666,\"#ed7953\"],[0.7777777777777778,\"#fb9f3a\"],[0.8888888888888888,\"#fdca26\"],[1.0,\"#f0f921\"]],\"type\":\"heatmapgl\"}],\"histogram\":[{\"marker\":{\"pattern\":{\"fillmode\":\"overlay\",\"size\":10,\"solidity\":0.2}},\"type\":\"histogram\"}],\"histogram2d\":[{\"colorbar\":{\"outlinewidth\":0,\"ticks\":\"\"},\"colorscale\":[[0.0,\"#0d0887\"],[0.1111111111111111,\"#46039f\"],[0.2222222222222222,\"#7201a8\"],[0.3333333333333333,\"#9c179e\"],[0.4444444444444444,\"#bd3786\"],[0.5555555555555556,\"#d8576b\"],[0.6666666666666666,\"#ed7953\"],[0.7777777777777778,\"#fb9f3a\"],[0.8888888888888888,\"#fdca26\"],[1.0,\"#f0f921\"]],\"type\":\"histogram2d\"}],\"histogram2dcontour\":[{\"colorbar\":{\"outlinewidth\":0,\"ticks\":\"\"},\"colorscale\":[[0.0,\"#0d0887\"],[0.1111111111111111,\"#46039f\"],[0.2222222222222222,\"#7201a8\"],[0.3333333333333333,\"#9c179e\"],[0.4444444444444444,\"#bd3786\"],[0.5555555555555556,\"#d8576b\"],[0.6666666666666666,\"#ed7953\"],[0.7777777777777778,\"#fb9f3a\"],[0.8888888888888888,\"#fdca26\"],[1.0,\"#f0f921\"]],\"type\":\"histogram2dcontour\"}],\"mesh3d\":[{\"colorbar\":{\"outlinewidth\":0,\"ticks\":\"\"},\"type\":\"mesh3d\"}],\"parcoords\":[{\"line\":{\"colorbar\":{\"outlinewidth\":0,\"ticks\":\"\"}},\"type\":\"parcoords\"}],\"pie\":[{\"automargin\":true,\"type\":\"pie\"}],\"scatter\":[{\"marker\":{\"colorbar\":{\"outlinewidth\":0,\"ticks\":\"\"}},\"type\":\"scatter\"}],\"scatter3d\":[{\"line\":{\"colorbar\":{\"outlinewidth\":0,\"ticks\":\"\"}},\"marker\":{\"colorbar\":{\"outlinewidth\":0,\"ticks\":\"\"}},\"type\":\"scatter3d\"}],\"scattercarpet\":[{\"marker\":{\"colorbar\":{\"outlinewidth\":0,\"ticks\":\"\"}},\"type\":\"scattercarpet\"}],\"scattergeo\":[{\"marker\":{\"colorbar\":{\"outlinewidth\":0,\"ticks\":\"\"}},\"type\":\"scattergeo\"}],\"scattergl\":[{\"marker\":{\"colorbar\":{\"outlinewidth\":0,\"ticks\":\"\"}},\"type\":\"scattergl\"}],\"scattermapbox\":[{\"marker\":{\"colorbar\":{\"outlinewidth\":0,\"ticks\":\"\"}},\"type\":\"scattermapbox\"}],\"scatterpolar\":[{\"marker\":{\"colorbar\":{\"outlinewidth\":0,\"ticks\":\"\"}},\"type\":\"scatterpolar\"}],\"scatterpolargl\":[{\"marker\":{\"colorbar\":{\"outlinewidth\":0,\"ticks\":\"\"}},\"type\":\"scatterpolargl\"}],\"scatterternary\":[{\"marker\":{\"colorbar\":{\"outlinewidth\":0,\"ticks\":\"\"}},\"type\":\"scatterternary\"}],\"surface\":[{\"colorbar\":{\"outlinewidth\":0,\"ticks\":\"\"},\"colorscale\":[[0.0,\"#0d0887\"],[0.1111111111111111,\"#46039f\"],[0.2222222222222222,\"#7201a8\"],[0.3333333333333333,\"#9c179e\"],[0.4444444444444444,\"#bd3786\"],[0.5555555555555556,\"#d8576b\"],[0.6666666666666666,\"#ed7953\"],[0.7777777777777778,\"#fb9f3a\"],[0.8888888888888888,\"#fdca26\"],[1.0,\"#f0f921\"]],\"type\":\"surface\"}],\"table\":[{\"cells\":{\"fill\":{\"color\":\"#EBF0F8\"},\"line\":{\"color\":\"white\"}},\"header\":{\"fill\":{\"color\":\"#C8D4E3\"},\"line\":{\"color\":\"white\"}},\"type\":\"table\"}]},\"layout\":{\"annotationdefaults\":{\"arrowcolor\":\"#2a3f5f\",\"arrowhead\":0,\"arrowwidth\":1},\"autotypenumbers\":\"strict\",\"coloraxis\":{\"colorbar\":{\"outlinewidth\":0,\"ticks\":\"\"}},\"colorscale\":{\"diverging\":[[0,\"#8e0152\"],[0.1,\"#c51b7d\"],[0.2,\"#de77ae\"],[0.3,\"#f1b6da\"],[0.4,\"#fde0ef\"],[0.5,\"#f7f7f7\"],[0.6,\"#e6f5d0\"],[0.7,\"#b8e186\"],[0.8,\"#7fbc41\"],[0.9,\"#4d9221\"],[1,\"#276419\"]],\"sequential\":[[0.0,\"#0d0887\"],[0.1111111111111111,\"#46039f\"],[0.2222222222222222,\"#7201a8\"],[0.3333333333333333,\"#9c179e\"],[0.4444444444444444,\"#bd3786\"],[0.5555555555555556,\"#d8576b\"],[0.6666666666666666,\"#ed7953\"],[0.7777777777777778,\"#fb9f3a\"],[0.8888888888888888,\"#fdca26\"],[1.0,\"#f0f921\"]],\"sequentialminus\":[[0.0,\"#0d0887\"],[0.1111111111111111,\"#46039f\"],[0.2222222222222222,\"#7201a8\"],[0.3333333333333333,\"#9c179e\"],[0.4444444444444444,\"#bd3786\"],[0.5555555555555556,\"#d8576b\"],[0.6666666666666666,\"#ed7953\"],[0.7777777777777778,\"#fb9f3a\"],[0.8888888888888888,\"#fdca26\"],[1.0,\"#f0f921\"]]},\"colorway\":[\"#636efa\",\"#EF553B\",\"#00cc96\",\"#ab63fa\",\"#FFA15A\",\"#19d3f3\",\"#FF6692\",\"#B6E880\",\"#FF97FF\",\"#FECB52\"],\"font\":{\"color\":\"#2a3f5f\"},\"geo\":{\"bgcolor\":\"white\",\"lakecolor\":\"white\",\"landcolor\":\"#E5ECF6\",\"showlakes\":true,\"showland\":true,\"subunitcolor\":\"white\"},\"hoverlabel\":{\"align\":\"left\"},\"hovermode\":\"closest\",\"mapbox\":{\"style\":\"light\"},\"paper_bgcolor\":\"white\",\"plot_bgcolor\":\"#E5ECF6\",\"polar\":{\"angularaxis\":{\"gridcolor\":\"white\",\"linecolor\":\"white\",\"ticks\":\"\"},\"bgcolor\":\"#E5ECF6\",\"radialaxis\":{\"gridcolor\":\"white\",\"linecolor\":\"white\",\"ticks\":\"\"}},\"scene\":{\"xaxis\":{\"backgroundcolor\":\"#E5ECF6\",\"gridcolor\":\"white\",\"gridwidth\":2,\"linecolor\":\"white\",\"showbackground\":true,\"ticks\":\"\",\"zerolinecolor\":\"white\"},\"yaxis\":{\"backgroundcolor\":\"#E5ECF6\",\"gridcolor\":\"white\",\"gridwidth\":2,\"linecolor\":\"white\",\"showbackground\":true,\"ticks\":\"\",\"zerolinecolor\":\"white\"},\"zaxis\":{\"backgroundcolor\":\"#E5ECF6\",\"gridcolor\":\"white\",\"gridwidth\":2,\"linecolor\":\"white\",\"showbackground\":true,\"ticks\":\"\",\"zerolinecolor\":\"white\"}},\"shapedefaults\":{\"line\":{\"color\":\"#2a3f5f\"}},\"ternary\":{\"aaxis\":{\"gridcolor\":\"white\",\"linecolor\":\"white\",\"ticks\":\"\"},\"baxis\":{\"gridcolor\":\"white\",\"linecolor\":\"white\",\"ticks\":\"\"},\"bgcolor\":\"#E5ECF6\",\"caxis\":{\"gridcolor\":\"white\",\"linecolor\":\"white\",\"ticks\":\"\"}},\"title\":{\"x\":0.05},\"xaxis\":{\"automargin\":true,\"gridcolor\":\"white\",\"linecolor\":\"white\",\"ticks\":\"\",\"title\":{\"standoff\":15},\"zerolinecolor\":\"white\",\"zerolinewidth\":2},\"yaxis\":{\"automargin\":true,\"gridcolor\":\"white\",\"linecolor\":\"white\",\"ticks\":\"\",\"title\":{\"standoff\":15},\"zerolinecolor\":\"white\",\"zerolinewidth\":2}}},\"title\":{\"text\":\"Second round picks with PPG,APG,RPG stacked\"},\"xaxis\":{\"anchor\":\"y\",\"domain\":[0.0,1.0],\"title\":{\"text\":\"Player\"}},\"yaxis\":{\"anchor\":\"x\",\"domain\":[0.0,1.0],\"range\":[0,40],\"title\":{\"text\":\"value\"}}},                        {\"responsive\": true}                    ).then(function(){\n",
       "                            \n",
       "var gd = document.getElementById('ae286e4a-94bd-49d2-961e-7d499d058497');\n",
       "var x = new MutationObserver(function (mutations, observer) {{\n",
       "        var display = window.getComputedStyle(gd).display;\n",
       "        if (!display || display === 'none') {{\n",
       "            console.log([gd, 'removed!']);\n",
       "            Plotly.purge(gd);\n",
       "            observer.disconnect();\n",
       "        }}\n",
       "}});\n",
       "\n",
       "// Listen for the removal of the full notebook cells\n",
       "var notebookContainer = gd.closest('#notebook-container');\n",
       "if (notebookContainer) {{\n",
       "    x.observe(notebookContainer, {childList: true});\n",
       "}}\n",
       "\n",
       "// Listen for the clearing of the current output cell\n",
       "var outputEl = gd.closest('.output');\n",
       "if (outputEl) {{\n",
       "    x.observe(outputEl, {childList: true});\n",
       "}}\n",
       "\n",
       "                        })                };                });            </script>        </div>"
      ]
     },
     "metadata": {},
     "output_type": "display_data"
    }
   ],
   "source": [
    "fig = px.bar(second_round, x=\"Player\", y=[\"PPG\", \"APG\", \"RPG\"], title=\"Second round picks with PPG,APG,RPG stacked\", hover_data=['Tm'], color_discrete_sequence=px.colors.qualitative.Bold)\n",
    "fig.update_layout(yaxis_range=[0,40])\n",
    "fig.show()"
   ]
  },
  {
   "cell_type": "code",
   "execution_count": 125,
   "id": "03bfb0ec",
   "metadata": {},
   "outputs": [
    {
     "data": {
      "text/html": [
       "<div>\n",
       "<style scoped>\n",
       "    .dataframe tbody tr th:only-of-type {\n",
       "        vertical-align: middle;\n",
       "    }\n",
       "\n",
       "    .dataframe tbody tr th {\n",
       "        vertical-align: top;\n",
       "    }\n",
       "\n",
       "    .dataframe thead th {\n",
       "        text-align: right;\n",
       "    }\n",
       "</style>\n",
       "<table border=\"1\" class=\"dataframe\">\n",
       "  <thead>\n",
       "    <tr style=\"text-align: right;\">\n",
       "      <th></th>\n",
       "      <th>Rk</th>\n",
       "      <th>Pk</th>\n",
       "      <th>Tm</th>\n",
       "      <th>Player</th>\n",
       "      <th>College</th>\n",
       "      <th>Yrs</th>\n",
       "      <th>G</th>\n",
       "      <th>MP</th>\n",
       "      <th>PTS</th>\n",
       "      <th>TRB</th>\n",
       "      <th>...</th>\n",
       "      <th>FT%</th>\n",
       "      <th>MP.1</th>\n",
       "      <th>PPG</th>\n",
       "      <th>RPG</th>\n",
       "      <th>APG</th>\n",
       "      <th>WS</th>\n",
       "      <th>WS/48</th>\n",
       "      <th>BPM</th>\n",
       "      <th>VORP</th>\n",
       "      <th>Cumulative</th>\n",
       "    </tr>\n",
       "  </thead>\n",
       "  <tbody>\n",
       "    <tr>\n",
       "      <th>0</th>\n",
       "      <td>1.0</td>\n",
       "      <td>1.0</td>\n",
       "      <td>NOP</td>\n",
       "      <td>Zion Williamson</td>\n",
       "      <td>Duke</td>\n",
       "      <td>2.0</td>\n",
       "      <td>85.0</td>\n",
       "      <td>2694.0</td>\n",
       "      <td>2187.0</td>\n",
       "      <td>591.0</td>\n",
       "      <td>...</td>\n",
       "      <td>0.683</td>\n",
       "      <td>31.7</td>\n",
       "      <td>25.7</td>\n",
       "      <td>7.0</td>\n",
       "      <td>3.2</td>\n",
       "      <td>10.6</td>\n",
       "      <td>0.189</td>\n",
       "      <td>4.6</td>\n",
       "      <td>4.5</td>\n",
       "      <td>35.9</td>\n",
       "    </tr>\n",
       "    <tr>\n",
       "      <th>1</th>\n",
       "      <td>2.0</td>\n",
       "      <td>2.0</td>\n",
       "      <td>MEM</td>\n",
       "      <td>Ja Morant</td>\n",
       "      <td>Murray State</td>\n",
       "      <td>3.0</td>\n",
       "      <td>149.0</td>\n",
       "      <td>4746.0</td>\n",
       "      <td>2855.0</td>\n",
       "      <td>617.0</td>\n",
       "      <td>...</td>\n",
       "      <td>0.754</td>\n",
       "      <td>31.9</td>\n",
       "      <td>19.2</td>\n",
       "      <td>4.1</td>\n",
       "      <td>7.3</td>\n",
       "      <td>8.8</td>\n",
       "      <td>0.089</td>\n",
       "      <td>0.2</td>\n",
       "      <td>2.7</td>\n",
       "      <td>30.6</td>\n",
       "    </tr>\n",
       "    <tr>\n",
       "      <th>2</th>\n",
       "      <td>3.0</td>\n",
       "      <td>3.0</td>\n",
       "      <td>NYK</td>\n",
       "      <td>RJ Barrett</td>\n",
       "      <td>Duke</td>\n",
       "      <td>3.0</td>\n",
       "      <td>149.0</td>\n",
       "      <td>4871.0</td>\n",
       "      <td>2362.0</td>\n",
       "      <td>817.0</td>\n",
       "      <td>...</td>\n",
       "      <td>0.684</td>\n",
       "      <td>32.7</td>\n",
       "      <td>15.9</td>\n",
       "      <td>5.5</td>\n",
       "      <td>2.7</td>\n",
       "      <td>3.8</td>\n",
       "      <td>0.038</td>\n",
       "      <td>-2.9</td>\n",
       "      <td>-1.1</td>\n",
       "      <td>24.1</td>\n",
       "    </tr>\n",
       "    <tr>\n",
       "      <th>3</th>\n",
       "      <td>4.0</td>\n",
       "      <td>4.0</td>\n",
       "      <td>LAL</td>\n",
       "      <td>De'Andre Hunter</td>\n",
       "      <td>Virginia</td>\n",
       "      <td>3.0</td>\n",
       "      <td>97.0</td>\n",
       "      <td>3002.0</td>\n",
       "      <td>1241.0</td>\n",
       "      <td>426.0</td>\n",
       "      <td>...</td>\n",
       "      <td>0.782</td>\n",
       "      <td>30.9</td>\n",
       "      <td>12.8</td>\n",
       "      <td>4.4</td>\n",
       "      <td>1.7</td>\n",
       "      <td>1.8</td>\n",
       "      <td>0.028</td>\n",
       "      <td>-3.5</td>\n",
       "      <td>-1.2</td>\n",
       "      <td>18.9</td>\n",
       "    </tr>\n",
       "    <tr>\n",
       "      <th>4</th>\n",
       "      <td>5.0</td>\n",
       "      <td>5.0</td>\n",
       "      <td>CLE</td>\n",
       "      <td>Darius Garland</td>\n",
       "      <td>Vanderbilt</td>\n",
       "      <td>3.0</td>\n",
       "      <td>133.0</td>\n",
       "      <td>4307.0</td>\n",
       "      <td>2039.0</td>\n",
       "      <td>292.0</td>\n",
       "      <td>...</td>\n",
       "      <td>0.856</td>\n",
       "      <td>32.4</td>\n",
       "      <td>15.3</td>\n",
       "      <td>2.2</td>\n",
       "      <td>5.3</td>\n",
       "      <td>1.2</td>\n",
       "      <td>0.014</td>\n",
       "      <td>-3.0</td>\n",
       "      <td>-1.1</td>\n",
       "      <td>22.8</td>\n",
       "    </tr>\n",
       "  </tbody>\n",
       "</table>\n",
       "<p>5 rows × 23 columns</p>\n",
       "</div>"
      ],
      "text/plain": [
       "    Rk   Pk   Tm           Player       College  Yrs      G      MP     PTS  \\\n",
       "0  1.0  1.0  NOP  Zion Williamson          Duke  2.0   85.0  2694.0  2187.0   \n",
       "1  2.0  2.0  MEM        Ja Morant  Murray State  3.0  149.0  4746.0  2855.0   \n",
       "2  3.0  3.0  NYK       RJ Barrett          Duke  3.0  149.0  4871.0  2362.0   \n",
       "3  4.0  4.0  LAL  De'Andre Hunter      Virginia  3.0   97.0  3002.0  1241.0   \n",
       "4  5.0  5.0  CLE   Darius Garland    Vanderbilt  3.0  133.0  4307.0  2039.0   \n",
       "\n",
       "     TRB  ...    FT%  MP.1   PPG  RPG  APG    WS  WS/48  BPM  VORP  Cumulative  \n",
       "0  591.0  ...  0.683  31.7  25.7  7.0  3.2  10.6  0.189  4.6   4.5        35.9  \n",
       "1  617.0  ...  0.754  31.9  19.2  4.1  7.3   8.8  0.089  0.2   2.7        30.6  \n",
       "2  817.0  ...  0.684  32.7  15.9  5.5  2.7   3.8  0.038 -2.9  -1.1        24.1  \n",
       "3  426.0  ...  0.782  30.9  12.8  4.4  1.7   1.8  0.028 -3.5  -1.2        18.9  \n",
       "4  292.0  ...  0.856  32.4  15.3  2.2  5.3   1.2  0.014 -3.0  -1.1        22.8  \n",
       "\n",
       "[5 rows x 23 columns]"
      ]
     },
     "execution_count": 125,
     "metadata": {},
     "output_type": "execute_result"
    }
   ],
   "source": [
    "draft['Cumulative'] = draft[\"PPG\"] + draft[\"APG\"] + draft[\"RPG\"]\n",
    "draft.head()"
   ]
  },
  {
   "cell_type": "code",
   "execution_count": 126,
   "id": "8bcf1f02",
   "metadata": {},
   "outputs": [],
   "source": [
    "draft['Player'] = \"Pick No.\" + draft[\"Pk\"].astype(str) +\"-\" +draft[\"Player\"].astype(str)"
   ]
  },
  {
   "cell_type": "code",
   "execution_count": 127,
   "id": "593598f2",
   "metadata": {},
   "outputs": [
    {
     "data": {
      "text/html": [
       "<div>\n",
       "<style scoped>\n",
       "    .dataframe tbody tr th:only-of-type {\n",
       "        vertical-align: middle;\n",
       "    }\n",
       "\n",
       "    .dataframe tbody tr th {\n",
       "        vertical-align: top;\n",
       "    }\n",
       "\n",
       "    .dataframe thead th {\n",
       "        text-align: right;\n",
       "    }\n",
       "</style>\n",
       "<table border=\"1\" class=\"dataframe\">\n",
       "  <thead>\n",
       "    <tr style=\"text-align: right;\">\n",
       "      <th></th>\n",
       "      <th>Rk</th>\n",
       "      <th>Pk</th>\n",
       "      <th>Tm</th>\n",
       "      <th>Player</th>\n",
       "      <th>College</th>\n",
       "      <th>Yrs</th>\n",
       "      <th>G</th>\n",
       "      <th>MP</th>\n",
       "      <th>PTS</th>\n",
       "      <th>TRB</th>\n",
       "      <th>...</th>\n",
       "      <th>FT%</th>\n",
       "      <th>MP.1</th>\n",
       "      <th>PPG</th>\n",
       "      <th>RPG</th>\n",
       "      <th>APG</th>\n",
       "      <th>WS</th>\n",
       "      <th>WS/48</th>\n",
       "      <th>BPM</th>\n",
       "      <th>VORP</th>\n",
       "      <th>Cumulative</th>\n",
       "    </tr>\n",
       "  </thead>\n",
       "  <tbody>\n",
       "    <tr>\n",
       "      <th>0</th>\n",
       "      <td>1.0</td>\n",
       "      <td>1.0</td>\n",
       "      <td>NOP</td>\n",
       "      <td>Pick No.1.0-Zion Williamson</td>\n",
       "      <td>Duke</td>\n",
       "      <td>2.0</td>\n",
       "      <td>85.0</td>\n",
       "      <td>2694.0</td>\n",
       "      <td>2187.0</td>\n",
       "      <td>591.0</td>\n",
       "      <td>...</td>\n",
       "      <td>0.683</td>\n",
       "      <td>31.7</td>\n",
       "      <td>25.7</td>\n",
       "      <td>7.0</td>\n",
       "      <td>3.2</td>\n",
       "      <td>10.6</td>\n",
       "      <td>0.189</td>\n",
       "      <td>4.6</td>\n",
       "      <td>4.5</td>\n",
       "      <td>35.9</td>\n",
       "    </tr>\n",
       "    <tr>\n",
       "      <th>1</th>\n",
       "      <td>2.0</td>\n",
       "      <td>2.0</td>\n",
       "      <td>MEM</td>\n",
       "      <td>Pick No.2.0-Ja Morant</td>\n",
       "      <td>Murray State</td>\n",
       "      <td>3.0</td>\n",
       "      <td>149.0</td>\n",
       "      <td>4746.0</td>\n",
       "      <td>2855.0</td>\n",
       "      <td>617.0</td>\n",
       "      <td>...</td>\n",
       "      <td>0.754</td>\n",
       "      <td>31.9</td>\n",
       "      <td>19.2</td>\n",
       "      <td>4.1</td>\n",
       "      <td>7.3</td>\n",
       "      <td>8.8</td>\n",
       "      <td>0.089</td>\n",
       "      <td>0.2</td>\n",
       "      <td>2.7</td>\n",
       "      <td>30.6</td>\n",
       "    </tr>\n",
       "    <tr>\n",
       "      <th>2</th>\n",
       "      <td>3.0</td>\n",
       "      <td>3.0</td>\n",
       "      <td>NYK</td>\n",
       "      <td>Pick No.3.0-RJ Barrett</td>\n",
       "      <td>Duke</td>\n",
       "      <td>3.0</td>\n",
       "      <td>149.0</td>\n",
       "      <td>4871.0</td>\n",
       "      <td>2362.0</td>\n",
       "      <td>817.0</td>\n",
       "      <td>...</td>\n",
       "      <td>0.684</td>\n",
       "      <td>32.7</td>\n",
       "      <td>15.9</td>\n",
       "      <td>5.5</td>\n",
       "      <td>2.7</td>\n",
       "      <td>3.8</td>\n",
       "      <td>0.038</td>\n",
       "      <td>-2.9</td>\n",
       "      <td>-1.1</td>\n",
       "      <td>24.1</td>\n",
       "    </tr>\n",
       "    <tr>\n",
       "      <th>12</th>\n",
       "      <td>13.0</td>\n",
       "      <td>13.0</td>\n",
       "      <td>MIA</td>\n",
       "      <td>Pick No.13.0-Tyler Herro</td>\n",
       "      <td>Kentucky</td>\n",
       "      <td>3.0</td>\n",
       "      <td>128.0</td>\n",
       "      <td>3784.0</td>\n",
       "      <td>1971.0</td>\n",
       "      <td>596.0</td>\n",
       "      <td>...</td>\n",
       "      <td>0.842</td>\n",
       "      <td>29.6</td>\n",
       "      <td>15.4</td>\n",
       "      <td>4.7</td>\n",
       "      <td>3.0</td>\n",
       "      <td>4.3</td>\n",
       "      <td>0.055</td>\n",
       "      <td>-1.1</td>\n",
       "      <td>0.8</td>\n",
       "      <td>23.1</td>\n",
       "    </tr>\n",
       "    <tr>\n",
       "      <th>4</th>\n",
       "      <td>5.0</td>\n",
       "      <td>5.0</td>\n",
       "      <td>CLE</td>\n",
       "      <td>Pick No.5.0-Darius Garland</td>\n",
       "      <td>Vanderbilt</td>\n",
       "      <td>3.0</td>\n",
       "      <td>133.0</td>\n",
       "      <td>4307.0</td>\n",
       "      <td>2039.0</td>\n",
       "      <td>292.0</td>\n",
       "      <td>...</td>\n",
       "      <td>0.856</td>\n",
       "      <td>32.4</td>\n",
       "      <td>15.3</td>\n",
       "      <td>2.2</td>\n",
       "      <td>5.3</td>\n",
       "      <td>1.2</td>\n",
       "      <td>0.014</td>\n",
       "      <td>-3.0</td>\n",
       "      <td>-1.1</td>\n",
       "      <td>22.8</td>\n",
       "    </tr>\n",
       "  </tbody>\n",
       "</table>\n",
       "<p>5 rows × 23 columns</p>\n",
       "</div>"
      ],
      "text/plain": [
       "      Rk    Pk   Tm                       Player       College  Yrs      G  \\\n",
       "0    1.0   1.0  NOP  Pick No.1.0-Zion Williamson          Duke  2.0   85.0   \n",
       "1    2.0   2.0  MEM        Pick No.2.0-Ja Morant  Murray State  3.0  149.0   \n",
       "2    3.0   3.0  NYK       Pick No.3.0-RJ Barrett          Duke  3.0  149.0   \n",
       "12  13.0  13.0  MIA     Pick No.13.0-Tyler Herro      Kentucky  3.0  128.0   \n",
       "4    5.0   5.0  CLE   Pick No.5.0-Darius Garland    Vanderbilt  3.0  133.0   \n",
       "\n",
       "        MP     PTS    TRB  ...    FT%  MP.1   PPG  RPG  APG    WS  WS/48  BPM  \\\n",
       "0   2694.0  2187.0  591.0  ...  0.683  31.7  25.7  7.0  3.2  10.6  0.189  4.6   \n",
       "1   4746.0  2855.0  617.0  ...  0.754  31.9  19.2  4.1  7.3   8.8  0.089  0.2   \n",
       "2   4871.0  2362.0  817.0  ...  0.684  32.7  15.9  5.5  2.7   3.8  0.038 -2.9   \n",
       "12  3784.0  1971.0  596.0  ...  0.842  29.6  15.4  4.7  3.0   4.3  0.055 -1.1   \n",
       "4   4307.0  2039.0  292.0  ...  0.856  32.4  15.3  2.2  5.3   1.2  0.014 -3.0   \n",
       "\n",
       "    VORP  Cumulative  \n",
       "0    4.5        35.9  \n",
       "1    2.7        30.6  \n",
       "2   -1.1        24.1  \n",
       "12   0.8        23.1  \n",
       "4   -1.1        22.8  \n",
       "\n",
       "[5 rows x 23 columns]"
      ]
     },
     "execution_count": 127,
     "metadata": {},
     "output_type": "execute_result"
    }
   ],
   "source": [
    "draft = draft.sort_values(\"Cumulative\", ascending=False)\n",
    "draft.head()"
   ]
  },
  {
   "cell_type": "code",
   "execution_count": 130,
   "id": "935ff644",
   "metadata": {},
   "outputs": [
    {
     "data": {
      "application/vnd.plotly.v1+json": {
       "config": {
        "plotlyServerURL": "https://plot.ly"
       },
       "data": [
        {
         "alignmentgroup": "True",
         "customdata": [
          [
           "NOP",
           "1.0"
          ],
          [
           "MEM",
           "2.0"
          ],
          [
           "NYK",
           "3.0"
          ],
          [
           "MIA",
           "13.0"
          ],
          [
           "CLE",
           "5.0"
          ],
          [
           "CHI",
           "7.0"
          ],
          [
           "WAS",
           "9.0"
          ],
          [
           "CHO",
           "12.0"
          ],
          [
           "MIL",
           "30.0"
          ],
          [
           "SAS",
           "29.0"
          ]
         ],
         "hovertemplate": "variable=PPG<br>Player=%{x}<br>value=%{y}<br>Tm=%{customdata[0]}<br>Pk=%{customdata[1]}<extra></extra>",
         "legendgroup": "PPG",
         "marker": {
          "color": "rgb(127, 60, 141)",
          "pattern": {
           "shape": ""
          }
         },
         "name": "PPG",
         "offsetgroup": "PPG",
         "orientation": "v",
         "showlegend": true,
         "textposition": "auto",
         "type": "bar",
         "x": [
          "Pick No.1.0-Zion Williamson",
          "Pick No.2.0-Ja Morant",
          "Pick No.3.0-RJ Barrett",
          "Pick No.13.0-Tyler Herro",
          "Pick No.5.0-Darius Garland",
          "Pick No.7.0-Coby White",
          "Pick No.9.0-Rui Hachimura",
          "Pick No.12.0-P.J. Washington",
          "Pick No.30.0-Kevin Porter Jr.",
          "Pick No.29.0-Keldon Johnson"
         ],
         "xaxis": "x",
         "y": [
          25.7,
          19.2,
          15.9,
          15.4,
          15.3,
          13.7,
          13.7,
          12.4,
          12.4,
          12.6
         ],
         "yaxis": "y"
        },
        {
         "alignmentgroup": "True",
         "customdata": [
          [
           "NOP",
           "1.0"
          ],
          [
           "MEM",
           "2.0"
          ],
          [
           "NYK",
           "3.0"
          ],
          [
           "MIA",
           "13.0"
          ],
          [
           "CLE",
           "5.0"
          ],
          [
           "CHI",
           "7.0"
          ],
          [
           "WAS",
           "9.0"
          ],
          [
           "CHO",
           "12.0"
          ],
          [
           "MIL",
           "30.0"
          ],
          [
           "SAS",
           "29.0"
          ]
         ],
         "hovertemplate": "variable=APG<br>Player=%{x}<br>value=%{y}<br>Tm=%{customdata[0]}<br>Pk=%{customdata[1]}<extra></extra>",
         "legendgroup": "APG",
         "marker": {
          "color": "rgb(17, 165, 121)",
          "pattern": {
           "shape": ""
          }
         },
         "name": "APG",
         "offsetgroup": "APG",
         "orientation": "v",
         "showlegend": true,
         "textposition": "auto",
         "type": "bar",
         "x": [
          "Pick No.1.0-Zion Williamson",
          "Pick No.2.0-Ja Morant",
          "Pick No.3.0-RJ Barrett",
          "Pick No.13.0-Tyler Herro",
          "Pick No.5.0-Darius Garland",
          "Pick No.7.0-Coby White",
          "Pick No.9.0-Rui Hachimura",
          "Pick No.12.0-P.J. Washington",
          "Pick No.30.0-Kevin Porter Jr.",
          "Pick No.29.0-Keldon Johnson"
         ],
         "xaxis": "x",
         "y": [
          3.2,
          7.3,
          2.7,
          3,
          5.3,
          3.6,
          1.6,
          2.3,
          4,
          1.7
         ],
         "yaxis": "y"
        },
        {
         "alignmentgroup": "True",
         "customdata": [
          [
           "NOP",
           "1.0"
          ],
          [
           "MEM",
           "2.0"
          ],
          [
           "NYK",
           "3.0"
          ],
          [
           "MIA",
           "13.0"
          ],
          [
           "CLE",
           "5.0"
          ],
          [
           "CHI",
           "7.0"
          ],
          [
           "WAS",
           "9.0"
          ],
          [
           "CHO",
           "12.0"
          ],
          [
           "MIL",
           "30.0"
          ],
          [
           "SAS",
           "29.0"
          ]
         ],
         "hovertemplate": "variable=RPG<br>Player=%{x}<br>value=%{y}<br>Tm=%{customdata[0]}<br>Pk=%{customdata[1]}<extra></extra>",
         "legendgroup": "RPG",
         "marker": {
          "color": "rgb(57, 105, 172)",
          "pattern": {
           "shape": ""
          }
         },
         "name": "RPG",
         "offsetgroup": "RPG",
         "orientation": "v",
         "showlegend": true,
         "textposition": "auto",
         "type": "bar",
         "x": [
          "Pick No.1.0-Zion Williamson",
          "Pick No.2.0-Ja Morant",
          "Pick No.3.0-RJ Barrett",
          "Pick No.13.0-Tyler Herro",
          "Pick No.5.0-Darius Garland",
          "Pick No.7.0-Coby White",
          "Pick No.9.0-Rui Hachimura",
          "Pick No.12.0-P.J. Washington",
          "Pick No.30.0-Kevin Porter Jr.",
          "Pick No.29.0-Keldon Johnson"
         ],
         "xaxis": "x",
         "y": [
          7,
          4.1,
          5.5,
          4.7,
          2.2,
          3.8,
          5.8,
          5.9,
          3.7,
          5.6
         ],
         "yaxis": "y"
        }
       ],
       "layout": {
        "barmode": "relative",
        "legend": {
         "title": {
          "text": "variable"
         },
         "tracegroupgap": 0
        },
        "template": {
         "data": {
          "bar": [
           {
            "error_x": {
             "color": "#2a3f5f"
            },
            "error_y": {
             "color": "#2a3f5f"
            },
            "marker": {
             "line": {
              "color": "#E5ECF6",
              "width": 0.5
             },
             "pattern": {
              "fillmode": "overlay",
              "size": 10,
              "solidity": 0.2
             }
            },
            "type": "bar"
           }
          ],
          "barpolar": [
           {
            "marker": {
             "line": {
              "color": "#E5ECF6",
              "width": 0.5
             },
             "pattern": {
              "fillmode": "overlay",
              "size": 10,
              "solidity": 0.2
             }
            },
            "type": "barpolar"
           }
          ],
          "carpet": [
           {
            "aaxis": {
             "endlinecolor": "#2a3f5f",
             "gridcolor": "white",
             "linecolor": "white",
             "minorgridcolor": "white",
             "startlinecolor": "#2a3f5f"
            },
            "baxis": {
             "endlinecolor": "#2a3f5f",
             "gridcolor": "white",
             "linecolor": "white",
             "minorgridcolor": "white",
             "startlinecolor": "#2a3f5f"
            },
            "type": "carpet"
           }
          ],
          "choropleth": [
           {
            "colorbar": {
             "outlinewidth": 0,
             "ticks": ""
            },
            "type": "choropleth"
           }
          ],
          "contour": [
           {
            "colorbar": {
             "outlinewidth": 0,
             "ticks": ""
            },
            "colorscale": [
             [
              0,
              "#0d0887"
             ],
             [
              0.1111111111111111,
              "#46039f"
             ],
             [
              0.2222222222222222,
              "#7201a8"
             ],
             [
              0.3333333333333333,
              "#9c179e"
             ],
             [
              0.4444444444444444,
              "#bd3786"
             ],
             [
              0.5555555555555556,
              "#d8576b"
             ],
             [
              0.6666666666666666,
              "#ed7953"
             ],
             [
              0.7777777777777778,
              "#fb9f3a"
             ],
             [
              0.8888888888888888,
              "#fdca26"
             ],
             [
              1,
              "#f0f921"
             ]
            ],
            "type": "contour"
           }
          ],
          "contourcarpet": [
           {
            "colorbar": {
             "outlinewidth": 0,
             "ticks": ""
            },
            "type": "contourcarpet"
           }
          ],
          "heatmap": [
           {
            "colorbar": {
             "outlinewidth": 0,
             "ticks": ""
            },
            "colorscale": [
             [
              0,
              "#0d0887"
             ],
             [
              0.1111111111111111,
              "#46039f"
             ],
             [
              0.2222222222222222,
              "#7201a8"
             ],
             [
              0.3333333333333333,
              "#9c179e"
             ],
             [
              0.4444444444444444,
              "#bd3786"
             ],
             [
              0.5555555555555556,
              "#d8576b"
             ],
             [
              0.6666666666666666,
              "#ed7953"
             ],
             [
              0.7777777777777778,
              "#fb9f3a"
             ],
             [
              0.8888888888888888,
              "#fdca26"
             ],
             [
              1,
              "#f0f921"
             ]
            ],
            "type": "heatmap"
           }
          ],
          "heatmapgl": [
           {
            "colorbar": {
             "outlinewidth": 0,
             "ticks": ""
            },
            "colorscale": [
             [
              0,
              "#0d0887"
             ],
             [
              0.1111111111111111,
              "#46039f"
             ],
             [
              0.2222222222222222,
              "#7201a8"
             ],
             [
              0.3333333333333333,
              "#9c179e"
             ],
             [
              0.4444444444444444,
              "#bd3786"
             ],
             [
              0.5555555555555556,
              "#d8576b"
             ],
             [
              0.6666666666666666,
              "#ed7953"
             ],
             [
              0.7777777777777778,
              "#fb9f3a"
             ],
             [
              0.8888888888888888,
              "#fdca26"
             ],
             [
              1,
              "#f0f921"
             ]
            ],
            "type": "heatmapgl"
           }
          ],
          "histogram": [
           {
            "marker": {
             "pattern": {
              "fillmode": "overlay",
              "size": 10,
              "solidity": 0.2
             }
            },
            "type": "histogram"
           }
          ],
          "histogram2d": [
           {
            "colorbar": {
             "outlinewidth": 0,
             "ticks": ""
            },
            "colorscale": [
             [
              0,
              "#0d0887"
             ],
             [
              0.1111111111111111,
              "#46039f"
             ],
             [
              0.2222222222222222,
              "#7201a8"
             ],
             [
              0.3333333333333333,
              "#9c179e"
             ],
             [
              0.4444444444444444,
              "#bd3786"
             ],
             [
              0.5555555555555556,
              "#d8576b"
             ],
             [
              0.6666666666666666,
              "#ed7953"
             ],
             [
              0.7777777777777778,
              "#fb9f3a"
             ],
             [
              0.8888888888888888,
              "#fdca26"
             ],
             [
              1,
              "#f0f921"
             ]
            ],
            "type": "histogram2d"
           }
          ],
          "histogram2dcontour": [
           {
            "colorbar": {
             "outlinewidth": 0,
             "ticks": ""
            },
            "colorscale": [
             [
              0,
              "#0d0887"
             ],
             [
              0.1111111111111111,
              "#46039f"
             ],
             [
              0.2222222222222222,
              "#7201a8"
             ],
             [
              0.3333333333333333,
              "#9c179e"
             ],
             [
              0.4444444444444444,
              "#bd3786"
             ],
             [
              0.5555555555555556,
              "#d8576b"
             ],
             [
              0.6666666666666666,
              "#ed7953"
             ],
             [
              0.7777777777777778,
              "#fb9f3a"
             ],
             [
              0.8888888888888888,
              "#fdca26"
             ],
             [
              1,
              "#f0f921"
             ]
            ],
            "type": "histogram2dcontour"
           }
          ],
          "mesh3d": [
           {
            "colorbar": {
             "outlinewidth": 0,
             "ticks": ""
            },
            "type": "mesh3d"
           }
          ],
          "parcoords": [
           {
            "line": {
             "colorbar": {
              "outlinewidth": 0,
              "ticks": ""
             }
            },
            "type": "parcoords"
           }
          ],
          "pie": [
           {
            "automargin": true,
            "type": "pie"
           }
          ],
          "scatter": [
           {
            "marker": {
             "colorbar": {
              "outlinewidth": 0,
              "ticks": ""
             }
            },
            "type": "scatter"
           }
          ],
          "scatter3d": [
           {
            "line": {
             "colorbar": {
              "outlinewidth": 0,
              "ticks": ""
             }
            },
            "marker": {
             "colorbar": {
              "outlinewidth": 0,
              "ticks": ""
             }
            },
            "type": "scatter3d"
           }
          ],
          "scattercarpet": [
           {
            "marker": {
             "colorbar": {
              "outlinewidth": 0,
              "ticks": ""
             }
            },
            "type": "scattercarpet"
           }
          ],
          "scattergeo": [
           {
            "marker": {
             "colorbar": {
              "outlinewidth": 0,
              "ticks": ""
             }
            },
            "type": "scattergeo"
           }
          ],
          "scattergl": [
           {
            "marker": {
             "colorbar": {
              "outlinewidth": 0,
              "ticks": ""
             }
            },
            "type": "scattergl"
           }
          ],
          "scattermapbox": [
           {
            "marker": {
             "colorbar": {
              "outlinewidth": 0,
              "ticks": ""
             }
            },
            "type": "scattermapbox"
           }
          ],
          "scatterpolar": [
           {
            "marker": {
             "colorbar": {
              "outlinewidth": 0,
              "ticks": ""
             }
            },
            "type": "scatterpolar"
           }
          ],
          "scatterpolargl": [
           {
            "marker": {
             "colorbar": {
              "outlinewidth": 0,
              "ticks": ""
             }
            },
            "type": "scatterpolargl"
           }
          ],
          "scatterternary": [
           {
            "marker": {
             "colorbar": {
              "outlinewidth": 0,
              "ticks": ""
             }
            },
            "type": "scatterternary"
           }
          ],
          "surface": [
           {
            "colorbar": {
             "outlinewidth": 0,
             "ticks": ""
            },
            "colorscale": [
             [
              0,
              "#0d0887"
             ],
             [
              0.1111111111111111,
              "#46039f"
             ],
             [
              0.2222222222222222,
              "#7201a8"
             ],
             [
              0.3333333333333333,
              "#9c179e"
             ],
             [
              0.4444444444444444,
              "#bd3786"
             ],
             [
              0.5555555555555556,
              "#d8576b"
             ],
             [
              0.6666666666666666,
              "#ed7953"
             ],
             [
              0.7777777777777778,
              "#fb9f3a"
             ],
             [
              0.8888888888888888,
              "#fdca26"
             ],
             [
              1,
              "#f0f921"
             ]
            ],
            "type": "surface"
           }
          ],
          "table": [
           {
            "cells": {
             "fill": {
              "color": "#EBF0F8"
             },
             "line": {
              "color": "white"
             }
            },
            "header": {
             "fill": {
              "color": "#C8D4E3"
             },
             "line": {
              "color": "white"
             }
            },
            "type": "table"
           }
          ]
         },
         "layout": {
          "annotationdefaults": {
           "arrowcolor": "#2a3f5f",
           "arrowhead": 0,
           "arrowwidth": 1
          },
          "autotypenumbers": "strict",
          "coloraxis": {
           "colorbar": {
            "outlinewidth": 0,
            "ticks": ""
           }
          },
          "colorscale": {
           "diverging": [
            [
             0,
             "#8e0152"
            ],
            [
             0.1,
             "#c51b7d"
            ],
            [
             0.2,
             "#de77ae"
            ],
            [
             0.3,
             "#f1b6da"
            ],
            [
             0.4,
             "#fde0ef"
            ],
            [
             0.5,
             "#f7f7f7"
            ],
            [
             0.6,
             "#e6f5d0"
            ],
            [
             0.7,
             "#b8e186"
            ],
            [
             0.8,
             "#7fbc41"
            ],
            [
             0.9,
             "#4d9221"
            ],
            [
             1,
             "#276419"
            ]
           ],
           "sequential": [
            [
             0,
             "#0d0887"
            ],
            [
             0.1111111111111111,
             "#46039f"
            ],
            [
             0.2222222222222222,
             "#7201a8"
            ],
            [
             0.3333333333333333,
             "#9c179e"
            ],
            [
             0.4444444444444444,
             "#bd3786"
            ],
            [
             0.5555555555555556,
             "#d8576b"
            ],
            [
             0.6666666666666666,
             "#ed7953"
            ],
            [
             0.7777777777777778,
             "#fb9f3a"
            ],
            [
             0.8888888888888888,
             "#fdca26"
            ],
            [
             1,
             "#f0f921"
            ]
           ],
           "sequentialminus": [
            [
             0,
             "#0d0887"
            ],
            [
             0.1111111111111111,
             "#46039f"
            ],
            [
             0.2222222222222222,
             "#7201a8"
            ],
            [
             0.3333333333333333,
             "#9c179e"
            ],
            [
             0.4444444444444444,
             "#bd3786"
            ],
            [
             0.5555555555555556,
             "#d8576b"
            ],
            [
             0.6666666666666666,
             "#ed7953"
            ],
            [
             0.7777777777777778,
             "#fb9f3a"
            ],
            [
             0.8888888888888888,
             "#fdca26"
            ],
            [
             1,
             "#f0f921"
            ]
           ]
          },
          "colorway": [
           "#636efa",
           "#EF553B",
           "#00cc96",
           "#ab63fa",
           "#FFA15A",
           "#19d3f3",
           "#FF6692",
           "#B6E880",
           "#FF97FF",
           "#FECB52"
          ],
          "font": {
           "color": "#2a3f5f"
          },
          "geo": {
           "bgcolor": "white",
           "lakecolor": "white",
           "landcolor": "#E5ECF6",
           "showlakes": true,
           "showland": true,
           "subunitcolor": "white"
          },
          "hoverlabel": {
           "align": "left"
          },
          "hovermode": "closest",
          "mapbox": {
           "style": "light"
          },
          "paper_bgcolor": "white",
          "plot_bgcolor": "#E5ECF6",
          "polar": {
           "angularaxis": {
            "gridcolor": "white",
            "linecolor": "white",
            "ticks": ""
           },
           "bgcolor": "#E5ECF6",
           "radialaxis": {
            "gridcolor": "white",
            "linecolor": "white",
            "ticks": ""
           }
          },
          "scene": {
           "xaxis": {
            "backgroundcolor": "#E5ECF6",
            "gridcolor": "white",
            "gridwidth": 2,
            "linecolor": "white",
            "showbackground": true,
            "ticks": "",
            "zerolinecolor": "white"
           },
           "yaxis": {
            "backgroundcolor": "#E5ECF6",
            "gridcolor": "white",
            "gridwidth": 2,
            "linecolor": "white",
            "showbackground": true,
            "ticks": "",
            "zerolinecolor": "white"
           },
           "zaxis": {
            "backgroundcolor": "#E5ECF6",
            "gridcolor": "white",
            "gridwidth": 2,
            "linecolor": "white",
            "showbackground": true,
            "ticks": "",
            "zerolinecolor": "white"
           }
          },
          "shapedefaults": {
           "line": {
            "color": "#2a3f5f"
           }
          },
          "ternary": {
           "aaxis": {
            "gridcolor": "white",
            "linecolor": "white",
            "ticks": ""
           },
           "baxis": {
            "gridcolor": "white",
            "linecolor": "white",
            "ticks": ""
           },
           "bgcolor": "#E5ECF6",
           "caxis": {
            "gridcolor": "white",
            "linecolor": "white",
            "ticks": ""
           }
          },
          "title": {
           "x": 0.05
          },
          "xaxis": {
           "automargin": true,
           "gridcolor": "white",
           "linecolor": "white",
           "ticks": "",
           "title": {
            "standoff": 15
           },
           "zerolinecolor": "white",
           "zerolinewidth": 2
          },
          "yaxis": {
           "automargin": true,
           "gridcolor": "white",
           "linecolor": "white",
           "ticks": "",
           "title": {
            "standoff": 15
           },
           "zerolinecolor": "white",
           "zerolinewidth": 2
          }
         }
        },
        "title": {
         "text": " Top 10 performing players"
        },
        "xaxis": {
         "anchor": "y",
         "domain": [
          0,
          1
         ],
         "title": {
          "text": "Player"
         }
        },
        "yaxis": {
         "anchor": "x",
         "domain": [
          0,
          1
         ],
         "range": [
          0,
          40
         ],
         "title": {
          "text": "value"
         }
        }
       }
      },
      "text/html": [
       "<div>                            <div id=\"8f8be06d-f5e6-4616-9f3b-614c492863dd\" class=\"plotly-graph-div\" style=\"height:525px; width:100%;\"></div>            <script type=\"text/javascript\">                require([\"plotly\"], function(Plotly) {                    window.PLOTLYENV=window.PLOTLYENV || {};                                    if (document.getElementById(\"8f8be06d-f5e6-4616-9f3b-614c492863dd\")) {                    Plotly.newPlot(                        \"8f8be06d-f5e6-4616-9f3b-614c492863dd\",                        [{\"alignmentgroup\":\"True\",\"customdata\":[[\"NOP\",\"1.0\"],[\"MEM\",\"2.0\"],[\"NYK\",\"3.0\"],[\"MIA\",\"13.0\"],[\"CLE\",\"5.0\"],[\"CHI\",\"7.0\"],[\"WAS\",\"9.0\"],[\"CHO\",\"12.0\"],[\"MIL\",\"30.0\"],[\"SAS\",\"29.0\"]],\"hovertemplate\":\"variable=PPG<br>Player=%{x}<br>value=%{y}<br>Tm=%{customdata[0]}<br>Pk=%{customdata[1]}<extra></extra>\",\"legendgroup\":\"PPG\",\"marker\":{\"color\":\"rgb(127, 60, 141)\",\"pattern\":{\"shape\":\"\"}},\"name\":\"PPG\",\"offsetgroup\":\"PPG\",\"orientation\":\"v\",\"showlegend\":true,\"textposition\":\"auto\",\"type\":\"bar\",\"x\":[\"Pick No.1.0-Zion Williamson\",\"Pick No.2.0-Ja Morant\",\"Pick No.3.0-RJ Barrett\",\"Pick No.13.0-Tyler Herro\",\"Pick No.5.0-Darius Garland\",\"Pick No.7.0-Coby White\",\"Pick No.9.0-Rui Hachimura\",\"Pick No.12.0-P.J. Washington\",\"Pick No.30.0-Kevin Porter Jr.\",\"Pick No.29.0-Keldon Johnson\"],\"xaxis\":\"x\",\"y\":[25.7,19.2,15.9,15.4,15.3,13.7,13.7,12.4,12.4,12.6],\"yaxis\":\"y\"},{\"alignmentgroup\":\"True\",\"customdata\":[[\"NOP\",\"1.0\"],[\"MEM\",\"2.0\"],[\"NYK\",\"3.0\"],[\"MIA\",\"13.0\"],[\"CLE\",\"5.0\"],[\"CHI\",\"7.0\"],[\"WAS\",\"9.0\"],[\"CHO\",\"12.0\"],[\"MIL\",\"30.0\"],[\"SAS\",\"29.0\"]],\"hovertemplate\":\"variable=APG<br>Player=%{x}<br>value=%{y}<br>Tm=%{customdata[0]}<br>Pk=%{customdata[1]}<extra></extra>\",\"legendgroup\":\"APG\",\"marker\":{\"color\":\"rgb(17, 165, 121)\",\"pattern\":{\"shape\":\"\"}},\"name\":\"APG\",\"offsetgroup\":\"APG\",\"orientation\":\"v\",\"showlegend\":true,\"textposition\":\"auto\",\"type\":\"bar\",\"x\":[\"Pick No.1.0-Zion Williamson\",\"Pick No.2.0-Ja Morant\",\"Pick No.3.0-RJ Barrett\",\"Pick No.13.0-Tyler Herro\",\"Pick No.5.0-Darius Garland\",\"Pick No.7.0-Coby White\",\"Pick No.9.0-Rui Hachimura\",\"Pick No.12.0-P.J. Washington\",\"Pick No.30.0-Kevin Porter Jr.\",\"Pick No.29.0-Keldon Johnson\"],\"xaxis\":\"x\",\"y\":[3.2,7.3,2.7,3.0,5.3,3.6,1.6,2.3,4.0,1.7],\"yaxis\":\"y\"},{\"alignmentgroup\":\"True\",\"customdata\":[[\"NOP\",\"1.0\"],[\"MEM\",\"2.0\"],[\"NYK\",\"3.0\"],[\"MIA\",\"13.0\"],[\"CLE\",\"5.0\"],[\"CHI\",\"7.0\"],[\"WAS\",\"9.0\"],[\"CHO\",\"12.0\"],[\"MIL\",\"30.0\"],[\"SAS\",\"29.0\"]],\"hovertemplate\":\"variable=RPG<br>Player=%{x}<br>value=%{y}<br>Tm=%{customdata[0]}<br>Pk=%{customdata[1]}<extra></extra>\",\"legendgroup\":\"RPG\",\"marker\":{\"color\":\"rgb(57, 105, 172)\",\"pattern\":{\"shape\":\"\"}},\"name\":\"RPG\",\"offsetgroup\":\"RPG\",\"orientation\":\"v\",\"showlegend\":true,\"textposition\":\"auto\",\"type\":\"bar\",\"x\":[\"Pick No.1.0-Zion Williamson\",\"Pick No.2.0-Ja Morant\",\"Pick No.3.0-RJ Barrett\",\"Pick No.13.0-Tyler Herro\",\"Pick No.5.0-Darius Garland\",\"Pick No.7.0-Coby White\",\"Pick No.9.0-Rui Hachimura\",\"Pick No.12.0-P.J. Washington\",\"Pick No.30.0-Kevin Porter Jr.\",\"Pick No.29.0-Keldon Johnson\"],\"xaxis\":\"x\",\"y\":[7.0,4.1,5.5,4.7,2.2,3.8,5.8,5.9,3.7,5.6],\"yaxis\":\"y\"}],                        {\"barmode\":\"relative\",\"legend\":{\"title\":{\"text\":\"variable\"},\"tracegroupgap\":0},\"template\":{\"data\":{\"bar\":[{\"error_x\":{\"color\":\"#2a3f5f\"},\"error_y\":{\"color\":\"#2a3f5f\"},\"marker\":{\"line\":{\"color\":\"#E5ECF6\",\"width\":0.5},\"pattern\":{\"fillmode\":\"overlay\",\"size\":10,\"solidity\":0.2}},\"type\":\"bar\"}],\"barpolar\":[{\"marker\":{\"line\":{\"color\":\"#E5ECF6\",\"width\":0.5},\"pattern\":{\"fillmode\":\"overlay\",\"size\":10,\"solidity\":0.2}},\"type\":\"barpolar\"}],\"carpet\":[{\"aaxis\":{\"endlinecolor\":\"#2a3f5f\",\"gridcolor\":\"white\",\"linecolor\":\"white\",\"minorgridcolor\":\"white\",\"startlinecolor\":\"#2a3f5f\"},\"baxis\":{\"endlinecolor\":\"#2a3f5f\",\"gridcolor\":\"white\",\"linecolor\":\"white\",\"minorgridcolor\":\"white\",\"startlinecolor\":\"#2a3f5f\"},\"type\":\"carpet\"}],\"choropleth\":[{\"colorbar\":{\"outlinewidth\":0,\"ticks\":\"\"},\"type\":\"choropleth\"}],\"contour\":[{\"colorbar\":{\"outlinewidth\":0,\"ticks\":\"\"},\"colorscale\":[[0.0,\"#0d0887\"],[0.1111111111111111,\"#46039f\"],[0.2222222222222222,\"#7201a8\"],[0.3333333333333333,\"#9c179e\"],[0.4444444444444444,\"#bd3786\"],[0.5555555555555556,\"#d8576b\"],[0.6666666666666666,\"#ed7953\"],[0.7777777777777778,\"#fb9f3a\"],[0.8888888888888888,\"#fdca26\"],[1.0,\"#f0f921\"]],\"type\":\"contour\"}],\"contourcarpet\":[{\"colorbar\":{\"outlinewidth\":0,\"ticks\":\"\"},\"type\":\"contourcarpet\"}],\"heatmap\":[{\"colorbar\":{\"outlinewidth\":0,\"ticks\":\"\"},\"colorscale\":[[0.0,\"#0d0887\"],[0.1111111111111111,\"#46039f\"],[0.2222222222222222,\"#7201a8\"],[0.3333333333333333,\"#9c179e\"],[0.4444444444444444,\"#bd3786\"],[0.5555555555555556,\"#d8576b\"],[0.6666666666666666,\"#ed7953\"],[0.7777777777777778,\"#fb9f3a\"],[0.8888888888888888,\"#fdca26\"],[1.0,\"#f0f921\"]],\"type\":\"heatmap\"}],\"heatmapgl\":[{\"colorbar\":{\"outlinewidth\":0,\"ticks\":\"\"},\"colorscale\":[[0.0,\"#0d0887\"],[0.1111111111111111,\"#46039f\"],[0.2222222222222222,\"#7201a8\"],[0.3333333333333333,\"#9c179e\"],[0.4444444444444444,\"#bd3786\"],[0.5555555555555556,\"#d8576b\"],[0.6666666666666666,\"#ed7953\"],[0.7777777777777778,\"#fb9f3a\"],[0.8888888888888888,\"#fdca26\"],[1.0,\"#f0f921\"]],\"type\":\"heatmapgl\"}],\"histogram\":[{\"marker\":{\"pattern\":{\"fillmode\":\"overlay\",\"size\":10,\"solidity\":0.2}},\"type\":\"histogram\"}],\"histogram2d\":[{\"colorbar\":{\"outlinewidth\":0,\"ticks\":\"\"},\"colorscale\":[[0.0,\"#0d0887\"],[0.1111111111111111,\"#46039f\"],[0.2222222222222222,\"#7201a8\"],[0.3333333333333333,\"#9c179e\"],[0.4444444444444444,\"#bd3786\"],[0.5555555555555556,\"#d8576b\"],[0.6666666666666666,\"#ed7953\"],[0.7777777777777778,\"#fb9f3a\"],[0.8888888888888888,\"#fdca26\"],[1.0,\"#f0f921\"]],\"type\":\"histogram2d\"}],\"histogram2dcontour\":[{\"colorbar\":{\"outlinewidth\":0,\"ticks\":\"\"},\"colorscale\":[[0.0,\"#0d0887\"],[0.1111111111111111,\"#46039f\"],[0.2222222222222222,\"#7201a8\"],[0.3333333333333333,\"#9c179e\"],[0.4444444444444444,\"#bd3786\"],[0.5555555555555556,\"#d8576b\"],[0.6666666666666666,\"#ed7953\"],[0.7777777777777778,\"#fb9f3a\"],[0.8888888888888888,\"#fdca26\"],[1.0,\"#f0f921\"]],\"type\":\"histogram2dcontour\"}],\"mesh3d\":[{\"colorbar\":{\"outlinewidth\":0,\"ticks\":\"\"},\"type\":\"mesh3d\"}],\"parcoords\":[{\"line\":{\"colorbar\":{\"outlinewidth\":0,\"ticks\":\"\"}},\"type\":\"parcoords\"}],\"pie\":[{\"automargin\":true,\"type\":\"pie\"}],\"scatter\":[{\"marker\":{\"colorbar\":{\"outlinewidth\":0,\"ticks\":\"\"}},\"type\":\"scatter\"}],\"scatter3d\":[{\"line\":{\"colorbar\":{\"outlinewidth\":0,\"ticks\":\"\"}},\"marker\":{\"colorbar\":{\"outlinewidth\":0,\"ticks\":\"\"}},\"type\":\"scatter3d\"}],\"scattercarpet\":[{\"marker\":{\"colorbar\":{\"outlinewidth\":0,\"ticks\":\"\"}},\"type\":\"scattercarpet\"}],\"scattergeo\":[{\"marker\":{\"colorbar\":{\"outlinewidth\":0,\"ticks\":\"\"}},\"type\":\"scattergeo\"}],\"scattergl\":[{\"marker\":{\"colorbar\":{\"outlinewidth\":0,\"ticks\":\"\"}},\"type\":\"scattergl\"}],\"scattermapbox\":[{\"marker\":{\"colorbar\":{\"outlinewidth\":0,\"ticks\":\"\"}},\"type\":\"scattermapbox\"}],\"scatterpolar\":[{\"marker\":{\"colorbar\":{\"outlinewidth\":0,\"ticks\":\"\"}},\"type\":\"scatterpolar\"}],\"scatterpolargl\":[{\"marker\":{\"colorbar\":{\"outlinewidth\":0,\"ticks\":\"\"}},\"type\":\"scatterpolargl\"}],\"scatterternary\":[{\"marker\":{\"colorbar\":{\"outlinewidth\":0,\"ticks\":\"\"}},\"type\":\"scatterternary\"}],\"surface\":[{\"colorbar\":{\"outlinewidth\":0,\"ticks\":\"\"},\"colorscale\":[[0.0,\"#0d0887\"],[0.1111111111111111,\"#46039f\"],[0.2222222222222222,\"#7201a8\"],[0.3333333333333333,\"#9c179e\"],[0.4444444444444444,\"#bd3786\"],[0.5555555555555556,\"#d8576b\"],[0.6666666666666666,\"#ed7953\"],[0.7777777777777778,\"#fb9f3a\"],[0.8888888888888888,\"#fdca26\"],[1.0,\"#f0f921\"]],\"type\":\"surface\"}],\"table\":[{\"cells\":{\"fill\":{\"color\":\"#EBF0F8\"},\"line\":{\"color\":\"white\"}},\"header\":{\"fill\":{\"color\":\"#C8D4E3\"},\"line\":{\"color\":\"white\"}},\"type\":\"table\"}]},\"layout\":{\"annotationdefaults\":{\"arrowcolor\":\"#2a3f5f\",\"arrowhead\":0,\"arrowwidth\":1},\"autotypenumbers\":\"strict\",\"coloraxis\":{\"colorbar\":{\"outlinewidth\":0,\"ticks\":\"\"}},\"colorscale\":{\"diverging\":[[0,\"#8e0152\"],[0.1,\"#c51b7d\"],[0.2,\"#de77ae\"],[0.3,\"#f1b6da\"],[0.4,\"#fde0ef\"],[0.5,\"#f7f7f7\"],[0.6,\"#e6f5d0\"],[0.7,\"#b8e186\"],[0.8,\"#7fbc41\"],[0.9,\"#4d9221\"],[1,\"#276419\"]],\"sequential\":[[0.0,\"#0d0887\"],[0.1111111111111111,\"#46039f\"],[0.2222222222222222,\"#7201a8\"],[0.3333333333333333,\"#9c179e\"],[0.4444444444444444,\"#bd3786\"],[0.5555555555555556,\"#d8576b\"],[0.6666666666666666,\"#ed7953\"],[0.7777777777777778,\"#fb9f3a\"],[0.8888888888888888,\"#fdca26\"],[1.0,\"#f0f921\"]],\"sequentialminus\":[[0.0,\"#0d0887\"],[0.1111111111111111,\"#46039f\"],[0.2222222222222222,\"#7201a8\"],[0.3333333333333333,\"#9c179e\"],[0.4444444444444444,\"#bd3786\"],[0.5555555555555556,\"#d8576b\"],[0.6666666666666666,\"#ed7953\"],[0.7777777777777778,\"#fb9f3a\"],[0.8888888888888888,\"#fdca26\"],[1.0,\"#f0f921\"]]},\"colorway\":[\"#636efa\",\"#EF553B\",\"#00cc96\",\"#ab63fa\",\"#FFA15A\",\"#19d3f3\",\"#FF6692\",\"#B6E880\",\"#FF97FF\",\"#FECB52\"],\"font\":{\"color\":\"#2a3f5f\"},\"geo\":{\"bgcolor\":\"white\",\"lakecolor\":\"white\",\"landcolor\":\"#E5ECF6\",\"showlakes\":true,\"showland\":true,\"subunitcolor\":\"white\"},\"hoverlabel\":{\"align\":\"left\"},\"hovermode\":\"closest\",\"mapbox\":{\"style\":\"light\"},\"paper_bgcolor\":\"white\",\"plot_bgcolor\":\"#E5ECF6\",\"polar\":{\"angularaxis\":{\"gridcolor\":\"white\",\"linecolor\":\"white\",\"ticks\":\"\"},\"bgcolor\":\"#E5ECF6\",\"radialaxis\":{\"gridcolor\":\"white\",\"linecolor\":\"white\",\"ticks\":\"\"}},\"scene\":{\"xaxis\":{\"backgroundcolor\":\"#E5ECF6\",\"gridcolor\":\"white\",\"gridwidth\":2,\"linecolor\":\"white\",\"showbackground\":true,\"ticks\":\"\",\"zerolinecolor\":\"white\"},\"yaxis\":{\"backgroundcolor\":\"#E5ECF6\",\"gridcolor\":\"white\",\"gridwidth\":2,\"linecolor\":\"white\",\"showbackground\":true,\"ticks\":\"\",\"zerolinecolor\":\"white\"},\"zaxis\":{\"backgroundcolor\":\"#E5ECF6\",\"gridcolor\":\"white\",\"gridwidth\":2,\"linecolor\":\"white\",\"showbackground\":true,\"ticks\":\"\",\"zerolinecolor\":\"white\"}},\"shapedefaults\":{\"line\":{\"color\":\"#2a3f5f\"}},\"ternary\":{\"aaxis\":{\"gridcolor\":\"white\",\"linecolor\":\"white\",\"ticks\":\"\"},\"baxis\":{\"gridcolor\":\"white\",\"linecolor\":\"white\",\"ticks\":\"\"},\"bgcolor\":\"#E5ECF6\",\"caxis\":{\"gridcolor\":\"white\",\"linecolor\":\"white\",\"ticks\":\"\"}},\"title\":{\"x\":0.05},\"xaxis\":{\"automargin\":true,\"gridcolor\":\"white\",\"linecolor\":\"white\",\"ticks\":\"\",\"title\":{\"standoff\":15},\"zerolinecolor\":\"white\",\"zerolinewidth\":2},\"yaxis\":{\"automargin\":true,\"gridcolor\":\"white\",\"linecolor\":\"white\",\"ticks\":\"\",\"title\":{\"standoff\":15},\"zerolinecolor\":\"white\",\"zerolinewidth\":2}}},\"title\":{\"text\":\" Top 10 performing players\"},\"xaxis\":{\"anchor\":\"y\",\"domain\":[0.0,1.0],\"title\":{\"text\":\"Player\"}},\"yaxis\":{\"anchor\":\"x\",\"domain\":[0.0,1.0],\"range\":[0,40],\"title\":{\"text\":\"value\"}}},                        {\"responsive\": true}                    ).then(function(){\n",
       "                            \n",
       "var gd = document.getElementById('8f8be06d-f5e6-4616-9f3b-614c492863dd');\n",
       "var x = new MutationObserver(function (mutations, observer) {{\n",
       "        var display = window.getComputedStyle(gd).display;\n",
       "        if (!display || display === 'none') {{\n",
       "            console.log([gd, 'removed!']);\n",
       "            Plotly.purge(gd);\n",
       "            observer.disconnect();\n",
       "        }}\n",
       "}});\n",
       "\n",
       "// Listen for the removal of the full notebook cells\n",
       "var notebookContainer = gd.closest('#notebook-container');\n",
       "if (notebookContainer) {{\n",
       "    x.observe(notebookContainer, {childList: true});\n",
       "}}\n",
       "\n",
       "// Listen for the clearing of the current output cell\n",
       "var outputEl = gd.closest('.output');\n",
       "if (outputEl) {{\n",
       "    x.observe(outputEl, {childList: true});\n",
       "}}\n",
       "\n",
       "                        })                };                });            </script>        </div>"
      ]
     },
     "metadata": {},
     "output_type": "display_data"
    }
   ],
   "source": [
    "fig = px.bar(draft[:10], x=\"Player\", y=[\"PPG\", \"APG\", \"RPG\"], title=\" Top 10 performing players\", hover_data=['Tm','Pk'], color_discrete_sequence=px.colors.qualitative.Bold)\n",
    "fig.update_layout(yaxis_range=[0,40])\n",
    "fig.show()"
   ]
  },
  {
   "cell_type": "code",
   "execution_count": null,
   "id": "d68eb292",
   "metadata": {},
   "outputs": [],
   "source": []
  }
 ],
 "metadata": {
  "kernelspec": {
   "display_name": "Python 3",
   "language": "python",
   "name": "python3"
  },
  "language_info": {
   "codemirror_mode": {
    "name": "ipython",
    "version": 3
   },
   "file_extension": ".py",
   "mimetype": "text/x-python",
   "name": "python",
   "nbconvert_exporter": "python",
   "pygments_lexer": "ipython3",
   "version": "3.8.8"
  }
 },
 "nbformat": 4,
 "nbformat_minor": 5
}
