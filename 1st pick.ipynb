{
 "cells": [
  {
   "cell_type": "code",
   "execution_count": 1,
   "id": "21eed05f",
   "metadata": {
    "scrolled": true
   },
   "outputs": [],
   "source": [
    "import pandas as pd\n",
    "import numpy as np\n",
    "import matplotlib.pyplot as plt\n",
    "import seaborn as sns\n",
    "%matplotlib inline"
   ]
  },
  {
   "cell_type": "code",
   "execution_count": 25,
   "id": "17aba983",
   "metadata": {
    "scrolled": true
   },
   "outputs": [
    {
     "data": {
      "text/html": [
       "<div>\n",
       "<style scoped>\n",
       "    .dataframe tbody tr th:only-of-type {\n",
       "        vertical-align: middle;\n",
       "    }\n",
       "\n",
       "    .dataframe tbody tr th {\n",
       "        vertical-align: top;\n",
       "    }\n",
       "\n",
       "    .dataframe thead th {\n",
       "        text-align: right;\n",
       "    }\n",
       "</style>\n",
       "<table border=\"1\" class=\"dataframe\">\n",
       "  <thead>\n",
       "    <tr style=\"text-align: right;\">\n",
       "      <th></th>\n",
       "      <th>draft</th>\n",
       "      <th>selected_by</th>\n",
       "      <th>player</th>\n",
       "      <th>position</th>\n",
       "      <th>college</th>\n",
       "      <th>PPG</th>\n",
       "      <th>RPG</th>\n",
       "      <th>APG</th>\n",
       "    </tr>\n",
       "  </thead>\n",
       "  <tbody>\n",
       "    <tr>\n",
       "      <th>0</th>\n",
       "      <td>1952</td>\n",
       "      <td>Milwaukee Hawks</td>\n",
       "      <td>Mark Workman[f]</td>\n",
       "      <td>Center</td>\n",
       "      <td>West Virginia</td>\n",
       "      <td>5.1</td>\n",
       "      <td>3.0</td>\n",
       "      <td>0.6</td>\n",
       "    </tr>\n",
       "    <tr>\n",
       "      <th>1</th>\n",
       "      <td>1953</td>\n",
       "      <td>Baltimore Bullets</td>\n",
       "      <td>Ray Felix^[g]</td>\n",
       "      <td>Guard/Forward</td>\n",
       "      <td>Long Island</td>\n",
       "      <td>17.6</td>\n",
       "      <td>13.3</td>\n",
       "      <td>1.1</td>\n",
       "    </tr>\n",
       "    <tr>\n",
       "      <th>2</th>\n",
       "      <td>1954</td>\n",
       "      <td>Baltimore Bullets</td>\n",
       "      <td>Frank Selvy^</td>\n",
       "      <td>Forward/Center</td>\n",
       "      <td>Furman</td>\n",
       "      <td>19.0</td>\n",
       "      <td>5.5</td>\n",
       "      <td>3.5</td>\n",
       "    </tr>\n",
       "    <tr>\n",
       "      <th>3</th>\n",
       "      <td>1955</td>\n",
       "      <td>Milwaukee Hawks</td>\n",
       "      <td>Dick Ricketts[h]</td>\n",
       "      <td>Guard/Forward</td>\n",
       "      <td>Duquesne</td>\n",
       "      <td>8.9</td>\n",
       "      <td>7.2</td>\n",
       "      <td>3.0</td>\n",
       "    </tr>\n",
       "    <tr>\n",
       "      <th>4</th>\n",
       "      <td>1956</td>\n",
       "      <td>Rochester Royals</td>\n",
       "      <td>Sihugo Green[i]</td>\n",
       "      <td>Guard/Forward</td>\n",
       "      <td>Duquesne</td>\n",
       "      <td>11.5</td>\n",
       "      <td>5.2</td>\n",
       "      <td>3.6</td>\n",
       "    </tr>\n",
       "    <tr>\n",
       "      <th>...</th>\n",
       "      <td>...</td>\n",
       "      <td>...</td>\n",
       "      <td>...</td>\n",
       "      <td>...</td>\n",
       "      <td>...</td>\n",
       "      <td>...</td>\n",
       "      <td>...</td>\n",
       "      <td>...</td>\n",
       "    </tr>\n",
       "    <tr>\n",
       "      <th>64</th>\n",
       "      <td>2016</td>\n",
       "      <td>Philadelphia 76ers</td>\n",
       "      <td>Ben Simmons^[ab]</td>\n",
       "      <td>Forward/Guard</td>\n",
       "      <td>LSU</td>\n",
       "      <td>15.8</td>\n",
       "      <td>8.1</td>\n",
       "      <td>8.2</td>\n",
       "    </tr>\n",
       "    <tr>\n",
       "      <th>65</th>\n",
       "      <td>2017</td>\n",
       "      <td>Philadelphia 76ers</td>\n",
       "      <td>Markelle Fultz</td>\n",
       "      <td>Guard</td>\n",
       "      <td>Washington</td>\n",
       "      <td>7.1</td>\n",
       "      <td>3.1</td>\n",
       "      <td>3.8</td>\n",
       "    </tr>\n",
       "    <tr>\n",
       "      <th>66</th>\n",
       "      <td>2018</td>\n",
       "      <td>Phoenix Suns</td>\n",
       "      <td>Deandre Ayton</td>\n",
       "      <td>Center</td>\n",
       "      <td>Arizona</td>\n",
       "      <td>16.3</td>\n",
       "      <td>10.3</td>\n",
       "      <td>1.8</td>\n",
       "    </tr>\n",
       "    <tr>\n",
       "      <th>67</th>\n",
       "      <td>2019</td>\n",
       "      <td>New Orleans Pelicans</td>\n",
       "      <td>Zion Williamson^</td>\n",
       "      <td>Forward</td>\n",
       "      <td>Duke</td>\n",
       "      <td>22.5</td>\n",
       "      <td>6.3</td>\n",
       "      <td>2.1</td>\n",
       "    </tr>\n",
       "    <tr>\n",
       "      <th>68</th>\n",
       "      <td>2020</td>\n",
       "      <td>Minnesota Timberwolves</td>\n",
       "      <td>Anthony Edwards</td>\n",
       "      <td>Guard</td>\n",
       "      <td>Georgia</td>\n",
       "      <td>19.3</td>\n",
       "      <td>4.7</td>\n",
       "      <td>2.9</td>\n",
       "    </tr>\n",
       "  </tbody>\n",
       "</table>\n",
       "<p>69 rows × 8 columns</p>\n",
       "</div>"
      ],
      "text/plain": [
       "    draft             selected_by            player        position  \\\n",
       "0    1952         Milwaukee Hawks   Mark Workman[f]          Center   \n",
       "1    1953       Baltimore Bullets     Ray Felix^[g]   Guard/Forward   \n",
       "2    1954       Baltimore Bullets      Frank Selvy^  Forward/Center   \n",
       "3    1955         Milwaukee Hawks  Dick Ricketts[h]   Guard/Forward   \n",
       "4    1956        Rochester Royals   Sihugo Green[i]   Guard/Forward   \n",
       "..    ...                     ...               ...             ...   \n",
       "64   2016      Philadelphia 76ers  Ben Simmons^[ab]   Forward/Guard   \n",
       "65   2017      Philadelphia 76ers    Markelle Fultz           Guard   \n",
       "66   2018            Phoenix Suns     Deandre Ayton          Center   \n",
       "67   2019    New Orleans Pelicans  Zion Williamson^         Forward   \n",
       "68   2020  Minnesota Timberwolves   Anthony Edwards           Guard   \n",
       "\n",
       "          college   PPG   RPG  APG  \n",
       "0   West Virginia   5.1   3.0  0.6  \n",
       "1     Long Island  17.6  13.3  1.1  \n",
       "2          Furman  19.0   5.5  3.5  \n",
       "3        Duquesne   8.9   7.2  3.0  \n",
       "4        Duquesne  11.5   5.2  3.6  \n",
       "..            ...   ...   ...  ...  \n",
       "64            LSU  15.8   8.1  8.2  \n",
       "65     Washington   7.1   3.1  3.8  \n",
       "66        Arizona  16.3  10.3  1.8  \n",
       "67           Duke  22.5   6.3  2.1  \n",
       "68        Georgia  19.3   4.7  2.9  \n",
       "\n",
       "[69 rows x 8 columns]"
      ]
     },
     "execution_count": 25,
     "metadata": {},
     "output_type": "execute_result"
    }
   ],
   "source": [
    "first_pick = pd.read_csv(\"first_picks_nba.csv\")\n",
    "first_pick.head(100)"
   ]
  },
  {
   "cell_type": "code",
   "execution_count": 26,
   "id": "9e92b982",
   "metadata": {
    "scrolled": true
   },
   "outputs": [
    {
     "data": {
      "text/html": [
       "<div>\n",
       "<style scoped>\n",
       "    .dataframe tbody tr th:only-of-type {\n",
       "        vertical-align: middle;\n",
       "    }\n",
       "\n",
       "    .dataframe tbody tr th {\n",
       "        vertical-align: top;\n",
       "    }\n",
       "\n",
       "    .dataframe thead th {\n",
       "        text-align: right;\n",
       "    }\n",
       "</style>\n",
       "<table border=\"1\" class=\"dataframe\">\n",
       "  <thead>\n",
       "    <tr style=\"text-align: right;\">\n",
       "      <th></th>\n",
       "      <th>draft</th>\n",
       "      <th>selected_by</th>\n",
       "      <th>player</th>\n",
       "      <th>position</th>\n",
       "      <th>college</th>\n",
       "      <th>PPG</th>\n",
       "      <th>RPG</th>\n",
       "      <th>APG</th>\n",
       "    </tr>\n",
       "  </thead>\n",
       "  <tbody>\n",
       "    <tr>\n",
       "      <th>0</th>\n",
       "      <td>1952</td>\n",
       "      <td>Milwaukee Hawks</td>\n",
       "      <td>Mark Workman</td>\n",
       "      <td>Center</td>\n",
       "      <td>West Virginia</td>\n",
       "      <td>5.1</td>\n",
       "      <td>3.0</td>\n",
       "      <td>0.6</td>\n",
       "    </tr>\n",
       "    <tr>\n",
       "      <th>1</th>\n",
       "      <td>1953</td>\n",
       "      <td>Baltimore Bullets</td>\n",
       "      <td>Ray Felix</td>\n",
       "      <td>Guard/Forward</td>\n",
       "      <td>Long Island</td>\n",
       "      <td>17.6</td>\n",
       "      <td>13.3</td>\n",
       "      <td>1.1</td>\n",
       "    </tr>\n",
       "    <tr>\n",
       "      <th>2</th>\n",
       "      <td>1954</td>\n",
       "      <td>Baltimore Bullets</td>\n",
       "      <td>Frank Selvy</td>\n",
       "      <td>Forward/Center</td>\n",
       "      <td>Furman</td>\n",
       "      <td>19.0</td>\n",
       "      <td>5.5</td>\n",
       "      <td>3.5</td>\n",
       "    </tr>\n",
       "    <tr>\n",
       "      <th>3</th>\n",
       "      <td>1955</td>\n",
       "      <td>Milwaukee Hawks</td>\n",
       "      <td>Dick Ricketts</td>\n",
       "      <td>Guard/Forward</td>\n",
       "      <td>Duquesne</td>\n",
       "      <td>8.9</td>\n",
       "      <td>7.2</td>\n",
       "      <td>3.0</td>\n",
       "    </tr>\n",
       "    <tr>\n",
       "      <th>4</th>\n",
       "      <td>1956</td>\n",
       "      <td>Rochester Royals</td>\n",
       "      <td>Sihugo Green</td>\n",
       "      <td>Guard/Forward</td>\n",
       "      <td>Duquesne</td>\n",
       "      <td>11.5</td>\n",
       "      <td>5.2</td>\n",
       "      <td>3.6</td>\n",
       "    </tr>\n",
       "  </tbody>\n",
       "</table>\n",
       "</div>"
      ],
      "text/plain": [
       "   draft        selected_by         player        position        college  \\\n",
       "0   1952    Milwaukee Hawks   Mark Workman          Center  West Virginia   \n",
       "1   1953  Baltimore Bullets      Ray Felix   Guard/Forward    Long Island   \n",
       "2   1954  Baltimore Bullets    Frank Selvy  Forward/Center         Furman   \n",
       "3   1955    Milwaukee Hawks  Dick Ricketts   Guard/Forward       Duquesne   \n",
       "4   1956   Rochester Royals   Sihugo Green   Guard/Forward       Duquesne   \n",
       "\n",
       "    PPG   RPG  APG  \n",
       "0   5.1   3.0  0.6  \n",
       "1  17.6  13.3  1.1  \n",
       "2  19.0   5.5  3.5  \n",
       "3   8.9   7.2  3.0  \n",
       "4  11.5   5.2  3.6  "
      ]
     },
     "execution_count": 26,
     "metadata": {},
     "output_type": "execute_result"
    }
   ],
   "source": [
    "first_pick['player']=first_pick['player'].str.split(\"^\").str[0]\n",
    "first_pick['player']=first_pick['player'].str.split(\"[\").str[0]\n",
    "first_pick.head()"
   ]
  },
  {
   "cell_type": "code",
   "execution_count": 27,
   "id": "a2353d86",
   "metadata": {
    "scrolled": false
   },
   "outputs": [
    {
     "data": {
      "text/html": [
       "<div>\n",
       "<style scoped>\n",
       "    .dataframe tbody tr th:only-of-type {\n",
       "        vertical-align: middle;\n",
       "    }\n",
       "\n",
       "    .dataframe tbody tr th {\n",
       "        vertical-align: top;\n",
       "    }\n",
       "\n",
       "    .dataframe thead th {\n",
       "        text-align: right;\n",
       "    }\n",
       "</style>\n",
       "<table border=\"1\" class=\"dataframe\">\n",
       "  <thead>\n",
       "    <tr style=\"text-align: right;\">\n",
       "      <th></th>\n",
       "      <th>draft</th>\n",
       "      <th>selected_by</th>\n",
       "      <th>player</th>\n",
       "      <th>position</th>\n",
       "      <th>college</th>\n",
       "      <th>PPG</th>\n",
       "      <th>RPG</th>\n",
       "      <th>APG</th>\n",
       "    </tr>\n",
       "  </thead>\n",
       "  <tbody>\n",
       "    <tr>\n",
       "      <th>0</th>\n",
       "      <td>1952</td>\n",
       "      <td>Milwaukee Hawks</td>\n",
       "      <td>Mark Workman</td>\n",
       "      <td>Center</td>\n",
       "      <td>West Virginia</td>\n",
       "      <td>5.1</td>\n",
       "      <td>3.0</td>\n",
       "      <td>0.6</td>\n",
       "    </tr>\n",
       "    <tr>\n",
       "      <th>1</th>\n",
       "      <td>1953</td>\n",
       "      <td>Baltimore Bullets</td>\n",
       "      <td>Ray Felix</td>\n",
       "      <td>Guard</td>\n",
       "      <td>Long Island</td>\n",
       "      <td>17.6</td>\n",
       "      <td>13.3</td>\n",
       "      <td>1.1</td>\n",
       "    </tr>\n",
       "    <tr>\n",
       "      <th>2</th>\n",
       "      <td>1954</td>\n",
       "      <td>Baltimore Bullets</td>\n",
       "      <td>Frank Selvy</td>\n",
       "      <td>Forward</td>\n",
       "      <td>Furman</td>\n",
       "      <td>19.0</td>\n",
       "      <td>5.5</td>\n",
       "      <td>3.5</td>\n",
       "    </tr>\n",
       "    <tr>\n",
       "      <th>3</th>\n",
       "      <td>1955</td>\n",
       "      <td>Milwaukee Hawks</td>\n",
       "      <td>Dick Ricketts</td>\n",
       "      <td>Guard</td>\n",
       "      <td>Duquesne</td>\n",
       "      <td>8.9</td>\n",
       "      <td>7.2</td>\n",
       "      <td>3.0</td>\n",
       "    </tr>\n",
       "    <tr>\n",
       "      <th>4</th>\n",
       "      <td>1956</td>\n",
       "      <td>Rochester Royals</td>\n",
       "      <td>Sihugo Green</td>\n",
       "      <td>Guard</td>\n",
       "      <td>Duquesne</td>\n",
       "      <td>11.5</td>\n",
       "      <td>5.2</td>\n",
       "      <td>3.6</td>\n",
       "    </tr>\n",
       "  </tbody>\n",
       "</table>\n",
       "</div>"
      ],
      "text/plain": [
       "   draft        selected_by         player position        college   PPG  \\\n",
       "0   1952    Milwaukee Hawks   Mark Workman   Center  West Virginia   5.1   \n",
       "1   1953  Baltimore Bullets      Ray Felix    Guard    Long Island  17.6   \n",
       "2   1954  Baltimore Bullets    Frank Selvy  Forward         Furman  19.0   \n",
       "3   1955    Milwaukee Hawks  Dick Ricketts    Guard       Duquesne   8.9   \n",
       "4   1956   Rochester Royals   Sihugo Green    Guard       Duquesne  11.5   \n",
       "\n",
       "    RPG  APG  \n",
       "0   3.0  0.6  \n",
       "1  13.3  1.1  \n",
       "2   5.5  3.5  \n",
       "3   7.2  3.0  \n",
       "4   5.2  3.6  "
      ]
     },
     "execution_count": 27,
     "metadata": {},
     "output_type": "execute_result"
    }
   ],
   "source": [
    "first_pick['position']=first_pick['position'].str.split('/').str[0]\n",
    "first_pick.head()"
   ]
  },
  {
   "cell_type": "code",
   "execution_count": 28,
   "id": "61d3e7b9",
   "metadata": {
    "scrolled": true
   },
   "outputs": [
    {
     "name": "stdout",
     "output_type": "stream",
     "text": [
      "<class 'pandas.core.frame.DataFrame'>\n",
      "RangeIndex: 69 entries, 0 to 68\n",
      "Data columns (total 8 columns):\n",
      " #   Column       Non-Null Count  Dtype  \n",
      "---  ------       --------------  -----  \n",
      " 0   draft        69 non-null     object \n",
      " 1   selected_by  69 non-null     object \n",
      " 2   player       69 non-null     object \n",
      " 3   position     69 non-null     object \n",
      " 4   college      69 non-null     object \n",
      " 5   PPG          69 non-null     float64\n",
      " 6   RPG          69 non-null     float64\n",
      " 7   APG          69 non-null     float64\n",
      "dtypes: float64(3), object(5)\n",
      "memory usage: 4.4+ KB\n"
     ]
    }
   ],
   "source": [
    "first_pick = first_pick.astype({'draft': 'object'})\n",
    "first_pick.info()"
   ]
  },
  {
   "cell_type": "code",
   "execution_count": 29,
   "id": "531affa8",
   "metadata": {
    "scrolled": true
   },
   "outputs": [
    {
     "data": {
      "text/html": [
       "<div>\n",
       "<style scoped>\n",
       "    .dataframe tbody tr th:only-of-type {\n",
       "        vertical-align: middle;\n",
       "    }\n",
       "\n",
       "    .dataframe tbody tr th {\n",
       "        vertical-align: top;\n",
       "    }\n",
       "\n",
       "    .dataframe thead th {\n",
       "        text-align: right;\n",
       "    }\n",
       "</style>\n",
       "<table border=\"1\" class=\"dataframe\">\n",
       "  <thead>\n",
       "    <tr style=\"text-align: right;\">\n",
       "      <th></th>\n",
       "      <th>draft</th>\n",
       "      <th>selected_by</th>\n",
       "      <th>player</th>\n",
       "      <th>position</th>\n",
       "      <th>college</th>\n",
       "      <th>PPG</th>\n",
       "      <th>RPG</th>\n",
       "      <th>APG</th>\n",
       "    </tr>\n",
       "  </thead>\n",
       "  <tbody>\n",
       "    <tr>\n",
       "      <th>0</th>\n",
       "      <td>1952</td>\n",
       "      <td>Milwaukee Hawks</td>\n",
       "      <td>Mark Workman-1952</td>\n",
       "      <td>Center</td>\n",
       "      <td>West Virginia</td>\n",
       "      <td>5.1</td>\n",
       "      <td>3.0</td>\n",
       "      <td>0.6</td>\n",
       "    </tr>\n",
       "    <tr>\n",
       "      <th>1</th>\n",
       "      <td>1953</td>\n",
       "      <td>Baltimore Bullets</td>\n",
       "      <td>Ray Felix-1953</td>\n",
       "      <td>Guard</td>\n",
       "      <td>Long Island</td>\n",
       "      <td>17.6</td>\n",
       "      <td>13.3</td>\n",
       "      <td>1.1</td>\n",
       "    </tr>\n",
       "    <tr>\n",
       "      <th>2</th>\n",
       "      <td>1954</td>\n",
       "      <td>Baltimore Bullets</td>\n",
       "      <td>Frank Selvy-1954</td>\n",
       "      <td>Forward</td>\n",
       "      <td>Furman</td>\n",
       "      <td>19.0</td>\n",
       "      <td>5.5</td>\n",
       "      <td>3.5</td>\n",
       "    </tr>\n",
       "    <tr>\n",
       "      <th>3</th>\n",
       "      <td>1955</td>\n",
       "      <td>Milwaukee Hawks</td>\n",
       "      <td>Dick Ricketts-1955</td>\n",
       "      <td>Guard</td>\n",
       "      <td>Duquesne</td>\n",
       "      <td>8.9</td>\n",
       "      <td>7.2</td>\n",
       "      <td>3.0</td>\n",
       "    </tr>\n",
       "    <tr>\n",
       "      <th>4</th>\n",
       "      <td>1956</td>\n",
       "      <td>Rochester Royals</td>\n",
       "      <td>Sihugo Green-1956</td>\n",
       "      <td>Guard</td>\n",
       "      <td>Duquesne</td>\n",
       "      <td>11.5</td>\n",
       "      <td>5.2</td>\n",
       "      <td>3.6</td>\n",
       "    </tr>\n",
       "  </tbody>\n",
       "</table>\n",
       "</div>"
      ],
      "text/plain": [
       "  draft        selected_by              player position        college   PPG  \\\n",
       "0  1952    Milwaukee Hawks   Mark Workman-1952   Center  West Virginia   5.1   \n",
       "1  1953  Baltimore Bullets      Ray Felix-1953    Guard    Long Island  17.6   \n",
       "2  1954  Baltimore Bullets    Frank Selvy-1954  Forward         Furman  19.0   \n",
       "3  1955    Milwaukee Hawks  Dick Ricketts-1955    Guard       Duquesne   8.9   \n",
       "4  1956   Rochester Royals   Sihugo Green-1956    Guard       Duquesne  11.5   \n",
       "\n",
       "    RPG  APG  \n",
       "0   3.0  0.6  \n",
       "1  13.3  1.1  \n",
       "2   5.5  3.5  \n",
       "3   7.2  3.0  \n",
       "4   5.2  3.6  "
      ]
     },
     "execution_count": 29,
     "metadata": {},
     "output_type": "execute_result"
    }
   ],
   "source": [
    "first_pick['player']= first_pick['player'].astype(str) +\"-\"+ first_pick['draft'].astype(str)\n",
    "first_pick.head()"
   ]
  },
  {
   "cell_type": "code",
   "execution_count": 30,
   "id": "653e8c9a",
   "metadata": {
    "scrolled": true
   },
   "outputs": [
    {
     "data": {
      "text/plain": [
       "<AxesSubplot:xlabel='position', ylabel='Count'>"
      ]
     },
     "execution_count": 30,
     "metadata": {},
     "output_type": "execute_result"
    },
    {
     "data": {
      "image/png": "[encoded data removed]",
      "text/plain": [
       "<Figure size 432x288 with 1 Axes>"
      ]
     },
     "metadata": {
      "needs_background": "light"
     },
     "output_type": "display_data"
    }
   ],
   "source": [
    "sns.histplot(data=first_pick, x=\"position\")"
   ]
  },
  {
   "cell_type": "code",
   "execution_count": 57,
   "id": "28f50833",
   "metadata": {
    "scrolled": false
   },
   "outputs": [
    {
     "data": {
      "application/vnd.plotly.v1+json": {
       "config": {
        "plotlyServerURL": "https://plot.ly"
       },
       "data": [
        {
         "alignmentgroup": "True",
         "hovertemplate": "variable=PPG<br>value=%{x}<br>Player Name=%{y}<extra></extra>",
         "legendgroup": "PPG",
         "marker": {
          "color": "#636efa",
          "pattern": {
           "shape": ""
          }
         },
         "name": "PPG",
         "offsetgroup": "PPG",
         "orientation": "h",
         "showlegend": true,
         "textposition": "auto",
         "type": "bar",
         "x": [
          5.1,
          17.6,
          19,
          8.9,
          11.5,
          7,
          24.9,
          8.4,
          30.5,
          31.6,
          7.4,
          15.4,
          15.5,
          6.8,
          11.3,
          8.8,
          28.4,
          28.8,
          15.6,
          21.2,
          4.4,
          8,
          12.8,
          26,
          11.1,
          7.7,
          14.7,
          18,
          18.9,
          18.7,
          13.4,
          21,
          20.6,
          20,
          15.7,
          24.3,
          16.7,
          8,
          18.4,
          19.2,
          23.4,
          17.5,
          21.9,
          15.3,
          23.5,
          21.1,
          8.9,
          20.1,
          12,
          4.5,
          13.5,
          20.9,
          12,
          9.4,
          11.6,
          8.9,
          16.8,
          22.5,
          16.4,
          18.5,
          13.5,
          4.2,
          16.9,
          18.3,
          15.8,
          7.1,
          16.3,
          22.5,
          19.3
         ],
         "xaxis": "x",
         "y": [
          "Mark Workman-1952",
          "Ray Felix-1953",
          "Frank Selvy-1954",
          "Dick Ricketts-1955",
          "Sihugo Green-1956",
          "Rod Hundley-1957",
          "Elgin Baylor-1958",
          "Bob Boozer-1959",
          "Oscar Robertson-1960",
          "Walt Bellamy-1961",
          "Bill McGill-1962",
          "Art Heyman-1963",
          "Jim Barnes-1964",
          "Fred Hetzel-1965",
          "Cazzie Russell-1966",
          "Jimmy Walker-1967",
          "Elvin Hayes-1968",
          "Lew Alcindor-1969",
          "Bob Lanier-1970",
          "Austin Carr-1971",
          "LaRue Martin-1972",
          "Doug Collins-1973",
          "Bill Walton-1974",
          "David Thompson-1975",
          "John Lucas-1976",
          "Kent Benson-1977",
          "Mychal Thompson-1978",
          "Magic Johnson-1979",
          "Joe Barry Carroll-1980",
          "Mark Aguirre-1981",
          "James Worthy-1982",
          "Ralph Sampson-1983",
          "Akeem Olajuwon-1984",
          "Patrick Ewing-1985",
          "Brad Daugherty-1986",
          "David Robinson-1987",
          "Danny Manning-1988",
          "Pervis Ellison-1989",
          "Derrick Coleman-1990",
          "Larry Johnson-1991",
          "Shaquille O'Neal-1992",
          "Chris Webber-1993",
          "Glenn Robinson-1994",
          "Joe Smith-1995",
          "Allen Iverson-1996",
          "Tim Duncan-1997",
          "Michael Olowokandi-1998",
          "Elton Brand-1999",
          "Kenyon Martin-2000",
          "Kwame Brown-2001",
          "Yao Ming-2002",
          "LeBron James-2003",
          "Dwight Howard-2004",
          "Andrew Bogut-2005",
          "Andrea Bargnani-2006",
          "Greg Oden-2007",
          "Derrick Rose-2008",
          "Blake Griffin-2009",
          "John Wall-2010",
          "Kyrie Irving-2011",
          "Anthony Davis-2012",
          "Anthony Bennett-2013",
          "Andrew Wiggins-2014",
          "Karl-Anthony Towns-2015",
          "Ben Simmons-2016",
          "Markelle Fultz-2017",
          "Deandre Ayton-2018",
          "Zion Williamson-2019",
          "Anthony Edwards-2020"
         ],
         "yaxis": "y"
        },
        {
         "alignmentgroup": "True",
         "hovertemplate": "variable=APG<br>value=%{x}<br>Player Name=%{y}<extra></extra>",
         "legendgroup": "APG",
         "marker": {
          "color": "#EF553B",
          "pattern": {
           "shape": ""
          }
         },
         "name": "APG",
         "offsetgroup": "APG",
         "orientation": "h",
         "showlegend": true,
         "textposition": "auto",
         "type": "bar",
         "x": [
          0.6,
          1.1,
          3.5,
          3,
          3.6,
          1.9,
          4.1,
          1.4,
          9.7,
          2.7,
          0.6,
          3.4,
          1.2,
          0.5,
          2.4,
          2.8,
          1.4,
          4.1,
          1.8,
          3.4,
          0.5,
          1.6,
          4.8,
          3.7,
          5.6,
          1.4,
          2.4,
          7.3,
          1.4,
          3.2,
          1.7,
          2,
          1.4,
          2,
          3.8,
          2,
          3.1,
          1.9,
          2.2,
          3.6,
          1.9,
          3.6,
          2.5,
          1,
          7.5,
          2.7,
          0.6,
          1.9,
          1.9,
          0.8,
          1.7,
          5.9,
          0.9,
          2.3,
          0.8,
          0.5,
          6.3,
          3.8,
          8.3,
          5.4,
          1,
          0.3,
          2.1,
          2,
          8.2,
          3.8,
          1.8,
          2.1,
          2.9
         ],
         "xaxis": "x",
         "y": [
          "Mark Workman-1952",
          "Ray Felix-1953",
          "Frank Selvy-1954",
          "Dick Ricketts-1955",
          "Sihugo Green-1956",
          "Rod Hundley-1957",
          "Elgin Baylor-1958",
          "Bob Boozer-1959",
          "Oscar Robertson-1960",
          "Walt Bellamy-1961",
          "Bill McGill-1962",
          "Art Heyman-1963",
          "Jim Barnes-1964",
          "Fred Hetzel-1965",
          "Cazzie Russell-1966",
          "Jimmy Walker-1967",
          "Elvin Hayes-1968",
          "Lew Alcindor-1969",
          "Bob Lanier-1970",
          "Austin Carr-1971",
          "LaRue Martin-1972",
          "Doug Collins-1973",
          "Bill Walton-1974",
          "David Thompson-1975",
          "John Lucas-1976",
          "Kent Benson-1977",
          "Mychal Thompson-1978",
          "Magic Johnson-1979",
          "Joe Barry Carroll-1980",
          "Mark Aguirre-1981",
          "James Worthy-1982",
          "Ralph Sampson-1983",
          "Akeem Olajuwon-1984",
          "Patrick Ewing-1985",
          "Brad Daugherty-1986",
          "David Robinson-1987",
          "Danny Manning-1988",
          "Pervis Ellison-1989",
          "Derrick Coleman-1990",
          "Larry Johnson-1991",
          "Shaquille O'Neal-1992",
          "Chris Webber-1993",
          "Glenn Robinson-1994",
          "Joe Smith-1995",
          "Allen Iverson-1996",
          "Tim Duncan-1997",
          "Michael Olowokandi-1998",
          "Elton Brand-1999",
          "Kenyon Martin-2000",
          "Kwame Brown-2001",
          "Yao Ming-2002",
          "LeBron James-2003",
          "Dwight Howard-2004",
          "Andrew Bogut-2005",
          "Andrea Bargnani-2006",
          "Greg Oden-2007",
          "Derrick Rose-2008",
          "Blake Griffin-2009",
          "John Wall-2010",
          "Kyrie Irving-2011",
          "Anthony Davis-2012",
          "Anthony Bennett-2013",
          "Andrew Wiggins-2014",
          "Karl-Anthony Towns-2015",
          "Ben Simmons-2016",
          "Markelle Fultz-2017",
          "Deandre Ayton-2018",
          "Zion Williamson-2019",
          "Anthony Edwards-2020"
         ],
         "yaxis": "y"
        },
        {
         "alignmentgroup": "True",
         "hovertemplate": "variable=RPG<br>value=%{x}<br>Player Name=%{y}<extra></extra>",
         "legendgroup": "RPG",
         "marker": {
          "color": "#00cc96",
          "pattern": {
           "shape": ""
          }
         },
         "name": "RPG",
         "offsetgroup": "RPG",
         "orientation": "h",
         "showlegend": true,
         "textposition": "auto",
         "type": "bar",
         "x": [
          3,
          13.3,
          5.5,
          7.2,
          5.2,
          2.9,
          15,
          6.2,
          10.1,
          19,
          2.7,
          4,
          9.7,
          5.2,
          3.3,
          1.7,
          17.1,
          14.5,
          8.1,
          3.5,
          4.6,
          1.8,
          12.6,
          6.3,
          2.7,
          4.3,
          8.3,
          7.7,
          9.3,
          4.9,
          5.2,
          11.1,
          11.9,
          9,
          8.1,
          12,
          6.6,
          5.8,
          10.3,
          11,
          13.9,
          9.1,
          6.4,
          8.7,
          4.1,
          11.9,
          7.9,
          10,
          7.4,
          3.5,
          8.2,
          5.5,
          10,
          7,
          3.9,
          7,
          3.9,
          12.1,
          4.6,
          3.7,
          8.2,
          3,
          4.6,
          10.4,
          8.1,
          3.1,
          10.3,
          6.3,
          4.7
         ],
         "xaxis": "x",
         "y": [
          "Mark Workman-1952",
          "Ray Felix-1953",
          "Frank Selvy-1954",
          "Dick Ricketts-1955",
          "Sihugo Green-1956",
          "Rod Hundley-1957",
          "Elgin Baylor-1958",
          "Bob Boozer-1959",
          "Oscar Robertson-1960",
          "Walt Bellamy-1961",
          "Bill McGill-1962",
          "Art Heyman-1963",
          "Jim Barnes-1964",
          "Fred Hetzel-1965",
          "Cazzie Russell-1966",
          "Jimmy Walker-1967",
          "Elvin Hayes-1968",
          "Lew Alcindor-1969",
          "Bob Lanier-1970",
          "Austin Carr-1971",
          "LaRue Martin-1972",
          "Doug Collins-1973",
          "Bill Walton-1974",
          "David Thompson-1975",
          "John Lucas-1976",
          "Kent Benson-1977",
          "Mychal Thompson-1978",
          "Magic Johnson-1979",
          "Joe Barry Carroll-1980",
          "Mark Aguirre-1981",
          "James Worthy-1982",
          "Ralph Sampson-1983",
          "Akeem Olajuwon-1984",
          "Patrick Ewing-1985",
          "Brad Daugherty-1986",
          "David Robinson-1987",
          "Danny Manning-1988",
          "Pervis Ellison-1989",
          "Derrick Coleman-1990",
          "Larry Johnson-1991",
          "Shaquille O'Neal-1992",
          "Chris Webber-1993",
          "Glenn Robinson-1994",
          "Joe Smith-1995",
          "Allen Iverson-1996",
          "Tim Duncan-1997",
          "Michael Olowokandi-1998",
          "Elton Brand-1999",
          "Kenyon Martin-2000",
          "Kwame Brown-2001",
          "Yao Ming-2002",
          "LeBron James-2003",
          "Dwight Howard-2004",
          "Andrew Bogut-2005",
          "Andrea Bargnani-2006",
          "Greg Oden-2007",
          "Derrick Rose-2008",
          "Blake Griffin-2009",
          "John Wall-2010",
          "Kyrie Irving-2011",
          "Anthony Davis-2012",
          "Anthony Bennett-2013",
          "Andrew Wiggins-2014",
          "Karl-Anthony Towns-2015",
          "Ben Simmons-2016",
          "Markelle Fultz-2017",
          "Deandre Ayton-2018",
          "Zion Williamson-2019",
          "Anthony Edwards-2020"
         ],
         "yaxis": "y"
        }
       ],
       "layout": {
        "barmode": "relative",
        "height": 1500,
        "legend": {
         "title": {
          "text": "variable"
         },
         "tracegroupgap": 0
        },
        "template": {
         "data": {
          "bar": [
           {
            "error_x": {
             "color": "#2a3f5f"
            },
            "error_y": {
             "color": "#2a3f5f"
            },
            "marker": {
             "line": {
              "color": "#E5ECF6",
              "width": 0.5
             },
             "pattern": {
              "fillmode": "overlay",
              "size": 10,
              "solidity": 0.2
             }
            },
            "type": "bar"
           }
          ],
          "barpolar": [
           {
            "marker": {
             "line": {
              "color": "#E5ECF6",
              "width": 0.5
             },
             "pattern": {
              "fillmode": "overlay",
              "size": 10,
              "solidity": 0.2
             }
            },
            "type": "barpolar"
           }
          ],
          "carpet": [
           {
            "aaxis": {
             "endlinecolor": "#2a3f5f",
             "gridcolor": "white",
             "linecolor": "white",
             "minorgridcolor": "white",
             "startlinecolor": "#2a3f5f"
            },
            "baxis": {
             "endlinecolor": "#2a3f5f",
             "gridcolor": "white",
             "linecolor": "white",
             "minorgridcolor": "white",
             "startlinecolor": "#2a3f5f"
            },
            "type": "carpet"
           }
          ],
          "choropleth": [
           {
            "colorbar": {
             "outlinewidth": 0,
             "ticks": ""
            },
            "type": "choropleth"
           }
          ],
          "contour": [
           {
            "colorbar": {
             "outlinewidth": 0,
             "ticks": ""
            },
            "colorscale": [
             [
              0,
              "#0d0887"
             ],
             [
              0.1111111111111111,
              "#46039f"
             ],
             [
              0.2222222222222222,
              "#7201a8"
             ],
             [
              0.3333333333333333,
              "#9c179e"
             ],
             [
              0.4444444444444444,
              "#bd3786"
             ],
             [
              0.5555555555555556,
              "#d8576b"
             ],
             [
              0.6666666666666666,
              "#ed7953"
             ],
             [
              0.7777777777777778,
              "#fb9f3a"
             ],
             [
              0.8888888888888888,
              "#fdca26"
             ],
             [
              1,
              "#f0f921"
             ]
            ],
            "type": "contour"
           }
          ],
          "contourcarpet": [
           {
            "colorbar": {
             "outlinewidth": 0,
             "ticks": ""
            },
            "type": "contourcarpet"
           }
          ],
          "heatmap": [
           {
            "colorbar": {
             "outlinewidth": 0,
             "ticks": ""
            },
            "colorscale": [
             [
              0,
              "#0d0887"
             ],
             [
              0.1111111111111111,
              "#46039f"
             ],
             [
              0.2222222222222222,
              "#7201a8"
             ],
             [
              0.3333333333333333,
              "#9c179e"
             ],
             [
              0.4444444444444444,
              "#bd3786"
             ],
             [
              0.5555555555555556,
              "#d8576b"
             ],
             [
              0.6666666666666666,
              "#ed7953"
             ],
             [
              0.7777777777777778,
              "#fb9f3a"
             ],
             [
              0.8888888888888888,
              "#fdca26"
             ],
             [
              1,
              "#f0f921"
             ]
            ],
            "type": "heatmap"
           }
          ],
          "heatmapgl": [
           {
            "colorbar": {
             "outlinewidth": 0,
             "ticks": ""
            },
            "colorscale": [
             [
              0,
              "#0d0887"
             ],
             [
              0.1111111111111111,
              "#46039f"
             ],
             [
              0.2222222222222222,
              "#7201a8"
             ],
             [
              0.3333333333333333,
              "#9c179e"
             ],
             [
              0.4444444444444444,
              "#bd3786"
             ],
             [
              0.5555555555555556,
              "#d8576b"
             ],
             [
              0.6666666666666666,
              "#ed7953"
             ],
             [
              0.7777777777777778,
              "#fb9f3a"
             ],
             [
              0.8888888888888888,
              "#fdca26"
             ],
             [
              1,
              "#f0f921"
             ]
            ],
            "type": "heatmapgl"
           }
          ],
          "histogram": [
           {
            "marker": {
             "pattern": {
              "fillmode": "overlay",
              "size": 10,
              "solidity": 0.2
             }
            },
            "type": "histogram"
           }
          ],
          "histogram2d": [
           {
            "colorbar": {
             "outlinewidth": 0,
             "ticks": ""
            },
            "colorscale": [
             [
              0,
              "#0d0887"
             ],
             [
              0.1111111111111111,
              "#46039f"
             ],
             [
              0.2222222222222222,
              "#7201a8"
             ],
             [
              0.3333333333333333,
              "#9c179e"
             ],
             [
              0.4444444444444444,
              "#bd3786"
             ],
             [
              0.5555555555555556,
              "#d8576b"
             ],
             [
              0.6666666666666666,
              "#ed7953"
             ],
             [
              0.7777777777777778,
              "#fb9f3a"
             ],
             [
              0.8888888888888888,
              "#fdca26"
             ],
             [
              1,
              "#f0f921"
             ]
            ],
            "type": "histogram2d"
           }
          ],
          "histogram2dcontour": [
           {
            "colorbar": {
             "outlinewidth": 0,
             "ticks": ""
            },
            "colorscale": [
             [
              0,
              "#0d0887"
             ],
             [
              0.1111111111111111,
              "#46039f"
             ],
             [
              0.2222222222222222,
              "#7201a8"
             ],
             [
              0.3333333333333333,
              "#9c179e"
             ],
             [
              0.4444444444444444,
              "#bd3786"
             ],
             [
              0.5555555555555556,
              "#d8576b"
             ],
             [
              0.6666666666666666,
              "#ed7953"
             ],
             [
              0.7777777777777778,
              "#fb9f3a"
             ],
             [
              0.8888888888888888,
              "#fdca26"
             ],
             [
              1,
              "#f0f921"
             ]
            ],
            "type": "histogram2dcontour"
           }
          ],
          "mesh3d": [
           {
            "colorbar": {
             "outlinewidth": 0,
             "ticks": ""
            },
            "type": "mesh3d"
           }
          ],
          "parcoords": [
           {
            "line": {
             "colorbar": {
              "outlinewidth": 0,
              "ticks": ""
             }
            },
            "type": "parcoords"
           }
          ],
          "pie": [
           {
            "automargin": true,
            "type": "pie"
           }
          ],
          "scatter": [
           {
            "marker": {
             "colorbar": {
              "outlinewidth": 0,
              "ticks": ""
             }
            },
            "type": "scatter"
           }
          ],
          "scatter3d": [
           {
            "line": {
             "colorbar": {
              "outlinewidth": 0,
              "ticks": ""
             }
            },
            "marker": {
             "colorbar": {
              "outlinewidth": 0,
              "ticks": ""
             }
            },
            "type": "scatter3d"
           }
          ],
          "scattercarpet": [
           {
            "marker": {
             "colorbar": {
              "outlinewidth": 0,
              "ticks": ""
             }
            },
            "type": "scattercarpet"
           }
          ],
          "scattergeo": [
           {
            "marker": {
             "colorbar": {
              "outlinewidth": 0,
              "ticks": ""
             }
            },
            "type": "scattergeo"
           }
          ],
          "scattergl": [
           {
            "marker": {
             "colorbar": {
              "outlinewidth": 0,
              "ticks": ""
             }
            },
            "type": "scattergl"
           }
          ],
          "scattermapbox": [
           {
            "marker": {
             "colorbar": {
              "outlinewidth": 0,
              "ticks": ""
             }
            },
            "type": "scattermapbox"
           }
          ],
          "scatterpolar": [
           {
            "marker": {
             "colorbar": {
              "outlinewidth": 0,
              "ticks": ""
             }
            },
            "type": "scatterpolar"
           }
          ],
          "scatterpolargl": [
           {
            "marker": {
             "colorbar": {
              "outlinewidth": 0,
              "ticks": ""
             }
            },
            "type": "scatterpolargl"
           }
          ],
          "scatterternary": [
           {
            "marker": {
             "colorbar": {
              "outlinewidth": 0,
              "ticks": ""
             }
            },
            "type": "scatterternary"
           }
          ],
          "surface": [
           {
            "colorbar": {
             "outlinewidth": 0,
             "ticks": ""
            },
            "colorscale": [
             [
              0,
              "#0d0887"
             ],
             [
              0.1111111111111111,
              "#46039f"
             ],
             [
              0.2222222222222222,
              "#7201a8"
             ],
             [
              0.3333333333333333,
              "#9c179e"
             ],
             [
              0.4444444444444444,
              "#bd3786"
             ],
             [
              0.5555555555555556,
              "#d8576b"
             ],
             [
              0.6666666666666666,
              "#ed7953"
             ],
             [
              0.7777777777777778,
              "#fb9f3a"
             ],
             [
              0.8888888888888888,
              "#fdca26"
             ],
             [
              1,
              "#f0f921"
             ]
            ],
            "type": "surface"
           }
          ],
          "table": [
           {
            "cells": {
             "fill": {
              "color": "#EBF0F8"
             },
             "line": {
              "color": "white"
             }
            },
            "header": {
             "fill": {
              "color": "#C8D4E3"
             },
             "line": {
              "color": "white"
             }
            },
            "type": "table"
           }
          ]
         },
         "layout": {
          "annotationdefaults": {
           "arrowcolor": "#2a3f5f",
           "arrowhead": 0,
           "arrowwidth": 1
          },
          "autotypenumbers": "strict",
          "coloraxis": {
           "colorbar": {
            "outlinewidth": 0,
            "ticks": ""
           }
          },
          "colorscale": {
           "diverging": [
            [
             0,
             "#8e0152"
            ],
            [
             0.1,
             "#c51b7d"
            ],
            [
             0.2,
             "#de77ae"
            ],
            [
             0.3,
             "#f1b6da"
            ],
            [
             0.4,
             "#fde0ef"
            ],
            [
             0.5,
             "#f7f7f7"
            ],
            [
             0.6,
             "#e6f5d0"
            ],
            [
             0.7,
             "#b8e186"
            ],
            [
             0.8,
             "#7fbc41"
            ],
            [
             0.9,
             "#4d9221"
            ],
            [
             1,
             "#276419"
            ]
           ],
           "sequential": [
            [
             0,
             "#0d0887"
            ],
            [
             0.1111111111111111,
             "#46039f"
            ],
            [
             0.2222222222222222,
             "#7201a8"
            ],
            [
             0.3333333333333333,
             "#9c179e"
            ],
            [
             0.4444444444444444,
             "#bd3786"
            ],
            [
             0.5555555555555556,
             "#d8576b"
            ],
            [
             0.6666666666666666,
             "#ed7953"
            ],
            [
             0.7777777777777778,
             "#fb9f3a"
            ],
            [
             0.8888888888888888,
             "#fdca26"
            ],
            [
             1,
             "#f0f921"
            ]
           ],
           "sequentialminus": [
            [
             0,
             "#0d0887"
            ],
            [
             0.1111111111111111,
             "#46039f"
            ],
            [
             0.2222222222222222,
             "#7201a8"
            ],
            [
             0.3333333333333333,
             "#9c179e"
            ],
            [
             0.4444444444444444,
             "#bd3786"
            ],
            [
             0.5555555555555556,
             "#d8576b"
            ],
            [
             0.6666666666666666,
             "#ed7953"
            ],
            [
             0.7777777777777778,
             "#fb9f3a"
            ],
            [
             0.8888888888888888,
             "#fdca26"
            ],
            [
             1,
             "#f0f921"
            ]
           ]
          },
          "colorway": [
           "#636efa",
           "#EF553B",
           "#00cc96",
           "#ab63fa",
           "#FFA15A",
           "#19d3f3",
           "#FF6692",
           "#B6E880",
           "#FF97FF",
           "#FECB52"
          ],
          "font": {
           "color": "#2a3f5f"
          },
          "geo": {
           "bgcolor": "white",
           "lakecolor": "white",
           "landcolor": "#E5ECF6",
           "showlakes": true,
           "showland": true,
           "subunitcolor": "white"
          },
          "hoverlabel": {
           "align": "left"
          },
          "hovermode": "closest",
          "mapbox": {
           "style": "light"
          },
          "paper_bgcolor": "white",
          "plot_bgcolor": "#E5ECF6",
          "polar": {
           "angularaxis": {
            "gridcolor": "white",
            "linecolor": "white",
            "ticks": ""
           },
           "bgcolor": "#E5ECF6",
           "radialaxis": {
            "gridcolor": "white",
            "linecolor": "white",
            "ticks": ""
           }
          },
          "scene": {
           "xaxis": {
            "backgroundcolor": "#E5ECF6",
            "gridcolor": "white",
            "gridwidth": 2,
            "linecolor": "white",
            "showbackground": true,
            "ticks": "",
            "zerolinecolor": "white"
           },
           "yaxis": {
            "backgroundcolor": "#E5ECF6",
            "gridcolor": "white",
            "gridwidth": 2,
            "linecolor": "white",
            "showbackground": true,
            "ticks": "",
            "zerolinecolor": "white"
           },
           "zaxis": {
            "backgroundcolor": "#E5ECF6",
            "gridcolor": "white",
            "gridwidth": 2,
            "linecolor": "white",
            "showbackground": true,
            "ticks": "",
            "zerolinecolor": "white"
           }
          },
          "shapedefaults": {
           "line": {
            "color": "#2a3f5f"
           }
          },
          "ternary": {
           "aaxis": {
            "gridcolor": "white",
            "linecolor": "white",
            "ticks": ""
           },
           "baxis": {
            "gridcolor": "white",
            "linecolor": "white",
            "ticks": ""
           },
           "bgcolor": "#E5ECF6",
           "caxis": {
            "gridcolor": "white",
            "linecolor": "white",
            "ticks": ""
           }
          },
          "title": {
           "x": 0.05
          },
          "xaxis": {
           "automargin": true,
           "gridcolor": "white",
           "linecolor": "white",
           "ticks": "",
           "title": {
            "standoff": 15
           },
           "zerolinecolor": "white",
           "zerolinewidth": 2
          },
          "yaxis": {
           "automargin": true,
           "gridcolor": "white",
           "linecolor": "white",
           "ticks": "",
           "title": {
            "standoff": 15
           },
           "zerolinecolor": "white",
           "zerolinewidth": 2
          }
         }
        },
        "title": {
         "text": "First Picks since 1952"
        },
        "width": 1000,
        "xaxis": {
         "anchor": "y",
         "domain": [
          0,
          1
         ],
         "title": {
          "text": "value"
         }
        },
        "yaxis": {
         "anchor": "x",
         "domain": [
          0,
          1
         ],
         "title": {
          "text": "Player Name"
         }
        }
       }
      },
      "text/html": [
       "<div>                            <div id=\"a2a1ec98-20bc-4596-ae03-289311909941\" class=\"plotly-graph-div\" style=\"height:1500px; width:1000px;\"></div>            <script type=\"text/javascript\">                require([\"plotly\"], function(Plotly) {                    window.PLOTLYENV=window.PLOTLYENV || {};                                    if (document.getElementById(\"a2a1ec98-20bc-4596-ae03-289311909941\")) {                    Plotly.newPlot(                        \"a2a1ec98-20bc-4596-ae03-289311909941\",                        [{\"alignmentgroup\":\"True\",\"hovertemplate\":\"variable=PPG<br>value=%{x}<br>Player Name=%{y}<extra></extra>\",\"legendgroup\":\"PPG\",\"marker\":{\"color\":\"#636efa\",\"pattern\":{\"shape\":\"\"}},\"name\":\"PPG\",\"offsetgroup\":\"PPG\",\"orientation\":\"h\",\"showlegend\":true,\"textposition\":\"auto\",\"type\":\"bar\",\"x\":[5.1,17.6,19.0,8.9,11.5,7.0,24.9,8.4,30.5,31.6,7.4,15.4,15.5,6.8,11.3,8.8,28.4,28.8,15.6,21.2,4.4,8.0,12.8,26.0,11.1,7.7,14.7,18.0,18.9,18.7,13.4,21.0,20.6,20.0,15.7,24.3,16.7,8.0,18.4,19.2,23.4,17.5,21.9,15.3,23.5,21.1,8.9,20.1,12.0,4.5,13.5,20.9,12.0,9.4,11.6,8.9,16.8,22.5,16.4,18.5,13.5,4.2,16.9,18.3,15.8,7.1,16.3,22.5,19.3],\"xaxis\":\"x\",\"y\":[\"Mark Workman-1952\",\"Ray Felix-1953\",\"Frank Selvy-1954\",\"Dick Ricketts-1955\",\"Sihugo Green-1956\",\"Rod Hundley-1957\",\"Elgin Baylor-1958\",\"Bob Boozer-1959\",\"Oscar Robertson-1960\",\"Walt Bellamy-1961\",\"Bill McGill-1962\",\"Art Heyman-1963\",\"Jim Barnes-1964\",\"Fred Hetzel-1965\",\"Cazzie Russell-1966\",\"Jimmy Walker-1967\",\"Elvin Hayes-1968\",\"Lew Alcindor-1969\",\"Bob Lanier-1970\",\"Austin Carr-1971\",\"LaRue Martin-1972\",\"Doug Collins-1973\",\"Bill Walton-1974\",\"David Thompson-1975\",\"John Lucas-1976\",\"Kent Benson-1977\",\"Mychal Thompson-1978\",\"Magic Johnson-1979\",\"Joe Barry Carroll-1980\",\"Mark Aguirre-1981\",\"James Worthy-1982\",\"Ralph Sampson-1983\",\"Akeem Olajuwon-1984\",\"Patrick Ewing-1985\",\"Brad Daugherty-1986\",\"David Robinson-1987\",\"Danny Manning-1988\",\"Pervis Ellison-1989\",\"Derrick Coleman-1990\",\"Larry Johnson-1991\",\"Shaquille O'Neal-1992\",\"Chris Webber-1993\",\"Glenn Robinson-1994\",\"Joe Smith-1995\",\"Allen Iverson-1996\",\"Tim Duncan-1997\",\"Michael Olowokandi-1998\",\"Elton Brand-1999\",\"Kenyon Martin-2000\",\"Kwame Brown-2001\",\"Yao Ming-2002\",\"LeBron James-2003\",\"Dwight Howard-2004\",\"Andrew Bogut-2005\",\"Andrea Bargnani-2006\",\"Greg Oden-2007\",\"Derrick Rose-2008\",\"Blake Griffin-2009\",\"John Wall-2010\",\"Kyrie Irving-2011\",\"Anthony Davis-2012\",\"Anthony Bennett-2013\",\"Andrew Wiggins-2014\",\"Karl-Anthony Towns-2015\",\"Ben Simmons-2016\",\"Markelle Fultz-2017\",\"Deandre Ayton-2018\",\"Zion Williamson-2019\",\"Anthony Edwards-2020\"],\"yaxis\":\"y\"},{\"alignmentgroup\":\"True\",\"hovertemplate\":\"variable=APG<br>value=%{x}<br>Player Name=%{y}<extra></extra>\",\"legendgroup\":\"APG\",\"marker\":{\"color\":\"#EF553B\",\"pattern\":{\"shape\":\"\"}},\"name\":\"APG\",\"offsetgroup\":\"APG\",\"orientation\":\"h\",\"showlegend\":true,\"textposition\":\"auto\",\"type\":\"bar\",\"x\":[0.6,1.1,3.5,3.0,3.6,1.9,4.1,1.4,9.7,2.7,0.6,3.4,1.2,0.5,2.4,2.8,1.4,4.1,1.8,3.4,0.5,1.6,4.8,3.7,5.6,1.4,2.4,7.3,1.4,3.2,1.7,2.0,1.4,2.0,3.8,2.0,3.1,1.9,2.2,3.6,1.9,3.6,2.5,1.0,7.5,2.7,0.6,1.9,1.9,0.8,1.7,5.9,0.9,2.3,0.8,0.5,6.3,3.8,8.3,5.4,1.0,0.3,2.1,2.0,8.2,3.8,1.8,2.1,2.9],\"xaxis\":\"x\",\"y\":[\"Mark Workman-1952\",\"Ray Felix-1953\",\"Frank Selvy-1954\",\"Dick Ricketts-1955\",\"Sihugo Green-1956\",\"Rod Hundley-1957\",\"Elgin Baylor-1958\",\"Bob Boozer-1959\",\"Oscar Robertson-1960\",\"Walt Bellamy-1961\",\"Bill McGill-1962\",\"Art Heyman-1963\",\"Jim Barnes-1964\",\"Fred Hetzel-1965\",\"Cazzie Russell-1966\",\"Jimmy Walker-1967\",\"Elvin Hayes-1968\",\"Lew Alcindor-1969\",\"Bob Lanier-1970\",\"Austin Carr-1971\",\"LaRue Martin-1972\",\"Doug Collins-1973\",\"Bill Walton-1974\",\"David Thompson-1975\",\"John Lucas-1976\",\"Kent Benson-1977\",\"Mychal Thompson-1978\",\"Magic Johnson-1979\",\"Joe Barry Carroll-1980\",\"Mark Aguirre-1981\",\"James Worthy-1982\",\"Ralph Sampson-1983\",\"Akeem Olajuwon-1984\",\"Patrick Ewing-1985\",\"Brad Daugherty-1986\",\"David Robinson-1987\",\"Danny Manning-1988\",\"Pervis Ellison-1989\",\"Derrick Coleman-1990\",\"Larry Johnson-1991\",\"Shaquille O'Neal-1992\",\"Chris Webber-1993\",\"Glenn Robinson-1994\",\"Joe Smith-1995\",\"Allen Iverson-1996\",\"Tim Duncan-1997\",\"Michael Olowokandi-1998\",\"Elton Brand-1999\",\"Kenyon Martin-2000\",\"Kwame Brown-2001\",\"Yao Ming-2002\",\"LeBron James-2003\",\"Dwight Howard-2004\",\"Andrew Bogut-2005\",\"Andrea Bargnani-2006\",\"Greg Oden-2007\",\"Derrick Rose-2008\",\"Blake Griffin-2009\",\"John Wall-2010\",\"Kyrie Irving-2011\",\"Anthony Davis-2012\",\"Anthony Bennett-2013\",\"Andrew Wiggins-2014\",\"Karl-Anthony Towns-2015\",\"Ben Simmons-2016\",\"Markelle Fultz-2017\",\"Deandre Ayton-2018\",\"Zion Williamson-2019\",\"Anthony Edwards-2020\"],\"yaxis\":\"y\"},{\"alignmentgroup\":\"True\",\"hovertemplate\":\"variable=RPG<br>value=%{x}<br>Player Name=%{y}<extra></extra>\",\"legendgroup\":\"RPG\",\"marker\":{\"color\":\"#00cc96\",\"pattern\":{\"shape\":\"\"}},\"name\":\"RPG\",\"offsetgroup\":\"RPG\",\"orientation\":\"h\",\"showlegend\":true,\"textposition\":\"auto\",\"type\":\"bar\",\"x\":[3.0,13.3,5.5,7.2,5.2,2.9,15.0,6.2,10.1,19.0,2.7,4.0,9.7,5.2,3.3,1.7,17.1,14.5,8.1,3.5,4.6,1.8,12.6,6.3,2.7,4.3,8.3,7.7,9.3,4.9,5.2,11.1,11.9,9.0,8.1,12.0,6.6,5.8,10.3,11.0,13.9,9.1,6.4,8.7,4.1,11.9,7.9,10.0,7.4,3.5,8.2,5.5,10.0,7.0,3.9,7.0,3.9,12.1,4.6,3.7,8.2,3.0,4.6,10.4,8.1,3.1,10.3,6.3,4.7],\"xaxis\":\"x\",\"y\":[\"Mark Workman-1952\",\"Ray Felix-1953\",\"Frank Selvy-1954\",\"Dick Ricketts-1955\",\"Sihugo Green-1956\",\"Rod Hundley-1957\",\"Elgin Baylor-1958\",\"Bob Boozer-1959\",\"Oscar Robertson-1960\",\"Walt Bellamy-1961\",\"Bill McGill-1962\",\"Art Heyman-1963\",\"Jim Barnes-1964\",\"Fred Hetzel-1965\",\"Cazzie Russell-1966\",\"Jimmy Walker-1967\",\"Elvin Hayes-1968\",\"Lew Alcindor-1969\",\"Bob Lanier-1970\",\"Austin Carr-1971\",\"LaRue Martin-1972\",\"Doug Collins-1973\",\"Bill Walton-1974\",\"David Thompson-1975\",\"John Lucas-1976\",\"Kent Benson-1977\",\"Mychal Thompson-1978\",\"Magic Johnson-1979\",\"Joe Barry Carroll-1980\",\"Mark Aguirre-1981\",\"James Worthy-1982\",\"Ralph Sampson-1983\",\"Akeem Olajuwon-1984\",\"Patrick Ewing-1985\",\"Brad Daugherty-1986\",\"David Robinson-1987\",\"Danny Manning-1988\",\"Pervis Ellison-1989\",\"Derrick Coleman-1990\",\"Larry Johnson-1991\",\"Shaquille O'Neal-1992\",\"Chris Webber-1993\",\"Glenn Robinson-1994\",\"Joe Smith-1995\",\"Allen Iverson-1996\",\"Tim Duncan-1997\",\"Michael Olowokandi-1998\",\"Elton Brand-1999\",\"Kenyon Martin-2000\",\"Kwame Brown-2001\",\"Yao Ming-2002\",\"LeBron James-2003\",\"Dwight Howard-2004\",\"Andrew Bogut-2005\",\"Andrea Bargnani-2006\",\"Greg Oden-2007\",\"Derrick Rose-2008\",\"Blake Griffin-2009\",\"John Wall-2010\",\"Kyrie Irving-2011\",\"Anthony Davis-2012\",\"Anthony Bennett-2013\",\"Andrew Wiggins-2014\",\"Karl-Anthony Towns-2015\",\"Ben Simmons-2016\",\"Markelle Fultz-2017\",\"Deandre Ayton-2018\",\"Zion Williamson-2019\",\"Anthony Edwards-2020\"],\"yaxis\":\"y\"}],                        {\"barmode\":\"relative\",\"height\":1500,\"legend\":{\"title\":{\"text\":\"variable\"},\"tracegroupgap\":0},\"template\":{\"data\":{\"bar\":[{\"error_x\":{\"color\":\"#2a3f5f\"},\"error_y\":{\"color\":\"#2a3f5f\"},\"marker\":{\"line\":{\"color\":\"#E5ECF6\",\"width\":0.5},\"pattern\":{\"fillmode\":\"overlay\",\"size\":10,\"solidity\":0.2}},\"type\":\"bar\"}],\"barpolar\":[{\"marker\":{\"line\":{\"color\":\"#E5ECF6\",\"width\":0.5},\"pattern\":{\"fillmode\":\"overlay\",\"size\":10,\"solidity\":0.2}},\"type\":\"barpolar\"}],\"carpet\":[{\"aaxis\":{\"endlinecolor\":\"#2a3f5f\",\"gridcolor\":\"white\",\"linecolor\":\"white\",\"minorgridcolor\":\"white\",\"startlinecolor\":\"#2a3f5f\"},\"baxis\":{\"endlinecolor\":\"#2a3f5f\",\"gridcolor\":\"white\",\"linecolor\":\"white\",\"minorgridcolor\":\"white\",\"startlinecolor\":\"#2a3f5f\"},\"type\":\"carpet\"}],\"choropleth\":[{\"colorbar\":{\"outlinewidth\":0,\"ticks\":\"\"},\"type\":\"choropleth\"}],\"contour\":[{\"colorbar\":{\"outlinewidth\":0,\"ticks\":\"\"},\"colorscale\":[[0.0,\"#0d0887\"],[0.1111111111111111,\"#46039f\"],[0.2222222222222222,\"#7201a8\"],[0.3333333333333333,\"#9c179e\"],[0.4444444444444444,\"#bd3786\"],[0.5555555555555556,\"#d8576b\"],[0.6666666666666666,\"#ed7953\"],[0.7777777777777778,\"#fb9f3a\"],[0.8888888888888888,\"#fdca26\"],[1.0,\"#f0f921\"]],\"type\":\"contour\"}],\"contourcarpet\":[{\"colorbar\":{\"outlinewidth\":0,\"ticks\":\"\"},\"type\":\"contourcarpet\"}],\"heatmap\":[{\"colorbar\":{\"outlinewidth\":0,\"ticks\":\"\"},\"colorscale\":[[0.0,\"#0d0887\"],[0.1111111111111111,\"#46039f\"],[0.2222222222222222,\"#7201a8\"],[0.3333333333333333,\"#9c179e\"],[0.4444444444444444,\"#bd3786\"],[0.5555555555555556,\"#d8576b\"],[0.6666666666666666,\"#ed7953\"],[0.7777777777777778,\"#fb9f3a\"],[0.8888888888888888,\"#fdca26\"],[1.0,\"#f0f921\"]],\"type\":\"heatmap\"}],\"heatmapgl\":[{\"colorbar\":{\"outlinewidth\":0,\"ticks\":\"\"},\"colorscale\":[[0.0,\"#0d0887\"],[0.1111111111111111,\"#46039f\"],[0.2222222222222222,\"#7201a8\"],[0.3333333333333333,\"#9c179e\"],[0.4444444444444444,\"#bd3786\"],[0.5555555555555556,\"#d8576b\"],[0.6666666666666666,\"#ed7953\"],[0.7777777777777778,\"#fb9f3a\"],[0.8888888888888888,\"#fdca26\"],[1.0,\"#f0f921\"]],\"type\":\"heatmapgl\"}],\"histogram\":[{\"marker\":{\"pattern\":{\"fillmode\":\"overlay\",\"size\":10,\"solidity\":0.2}},\"type\":\"histogram\"}],\"histogram2d\":[{\"colorbar\":{\"outlinewidth\":0,\"ticks\":\"\"},\"colorscale\":[[0.0,\"#0d0887\"],[0.1111111111111111,\"#46039f\"],[0.2222222222222222,\"#7201a8\"],[0.3333333333333333,\"#9c179e\"],[0.4444444444444444,\"#bd3786\"],[0.5555555555555556,\"#d8576b\"],[0.6666666666666666,\"#ed7953\"],[0.7777777777777778,\"#fb9f3a\"],[0.8888888888888888,\"#fdca26\"],[1.0,\"#f0f921\"]],\"type\":\"histogram2d\"}],\"histogram2dcontour\":[{\"colorbar\":{\"outlinewidth\":0,\"ticks\":\"\"},\"colorscale\":[[0.0,\"#0d0887\"],[0.1111111111111111,\"#46039f\"],[0.2222222222222222,\"#7201a8\"],[0.3333333333333333,\"#9c179e\"],[0.4444444444444444,\"#bd3786\"],[0.5555555555555556,\"#d8576b\"],[0.6666666666666666,\"#ed7953\"],[0.7777777777777778,\"#fb9f3a\"],[0.8888888888888888,\"#fdca26\"],[1.0,\"#f0f921\"]],\"type\":\"histogram2dcontour\"}],\"mesh3d\":[{\"colorbar\":{\"outlinewidth\":0,\"ticks\":\"\"},\"type\":\"mesh3d\"}],\"parcoords\":[{\"line\":{\"colorbar\":{\"outlinewidth\":0,\"ticks\":\"\"}},\"type\":\"parcoords\"}],\"pie\":[{\"automargin\":true,\"type\":\"pie\"}],\"scatter\":[{\"marker\":{\"colorbar\":{\"outlinewidth\":0,\"ticks\":\"\"}},\"type\":\"scatter\"}],\"scatter3d\":[{\"line\":{\"colorbar\":{\"outlinewidth\":0,\"ticks\":\"\"}},\"marker\":{\"colorbar\":{\"outlinewidth\":0,\"ticks\":\"\"}},\"type\":\"scatter3d\"}],\"scattercarpet\":[{\"marker\":{\"colorbar\":{\"outlinewidth\":0,\"ticks\":\"\"}},\"type\":\"scattercarpet\"}],\"scattergeo\":[{\"marker\":{\"colorbar\":{\"outlinewidth\":0,\"ticks\":\"\"}},\"type\":\"scattergeo\"}],\"scattergl\":[{\"marker\":{\"colorbar\":{\"outlinewidth\":0,\"ticks\":\"\"}},\"type\":\"scattergl\"}],\"scattermapbox\":[{\"marker\":{\"colorbar\":{\"outlinewidth\":0,\"ticks\":\"\"}},\"type\":\"scattermapbox\"}],\"scatterpolar\":[{\"marker\":{\"colorbar\":{\"outlinewidth\":0,\"ticks\":\"\"}},\"type\":\"scatterpolar\"}],\"scatterpolargl\":[{\"marker\":{\"colorbar\":{\"outlinewidth\":0,\"ticks\":\"\"}},\"type\":\"scatterpolargl\"}],\"scatterternary\":[{\"marker\":{\"colorbar\":{\"outlinewidth\":0,\"ticks\":\"\"}},\"type\":\"scatterternary\"}],\"surface\":[{\"colorbar\":{\"outlinewidth\":0,\"ticks\":\"\"},\"colorscale\":[[0.0,\"#0d0887\"],[0.1111111111111111,\"#46039f\"],[0.2222222222222222,\"#7201a8\"],[0.3333333333333333,\"#9c179e\"],[0.4444444444444444,\"#bd3786\"],[0.5555555555555556,\"#d8576b\"],[0.6666666666666666,\"#ed7953\"],[0.7777777777777778,\"#fb9f3a\"],[0.8888888888888888,\"#fdca26\"],[1.0,\"#f0f921\"]],\"type\":\"surface\"}],\"table\":[{\"cells\":{\"fill\":{\"color\":\"#EBF0F8\"},\"line\":{\"color\":\"white\"}},\"header\":{\"fill\":{\"color\":\"#C8D4E3\"},\"line\":{\"color\":\"white\"}},\"type\":\"table\"}]},\"layout\":{\"annotationdefaults\":{\"arrowcolor\":\"#2a3f5f\",\"arrowhead\":0,\"arrowwidth\":1},\"autotypenumbers\":\"strict\",\"coloraxis\":{\"colorbar\":{\"outlinewidth\":0,\"ticks\":\"\"}},\"colorscale\":{\"diverging\":[[0,\"#8e0152\"],[0.1,\"#c51b7d\"],[0.2,\"#de77ae\"],[0.3,\"#f1b6da\"],[0.4,\"#fde0ef\"],[0.5,\"#f7f7f7\"],[0.6,\"#e6f5d0\"],[0.7,\"#b8e186\"],[0.8,\"#7fbc41\"],[0.9,\"#4d9221\"],[1,\"#276419\"]],\"sequential\":[[0.0,\"#0d0887\"],[0.1111111111111111,\"#46039f\"],[0.2222222222222222,\"#7201a8\"],[0.3333333333333333,\"#9c179e\"],[0.4444444444444444,\"#bd3786\"],[0.5555555555555556,\"#d8576b\"],[0.6666666666666666,\"#ed7953\"],[0.7777777777777778,\"#fb9f3a\"],[0.8888888888888888,\"#fdca26\"],[1.0,\"#f0f921\"]],\"sequentialminus\":[[0.0,\"#0d0887\"],[0.1111111111111111,\"#46039f\"],[0.2222222222222222,\"#7201a8\"],[0.3333333333333333,\"#9c179e\"],[0.4444444444444444,\"#bd3786\"],[0.5555555555555556,\"#d8576b\"],[0.6666666666666666,\"#ed7953\"],[0.7777777777777778,\"#fb9f3a\"],[0.8888888888888888,\"#fdca26\"],[1.0,\"#f0f921\"]]},\"colorway\":[\"#636efa\",\"#EF553B\",\"#00cc96\",\"#ab63fa\",\"#FFA15A\",\"#19d3f3\",\"#FF6692\",\"#B6E880\",\"#FF97FF\",\"#FECB52\"],\"font\":{\"color\":\"#2a3f5f\"},\"geo\":{\"bgcolor\":\"white\",\"lakecolor\":\"white\",\"landcolor\":\"#E5ECF6\",\"showlakes\":true,\"showland\":true,\"subunitcolor\":\"white\"},\"hoverlabel\":{\"align\":\"left\"},\"hovermode\":\"closest\",\"mapbox\":{\"style\":\"light\"},\"paper_bgcolor\":\"white\",\"plot_bgcolor\":\"#E5ECF6\",\"polar\":{\"angularaxis\":{\"gridcolor\":\"white\",\"linecolor\":\"white\",\"ticks\":\"\"},\"bgcolor\":\"#E5ECF6\",\"radialaxis\":{\"gridcolor\":\"white\",\"linecolor\":\"white\",\"ticks\":\"\"}},\"scene\":{\"xaxis\":{\"backgroundcolor\":\"#E5ECF6\",\"gridcolor\":\"white\",\"gridwidth\":2,\"linecolor\":\"white\",\"showbackground\":true,\"ticks\":\"\",\"zerolinecolor\":\"white\"},\"yaxis\":{\"backgroundcolor\":\"#E5ECF6\",\"gridcolor\":\"white\",\"gridwidth\":2,\"linecolor\":\"white\",\"showbackground\":true,\"ticks\":\"\",\"zerolinecolor\":\"white\"},\"zaxis\":{\"backgroundcolor\":\"#E5ECF6\",\"gridcolor\":\"white\",\"gridwidth\":2,\"linecolor\":\"white\",\"showbackground\":true,\"ticks\":\"\",\"zerolinecolor\":\"white\"}},\"shapedefaults\":{\"line\":{\"color\":\"#2a3f5f\"}},\"ternary\":{\"aaxis\":{\"gridcolor\":\"white\",\"linecolor\":\"white\",\"ticks\":\"\"},\"baxis\":{\"gridcolor\":\"white\",\"linecolor\":\"white\",\"ticks\":\"\"},\"bgcolor\":\"#E5ECF6\",\"caxis\":{\"gridcolor\":\"white\",\"linecolor\":\"white\",\"ticks\":\"\"}},\"title\":{\"x\":0.05},\"xaxis\":{\"automargin\":true,\"gridcolor\":\"white\",\"linecolor\":\"white\",\"ticks\":\"\",\"title\":{\"standoff\":15},\"zerolinecolor\":\"white\",\"zerolinewidth\":2},\"yaxis\":{\"automargin\":true,\"gridcolor\":\"white\",\"linecolor\":\"white\",\"ticks\":\"\",\"title\":{\"standoff\":15},\"zerolinecolor\":\"white\",\"zerolinewidth\":2}}},\"title\":{\"text\":\"First Picks since 1952\"},\"width\":1000,\"xaxis\":{\"anchor\":\"y\",\"domain\":[0.0,1.0],\"title\":{\"text\":\"value\"}},\"yaxis\":{\"anchor\":\"x\",\"domain\":[0.0,1.0],\"title\":{\"text\":\"Player Name\"}}},                        {\"responsive\": true}                    ).then(function(){\n",
       "                            \n",
       "var gd = document.getElementById('a2a1ec98-20bc-4596-ae03-289311909941');\n",
       "var x = new MutationObserver(function (mutations, observer) {{\n",
       "        var display = window.getComputedStyle(gd).display;\n",
       "        if (!display || display === 'none') {{\n",
       "            console.log([gd, 'removed!']);\n",
       "            Plotly.purge(gd);\n",
       "            observer.disconnect();\n",
       "        }}\n",
       "}});\n",
       "\n",
       "// Listen for the removal of the full notebook cells\n",
       "var notebookContainer = gd.closest('#notebook-container');\n",
       "if (notebookContainer) {{\n",
       "    x.observe(notebookContainer, {childList: true});\n",
       "}}\n",
       "\n",
       "// Listen for the clearing of the current output cell\n",
       "var outputEl = gd.closest('.output');\n",
       "if (outputEl) {{\n",
       "    x.observe(outputEl, {childList: true});\n",
       "}}\n",
       "\n",
       "                        })                };                });            </script>        </div>"
      ]
     },
     "metadata": {},
     "output_type": "display_data"
    }
   ],
   "source": [
    "import plotly.express as px\n",
    "\n",
    "fig = px.bar(first_pick, y=\"player\", x=[\"PPG\", \"APG\", \"RPG\"], title=\"First Picks since 1952\",width=1000, height=1500, labels=dict(player=\"Player Name\"))\n",
    "fig.show()"
   ]
  },
  {
   "cell_type": "code",
   "execution_count": 19,
   "id": "6ff63a45",
   "metadata": {
    "scrolled": false
   },
   "outputs": [],
   "source": [
    "first_pick_10=first_pick[-10:]"
   ]
  },
  {
   "cell_type": "code",
   "execution_count": 20,
   "id": "43ee3032",
   "metadata": {
    "scrolled": true
   },
   "outputs": [],
   "source": [
    "import plotly.graph_objects as go"
   ]
  },
  {
   "cell_type": "code",
   "execution_count": 60,
   "id": "99756650",
   "metadata": {
    "scrolled": true
   },
   "outputs": [
    {
     "data": {
      "application/vnd.plotly.v1+json": {
       "config": {
        "plotlyServerURL": "https://plot.ly"
       },
       "data": [
        {
         "name": "Points Per Game",
         "type": "bar",
         "x": [
          "Kyrie Irving-2011",
          "Anthony Davis-2012",
          "Anthony Bennett-2013",
          "Andrew Wiggins-2014",
          "Karl-Anthony Towns-2015",
          "Ben Simmons-2016",
          "Markelle Fultz-2017",
          "Deandre Ayton-2018",
          "Zion Williamson-2019",
          "Anthony Edwards-2020"
         ],
         "y": [
          18.5,
          13.5,
          4.2,
          16.9,
          18.3,
          15.8,
          7.1,
          16.3,
          22.5,
          19.3
         ]
        },
        {
         "name": "Points Per Game",
         "type": "bar",
         "x": [
          "Kyrie Irving-2011",
          "Anthony Davis-2012",
          "Anthony Bennett-2013",
          "Andrew Wiggins-2014",
          "Karl-Anthony Towns-2015",
          "Ben Simmons-2016",
          "Markelle Fultz-2017",
          "Deandre Ayton-2018",
          "Zion Williamson-2019",
          "Anthony Edwards-2020"
         ],
         "y": [
          5.4,
          1,
          0.3,
          2.1,
          2,
          8.2,
          3.8,
          1.8,
          2.1,
          2.9
         ]
        },
        {
         "marker": {
          "color": "black"
         },
         "name": "Rebounds Per Game",
         "type": "bar",
         "x": [
          "Kyrie Irving-2011",
          "Anthony Davis-2012",
          "Anthony Bennett-2013",
          "Andrew Wiggins-2014",
          "Karl-Anthony Towns-2015",
          "Ben Simmons-2016",
          "Markelle Fultz-2017",
          "Deandre Ayton-2018",
          "Zion Williamson-2019",
          "Anthony Edwards-2020"
         ],
         "y": [
          3.7,
          8.2,
          3,
          4.6,
          10.4,
          8.1,
          3.1,
          10.3,
          6.3,
          4.7
         ]
        }
       ],
       "layout": {
        "barmode": "group",
        "template": {
         "data": {
          "bar": [
           {
            "error_x": {
             "color": "#2a3f5f"
            },
            "error_y": {
             "color": "#2a3f5f"
            },
            "marker": {
             "line": {
              "color": "#E5ECF6",
              "width": 0.5
             },
             "pattern": {
              "fillmode": "overlay",
              "size": 10,
              "solidity": 0.2
             }
            },
            "type": "bar"
           }
          ],
          "barpolar": [
           {
            "marker": {
             "line": {
              "color": "#E5ECF6",
              "width": 0.5
             },
             "pattern": {
              "fillmode": "overlay",
              "size": 10,
              "solidity": 0.2
             }
            },
            "type": "barpolar"
           }
          ],
          "carpet": [
           {
            "aaxis": {
             "endlinecolor": "#2a3f5f",
             "gridcolor": "white",
             "linecolor": "white",
             "minorgridcolor": "white",
             "startlinecolor": "#2a3f5f"
            },
            "baxis": {
             "endlinecolor": "#2a3f5f",
             "gridcolor": "white",
             "linecolor": "white",
             "minorgridcolor": "white",
             "startlinecolor": "#2a3f5f"
            },
            "type": "carpet"
           }
          ],
          "choropleth": [
           {
            "colorbar": {
             "outlinewidth": 0,
             "ticks": ""
            },
            "type": "choropleth"
           }
          ],
          "contour": [
           {
            "colorbar": {
             "outlinewidth": 0,
             "ticks": ""
            },
            "colorscale": [
             [
              0,
              "#0d0887"
             ],
             [
              0.1111111111111111,
              "#46039f"
             ],
             [
              0.2222222222222222,
              "#7201a8"
             ],
             [
              0.3333333333333333,
              "#9c179e"
             ],
             [
              0.4444444444444444,
              "#bd3786"
             ],
             [
              0.5555555555555556,
              "#d8576b"
             ],
             [
              0.6666666666666666,
              "#ed7953"
             ],
             [
              0.7777777777777778,
              "#fb9f3a"
             ],
             [
              0.8888888888888888,
              "#fdca26"
             ],
             [
              1,
              "#f0f921"
             ]
            ],
            "type": "contour"
           }
          ],
          "contourcarpet": [
           {
            "colorbar": {
             "outlinewidth": 0,
             "ticks": ""
            },
            "type": "contourcarpet"
           }
          ],
          "heatmap": [
           {
            "colorbar": {
             "outlinewidth": 0,
             "ticks": ""
            },
            "colorscale": [
             [
              0,
              "#0d0887"
             ],
             [
              0.1111111111111111,
              "#46039f"
             ],
             [
              0.2222222222222222,
              "#7201a8"
             ],
             [
              0.3333333333333333,
              "#9c179e"
             ],
             [
              0.4444444444444444,
              "#bd3786"
             ],
             [
              0.5555555555555556,
              "#d8576b"
             ],
             [
              0.6666666666666666,
              "#ed7953"
             ],
             [
              0.7777777777777778,
              "#fb9f3a"
             ],
             [
              0.8888888888888888,
              "#fdca26"
             ],
             [
              1,
              "#f0f921"
             ]
            ],
            "type": "heatmap"
           }
          ],
          "heatmapgl": [
           {
            "colorbar": {
             "outlinewidth": 0,
             "ticks": ""
            },
            "colorscale": [
             [
              0,
              "#0d0887"
             ],
             [
              0.1111111111111111,
              "#46039f"
             ],
             [
              0.2222222222222222,
              "#7201a8"
             ],
             [
              0.3333333333333333,
              "#9c179e"
             ],
             [
              0.4444444444444444,
              "#bd3786"
             ],
             [
              0.5555555555555556,
              "#d8576b"
             ],
             [
              0.6666666666666666,
              "#ed7953"
             ],
             [
              0.7777777777777778,
              "#fb9f3a"
             ],
             [
              0.8888888888888888,
              "#fdca26"
             ],
             [
              1,
              "#f0f921"
             ]
            ],
            "type": "heatmapgl"
           }
          ],
          "histogram": [
           {
            "marker": {
             "pattern": {
              "fillmode": "overlay",
              "size": 10,
              "solidity": 0.2
             }
            },
            "type": "histogram"
           }
          ],
          "histogram2d": [
           {
            "colorbar": {
             "outlinewidth": 0,
             "ticks": ""
            },
            "colorscale": [
             [
              0,
              "#0d0887"
             ],
             [
              0.1111111111111111,
              "#46039f"
             ],
             [
              0.2222222222222222,
              "#7201a8"
             ],
             [
              0.3333333333333333,
              "#9c179e"
             ],
             [
              0.4444444444444444,
              "#bd3786"
             ],
             [
              0.5555555555555556,
              "#d8576b"
             ],
             [
              0.6666666666666666,
              "#ed7953"
             ],
             [
              0.7777777777777778,
              "#fb9f3a"
             ],
             [
              0.8888888888888888,
              "#fdca26"
             ],
             [
              1,
              "#f0f921"
             ]
            ],
            "type": "histogram2d"
           }
          ],
          "histogram2dcontour": [
           {
            "colorbar": {
             "outlinewidth": 0,
             "ticks": ""
            },
            "colorscale": [
             [
              0,
              "#0d0887"
             ],
             [
              0.1111111111111111,
              "#46039f"
             ],
             [
              0.2222222222222222,
              "#7201a8"
             ],
             [
              0.3333333333333333,
              "#9c179e"
             ],
             [
              0.4444444444444444,
              "#bd3786"
             ],
             [
              0.5555555555555556,
              "#d8576b"
             ],
             [
              0.6666666666666666,
              "#ed7953"
             ],
             [
              0.7777777777777778,
              "#fb9f3a"
             ],
             [
              0.8888888888888888,
              "#fdca26"
             ],
             [
              1,
              "#f0f921"
             ]
            ],
            "type": "histogram2dcontour"
           }
          ],
          "mesh3d": [
           {
            "colorbar": {
             "outlinewidth": 0,
             "ticks": ""
            },
            "type": "mesh3d"
           }
          ],
          "parcoords": [
           {
            "line": {
             "colorbar": {
              "outlinewidth": 0,
              "ticks": ""
             }
            },
            "type": "parcoords"
           }
          ],
          "pie": [
           {
            "automargin": true,
            "type": "pie"
           }
          ],
          "scatter": [
           {
            "marker": {
             "colorbar": {
              "outlinewidth": 0,
              "ticks": ""
             }
            },
            "type": "scatter"
           }
          ],
          "scatter3d": [
           {
            "line": {
             "colorbar": {
              "outlinewidth": 0,
              "ticks": ""
             }
            },
            "marker": {
             "colorbar": {
              "outlinewidth": 0,
              "ticks": ""
             }
            },
            "type": "scatter3d"
           }
          ],
          "scattercarpet": [
           {
            "marker": {
             "colorbar": {
              "outlinewidth": 0,
              "ticks": ""
             }
            },
            "type": "scattercarpet"
           }
          ],
          "scattergeo": [
           {
            "marker": {
             "colorbar": {
              "outlinewidth": 0,
              "ticks": ""
             }
            },
            "type": "scattergeo"
           }
          ],
          "scattergl": [
           {
            "marker": {
             "colorbar": {
              "outlinewidth": 0,
              "ticks": ""
             }
            },
            "type": "scattergl"
           }
          ],
          "scattermapbox": [
           {
            "marker": {
             "colorbar": {
              "outlinewidth": 0,
              "ticks": ""
             }
            },
            "type": "scattermapbox"
           }
          ],
          "scatterpolar": [
           {
            "marker": {
             "colorbar": {
              "outlinewidth": 0,
              "ticks": ""
             }
            },
            "type": "scatterpolar"
           }
          ],
          "scatterpolargl": [
           {
            "marker": {
             "colorbar": {
              "outlinewidth": 0,
              "ticks": ""
             }
            },
            "type": "scatterpolargl"
           }
          ],
          "scatterternary": [
           {
            "marker": {
             "colorbar": {
              "outlinewidth": 0,
              "ticks": ""
             }
            },
            "type": "scatterternary"
           }
          ],
          "surface": [
           {
            "colorbar": {
             "outlinewidth": 0,
             "ticks": ""
            },
            "colorscale": [
             [
              0,
              "#0d0887"
             ],
             [
              0.1111111111111111,
              "#46039f"
             ],
             [
              0.2222222222222222,
              "#7201a8"
             ],
             [
              0.3333333333333333,
              "#9c179e"
             ],
             [
              0.4444444444444444,
              "#bd3786"
             ],
             [
              0.5555555555555556,
              "#d8576b"
             ],
             [
              0.6666666666666666,
              "#ed7953"
             ],
             [
              0.7777777777777778,
              "#fb9f3a"
             ],
             [
              0.8888888888888888,
              "#fdca26"
             ],
             [
              1,
              "#f0f921"
             ]
            ],
            "type": "surface"
           }
          ],
          "table": [
           {
            "cells": {
             "fill": {
              "color": "#EBF0F8"
             },
             "line": {
              "color": "white"
             }
            },
            "header": {
             "fill": {
              "color": "#C8D4E3"
             },
             "line": {
              "color": "white"
             }
            },
            "type": "table"
           }
          ]
         },
         "layout": {
          "annotationdefaults": {
           "arrowcolor": "#2a3f5f",
           "arrowhead": 0,
           "arrowwidth": 1
          },
          "autotypenumbers": "strict",
          "coloraxis": {
           "colorbar": {
            "outlinewidth": 0,
            "ticks": ""
           }
          },
          "colorscale": {
           "diverging": [
            [
             0,
             "#8e0152"
            ],
            [
             0.1,
             "#c51b7d"
            ],
            [
             0.2,
             "#de77ae"
            ],
            [
             0.3,
             "#f1b6da"
            ],
            [
             0.4,
             "#fde0ef"
            ],
            [
             0.5,
             "#f7f7f7"
            ],
            [
             0.6,
             "#e6f5d0"
            ],
            [
             0.7,
             "#b8e186"
            ],
            [
             0.8,
             "#7fbc41"
            ],
            [
             0.9,
             "#4d9221"
            ],
            [
             1,
             "#276419"
            ]
           ],
           "sequential": [
            [
             0,
             "#0d0887"
            ],
            [
             0.1111111111111111,
             "#46039f"
            ],
            [
             0.2222222222222222,
             "#7201a8"
            ],
            [
             0.3333333333333333,
             "#9c179e"
            ],
            [
             0.4444444444444444,
             "#bd3786"
            ],
            [
             0.5555555555555556,
             "#d8576b"
            ],
            [
             0.6666666666666666,
             "#ed7953"
            ],
            [
             0.7777777777777778,
             "#fb9f3a"
            ],
            [
             0.8888888888888888,
             "#fdca26"
            ],
            [
             1,
             "#f0f921"
            ]
           ],
           "sequentialminus": [
            [
             0,
             "#0d0887"
            ],
            [
             0.1111111111111111,
             "#46039f"
            ],
            [
             0.2222222222222222,
             "#7201a8"
            ],
            [
             0.3333333333333333,
             "#9c179e"
            ],
            [
             0.4444444444444444,
             "#bd3786"
            ],
            [
             0.5555555555555556,
             "#d8576b"
            ],
            [
             0.6666666666666666,
             "#ed7953"
            ],
            [
             0.7777777777777778,
             "#fb9f3a"
            ],
            [
             0.8888888888888888,
             "#fdca26"
            ],
            [
             1,
             "#f0f921"
            ]
           ]
          },
          "colorway": [
           "#636efa",
           "#EF553B",
           "#00cc96",
           "#ab63fa",
           "#FFA15A",
           "#19d3f3",
           "#FF6692",
           "#B6E880",
           "#FF97FF",
           "#FECB52"
          ],
          "font": {
           "color": "#2a3f5f"
          },
          "geo": {
           "bgcolor": "white",
           "lakecolor": "white",
           "landcolor": "#E5ECF6",
           "showlakes": true,
           "showland": true,
           "subunitcolor": "white"
          },
          "hoverlabel": {
           "align": "left"
          },
          "hovermode": "closest",
          "mapbox": {
           "style": "light"
          },
          "paper_bgcolor": "white",
          "plot_bgcolor": "#E5ECF6",
          "polar": {
           "angularaxis": {
            "gridcolor": "white",
            "linecolor": "white",
            "ticks": ""
           },
           "bgcolor": "#E5ECF6",
           "radialaxis": {
            "gridcolor": "white",
            "linecolor": "white",
            "ticks": ""
           }
          },
          "scene": {
           "xaxis": {
            "backgroundcolor": "#E5ECF6",
            "gridcolor": "white",
            "gridwidth": 2,
            "linecolor": "white",
            "showbackground": true,
            "ticks": "",
            "zerolinecolor": "white"
           },
           "yaxis": {
            "backgroundcolor": "#E5ECF6",
            "gridcolor": "white",
            "gridwidth": 2,
            "linecolor": "white",
            "showbackground": true,
            "ticks": "",
            "zerolinecolor": "white"
           },
           "zaxis": {
            "backgroundcolor": "#E5ECF6",
            "gridcolor": "white",
            "gridwidth": 2,
            "linecolor": "white",
            "showbackground": true,
            "ticks": "",
            "zerolinecolor": "white"
           }
          },
          "shapedefaults": {
           "line": {
            "color": "#2a3f5f"
           }
          },
          "ternary": {
           "aaxis": {
            "gridcolor": "white",
            "linecolor": "white",
            "ticks": ""
           },
           "baxis": {
            "gridcolor": "white",
            "linecolor": "white",
            "ticks": ""
           },
           "bgcolor": "#E5ECF6",
           "caxis": {
            "gridcolor": "white",
            "linecolor": "white",
            "ticks": ""
           }
          },
          "title": {
           "x": 0.05
          },
          "xaxis": {
           "automargin": true,
           "gridcolor": "white",
           "linecolor": "white",
           "ticks": "",
           "title": {
            "standoff": 15
           },
           "zerolinecolor": "white",
           "zerolinewidth": 2
          },
          "yaxis": {
           "automargin": true,
           "gridcolor": "white",
           "linecolor": "white",
           "ticks": "",
           "title": {
            "standoff": 15
           },
           "zerolinecolor": "white",
           "zerolinewidth": 2
          }
         }
        },
        "title": {
         "text": "First pick over the last 10 years"
        }
       }
      },
      "text/html": [
       "<div>                            <div id=\"47d2a188-6f78-4fd4-94f9-f6d2a360f824\" class=\"plotly-graph-div\" style=\"height:525px; width:100%;\"></div>            <script type=\"text/javascript\">                require([\"plotly\"], function(Plotly) {                    window.PLOTLYENV=window.PLOTLYENV || {};                                    if (document.getElementById(\"47d2a188-6f78-4fd4-94f9-f6d2a360f824\")) {                    Plotly.newPlot(                        \"47d2a188-6f78-4fd4-94f9-f6d2a360f824\",                        [{\"name\":\"Points Per Game\",\"type\":\"bar\",\"x\":[\"Kyrie Irving-2011\",\"Anthony Davis-2012\",\"Anthony Bennett-2013\",\"Andrew Wiggins-2014\",\"Karl-Anthony Towns-2015\",\"Ben Simmons-2016\",\"Markelle Fultz-2017\",\"Deandre Ayton-2018\",\"Zion Williamson-2019\",\"Anthony Edwards-2020\"],\"y\":[18.5,13.5,4.2,16.9,18.3,15.8,7.1,16.3,22.5,19.3]},{\"name\":\"Points Per Game\",\"type\":\"bar\",\"x\":[\"Kyrie Irving-2011\",\"Anthony Davis-2012\",\"Anthony Bennett-2013\",\"Andrew Wiggins-2014\",\"Karl-Anthony Towns-2015\",\"Ben Simmons-2016\",\"Markelle Fultz-2017\",\"Deandre Ayton-2018\",\"Zion Williamson-2019\",\"Anthony Edwards-2020\"],\"y\":[5.4,1.0,0.3,2.1,2.0,8.2,3.8,1.8,2.1,2.9]},{\"marker\":{\"color\":\"black\"},\"name\":\"Rebounds Per Game\",\"type\":\"bar\",\"x\":[\"Kyrie Irving-2011\",\"Anthony Davis-2012\",\"Anthony Bennett-2013\",\"Andrew Wiggins-2014\",\"Karl-Anthony Towns-2015\",\"Ben Simmons-2016\",\"Markelle Fultz-2017\",\"Deandre Ayton-2018\",\"Zion Williamson-2019\",\"Anthony Edwards-2020\"],\"y\":[3.7,8.2,3.0,4.6,10.4,8.1,3.1,10.3,6.3,4.7]}],                        {\"barmode\":\"group\",\"template\":{\"data\":{\"bar\":[{\"error_x\":{\"color\":\"#2a3f5f\"},\"error_y\":{\"color\":\"#2a3f5f\"},\"marker\":{\"line\":{\"color\":\"#E5ECF6\",\"width\":0.5},\"pattern\":{\"fillmode\":\"overlay\",\"size\":10,\"solidity\":0.2}},\"type\":\"bar\"}],\"barpolar\":[{\"marker\":{\"line\":{\"color\":\"#E5ECF6\",\"width\":0.5},\"pattern\":{\"fillmode\":\"overlay\",\"size\":10,\"solidity\":0.2}},\"type\":\"barpolar\"}],\"carpet\":[{\"aaxis\":{\"endlinecolor\":\"#2a3f5f\",\"gridcolor\":\"white\",\"linecolor\":\"white\",\"minorgridcolor\":\"white\",\"startlinecolor\":\"#2a3f5f\"},\"baxis\":{\"endlinecolor\":\"#2a3f5f\",\"gridcolor\":\"white\",\"linecolor\":\"white\",\"minorgridcolor\":\"white\",\"startlinecolor\":\"#2a3f5f\"},\"type\":\"carpet\"}],\"choropleth\":[{\"colorbar\":{\"outlinewidth\":0,\"ticks\":\"\"},\"type\":\"choropleth\"}],\"contour\":[{\"colorbar\":{\"outlinewidth\":0,\"ticks\":\"\"},\"colorscale\":[[0.0,\"#0d0887\"],[0.1111111111111111,\"#46039f\"],[0.2222222222222222,\"#7201a8\"],[0.3333333333333333,\"#9c179e\"],[0.4444444444444444,\"#bd3786\"],[0.5555555555555556,\"#d8576b\"],[0.6666666666666666,\"#ed7953\"],[0.7777777777777778,\"#fb9f3a\"],[0.8888888888888888,\"#fdca26\"],[1.0,\"#f0f921\"]],\"type\":\"contour\"}],\"contourcarpet\":[{\"colorbar\":{\"outlinewidth\":0,\"ticks\":\"\"},\"type\":\"contourcarpet\"}],\"heatmap\":[{\"colorbar\":{\"outlinewidth\":0,\"ticks\":\"\"},\"colorscale\":[[0.0,\"#0d0887\"],[0.1111111111111111,\"#46039f\"],[0.2222222222222222,\"#7201a8\"],[0.3333333333333333,\"#9c179e\"],[0.4444444444444444,\"#bd3786\"],[0.5555555555555556,\"#d8576b\"],[0.6666666666666666,\"#ed7953\"],[0.7777777777777778,\"#fb9f3a\"],[0.8888888888888888,\"#fdca26\"],[1.0,\"#f0f921\"]],\"type\":\"heatmap\"}],\"heatmapgl\":[{\"colorbar\":{\"outlinewidth\":0,\"ticks\":\"\"},\"colorscale\":[[0.0,\"#0d0887\"],[0.1111111111111111,\"#46039f\"],[0.2222222222222222,\"#7201a8\"],[0.3333333333333333,\"#9c179e\"],[0.4444444444444444,\"#bd3786\"],[0.5555555555555556,\"#d8576b\"],[0.6666666666666666,\"#ed7953\"],[0.7777777777777778,\"#fb9f3a\"],[0.8888888888888888,\"#fdca26\"],[1.0,\"#f0f921\"]],\"type\":\"heatmapgl\"}],\"histogram\":[{\"marker\":{\"pattern\":{\"fillmode\":\"overlay\",\"size\":10,\"solidity\":0.2}},\"type\":\"histogram\"}],\"histogram2d\":[{\"colorbar\":{\"outlinewidth\":0,\"ticks\":\"\"},\"colorscale\":[[0.0,\"#0d0887\"],[0.1111111111111111,\"#46039f\"],[0.2222222222222222,\"#7201a8\"],[0.3333333333333333,\"#9c179e\"],[0.4444444444444444,\"#bd3786\"],[0.5555555555555556,\"#d8576b\"],[0.6666666666666666,\"#ed7953\"],[0.7777777777777778,\"#fb9f3a\"],[0.8888888888888888,\"#fdca26\"],[1.0,\"#f0f921\"]],\"type\":\"histogram2d\"}],\"histogram2dcontour\":[{\"colorbar\":{\"outlinewidth\":0,\"ticks\":\"\"},\"colorscale\":[[0.0,\"#0d0887\"],[0.1111111111111111,\"#46039f\"],[0.2222222222222222,\"#7201a8\"],[0.3333333333333333,\"#9c179e\"],[0.4444444444444444,\"#bd3786\"],[0.5555555555555556,\"#d8576b\"],[0.6666666666666666,\"#ed7953\"],[0.7777777777777778,\"#fb9f3a\"],[0.8888888888888888,\"#fdca26\"],[1.0,\"#f0f921\"]],\"type\":\"histogram2dcontour\"}],\"mesh3d\":[{\"colorbar\":{\"outlinewidth\":0,\"ticks\":\"\"},\"type\":\"mesh3d\"}],\"parcoords\":[{\"line\":{\"colorbar\":{\"outlinewidth\":0,\"ticks\":\"\"}},\"type\":\"parcoords\"}],\"pie\":[{\"automargin\":true,\"type\":\"pie\"}],\"scatter\":[{\"marker\":{\"colorbar\":{\"outlinewidth\":0,\"ticks\":\"\"}},\"type\":\"scatter\"}],\"scatter3d\":[{\"line\":{\"colorbar\":{\"outlinewidth\":0,\"ticks\":\"\"}},\"marker\":{\"colorbar\":{\"outlinewidth\":0,\"ticks\":\"\"}},\"type\":\"scatter3d\"}],\"scattercarpet\":[{\"marker\":{\"colorbar\":{\"outlinewidth\":0,\"ticks\":\"\"}},\"type\":\"scattercarpet\"}],\"scattergeo\":[{\"marker\":{\"colorbar\":{\"outlinewidth\":0,\"ticks\":\"\"}},\"type\":\"scattergeo\"}],\"scattergl\":[{\"marker\":{\"colorbar\":{\"outlinewidth\":0,\"ticks\":\"\"}},\"type\":\"scattergl\"}],\"scattermapbox\":[{\"marker\":{\"colorbar\":{\"outlinewidth\":0,\"ticks\":\"\"}},\"type\":\"scattermapbox\"}],\"scatterpolar\":[{\"marker\":{\"colorbar\":{\"outlinewidth\":0,\"ticks\":\"\"}},\"type\":\"scatterpolar\"}],\"scatterpolargl\":[{\"marker\":{\"colorbar\":{\"outlinewidth\":0,\"ticks\":\"\"}},\"type\":\"scatterpolargl\"}],\"scatterternary\":[{\"marker\":{\"colorbar\":{\"outlinewidth\":0,\"ticks\":\"\"}},\"type\":\"scatterternary\"}],\"surface\":[{\"colorbar\":{\"outlinewidth\":0,\"ticks\":\"\"},\"colorscale\":[[0.0,\"#0d0887\"],[0.1111111111111111,\"#46039f\"],[0.2222222222222222,\"#7201a8\"],[0.3333333333333333,\"#9c179e\"],[0.4444444444444444,\"#bd3786\"],[0.5555555555555556,\"#d8576b\"],[0.6666666666666666,\"#ed7953\"],[0.7777777777777778,\"#fb9f3a\"],[0.8888888888888888,\"#fdca26\"],[1.0,\"#f0f921\"]],\"type\":\"surface\"}],\"table\":[{\"cells\":{\"fill\":{\"color\":\"#EBF0F8\"},\"line\":{\"color\":\"white\"}},\"header\":{\"fill\":{\"color\":\"#C8D4E3\"},\"line\":{\"color\":\"white\"}},\"type\":\"table\"}]},\"layout\":{\"annotationdefaults\":{\"arrowcolor\":\"#2a3f5f\",\"arrowhead\":0,\"arrowwidth\":1},\"autotypenumbers\":\"strict\",\"coloraxis\":{\"colorbar\":{\"outlinewidth\":0,\"ticks\":\"\"}},\"colorscale\":{\"diverging\":[[0,\"#8e0152\"],[0.1,\"#c51b7d\"],[0.2,\"#de77ae\"],[0.3,\"#f1b6da\"],[0.4,\"#fde0ef\"],[0.5,\"#f7f7f7\"],[0.6,\"#e6f5d0\"],[0.7,\"#b8e186\"],[0.8,\"#7fbc41\"],[0.9,\"#4d9221\"],[1,\"#276419\"]],\"sequential\":[[0.0,\"#0d0887\"],[0.1111111111111111,\"#46039f\"],[0.2222222222222222,\"#7201a8\"],[0.3333333333333333,\"#9c179e\"],[0.4444444444444444,\"#bd3786\"],[0.5555555555555556,\"#d8576b\"],[0.6666666666666666,\"#ed7953\"],[0.7777777777777778,\"#fb9f3a\"],[0.8888888888888888,\"#fdca26\"],[1.0,\"#f0f921\"]],\"sequentialminus\":[[0.0,\"#0d0887\"],[0.1111111111111111,\"#46039f\"],[0.2222222222222222,\"#7201a8\"],[0.3333333333333333,\"#9c179e\"],[0.4444444444444444,\"#bd3786\"],[0.5555555555555556,\"#d8576b\"],[0.6666666666666666,\"#ed7953\"],[0.7777777777777778,\"#fb9f3a\"],[0.8888888888888888,\"#fdca26\"],[1.0,\"#f0f921\"]]},\"colorway\":[\"#636efa\",\"#EF553B\",\"#00cc96\",\"#ab63fa\",\"#FFA15A\",\"#19d3f3\",\"#FF6692\",\"#B6E880\",\"#FF97FF\",\"#FECB52\"],\"font\":{\"color\":\"#2a3f5f\"},\"geo\":{\"bgcolor\":\"white\",\"lakecolor\":\"white\",\"landcolor\":\"#E5ECF6\",\"showlakes\":true,\"showland\":true,\"subunitcolor\":\"white\"},\"hoverlabel\":{\"align\":\"left\"},\"hovermode\":\"closest\",\"mapbox\":{\"style\":\"light\"},\"paper_bgcolor\":\"white\",\"plot_bgcolor\":\"#E5ECF6\",\"polar\":{\"angularaxis\":{\"gridcolor\":\"white\",\"linecolor\":\"white\",\"ticks\":\"\"},\"bgcolor\":\"#E5ECF6\",\"radialaxis\":{\"gridcolor\":\"white\",\"linecolor\":\"white\",\"ticks\":\"\"}},\"scene\":{\"xaxis\":{\"backgroundcolor\":\"#E5ECF6\",\"gridcolor\":\"white\",\"gridwidth\":2,\"linecolor\":\"white\",\"showbackground\":true,\"ticks\":\"\",\"zerolinecolor\":\"white\"},\"yaxis\":{\"backgroundcolor\":\"#E5ECF6\",\"gridcolor\":\"white\",\"gridwidth\":2,\"linecolor\":\"white\",\"showbackground\":true,\"ticks\":\"\",\"zerolinecolor\":\"white\"},\"zaxis\":{\"backgroundcolor\":\"#E5ECF6\",\"gridcolor\":\"white\",\"gridwidth\":2,\"linecolor\":\"white\",\"showbackground\":true,\"ticks\":\"\",\"zerolinecolor\":\"white\"}},\"shapedefaults\":{\"line\":{\"color\":\"#2a3f5f\"}},\"ternary\":{\"aaxis\":{\"gridcolor\":\"white\",\"linecolor\":\"white\",\"ticks\":\"\"},\"baxis\":{\"gridcolor\":\"white\",\"linecolor\":\"white\",\"ticks\":\"\"},\"bgcolor\":\"#E5ECF6\",\"caxis\":{\"gridcolor\":\"white\",\"linecolor\":\"white\",\"ticks\":\"\"}},\"title\":{\"x\":0.05},\"xaxis\":{\"automargin\":true,\"gridcolor\":\"white\",\"linecolor\":\"white\",\"ticks\":\"\",\"title\":{\"standoff\":15},\"zerolinecolor\":\"white\",\"zerolinewidth\":2},\"yaxis\":{\"automargin\":true,\"gridcolor\":\"white\",\"linecolor\":\"white\",\"ticks\":\"\",\"title\":{\"standoff\":15},\"zerolinecolor\":\"white\",\"zerolinewidth\":2}}},\"title\":{\"text\":\"First pick over the last 10 years\"}},                        {\"responsive\": true}                    ).then(function(){\n",
       "                            \n",
       "var gd = document.getElementById('47d2a188-6f78-4fd4-94f9-f6d2a360f824');\n",
       "var x = new MutationObserver(function (mutations, observer) {{\n",
       "        var display = window.getComputedStyle(gd).display;\n",
       "        if (!display || display === 'none') {{\n",
       "            console.log([gd, 'removed!']);\n",
       "            Plotly.purge(gd);\n",
       "            observer.disconnect();\n",
       "        }}\n",
       "}});\n",
       "\n",
       "// Listen for the removal of the full notebook cells\n",
       "var notebookContainer = gd.closest('#notebook-container');\n",
       "if (notebookContainer) {{\n",
       "    x.observe(notebookContainer, {childList: true});\n",
       "}}\n",
       "\n",
       "// Listen for the clearing of the current output cell\n",
       "var outputEl = gd.closest('.output');\n",
       "if (outputEl) {{\n",
       "    x.observe(outputEl, {childList: true});\n",
       "}}\n",
       "\n",
       "                        })                };                });            </script>        </div>"
      ]
     },
     "metadata": {},
     "output_type": "display_data"
    }
   ],
   "source": [
    "fig = go.Figure(data=[\n",
    "    go.Bar(name='Points Per Game', x=first_pick_10['player'], y=first_pick_10['PPG'],),\n",
    "    go.Bar(name='Points Per Game', x=first_pick_10['player'], y=first_pick_10['APG']),\n",
    "    go.Bar(name='Rebounds Per Game', x=first_pick_10['player'], y=first_pick_10['RPG'],  marker_color = 'black')])\n",
    "fig.update_layout(barmode='group',title=\"First pick over the last 10 years\")\n",
    "\n",
    "fig.show()"
   ]
  },
  {
   "cell_type": "code",
   "execution_count": null,
   "id": "b54ff08b",
   "metadata": {},
   "outputs": [],
   "source": []
  }
 ],
 "metadata": {
  "kernelspec": {
   "display_name": "Python 3",
   "language": "python",
   "name": "python3"
  },
  "language_info": {
   "codemirror_mode": {
    "name": "ipython",
    "version": 3
   },
   "file_extension": ".py",
   "mimetype": "text/x-python",
   "name": "python",
   "nbconvert_exporter": "python",
   "pygments_lexer": "ipython3",
   "version": "3.8.8"
  }
 },
 "nbformat": 4,
 "nbformat_minor": 5
}
